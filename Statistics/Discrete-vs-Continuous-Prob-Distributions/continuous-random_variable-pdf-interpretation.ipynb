{
 "cells": [
  {
   "cell_type": "markdown",
   "metadata": {
    "collapsed": false
   },
   "source": [
    "Probability Density Function for Discrete and Continuous Random Variable in context of Data Science \n"
   ]
  },
  {
   "cell_type": "code",
   "execution_count": 5,
   "metadata": {
    "collapsed": true,
    "pycharm": {
     "name": "#%%\n"
    }
   },
   "outputs": [],
   "source": [
    "import numpy as np\n",
    "import scipy.stats as stats\n",
    "import numpy as np\n",
    "import matplotlib.pyplot as plt"
   ]
  },
  {
   "cell_type": "markdown",
   "metadata": {
    "collapsed": false,
    "pycharm": {
     "name": "#%% md\n"
    }
   },
   "source": [
    "- np.linspace() function\n",
    "\n",
    " This is one the most often used function in DataScience and here I am using it for creating numeric sequences for the horizontal axis. We will use `np.linspace(start, stop, num)` to generate equally spaced numbers between `start` and `end`. I.e. creates sequences of evenly spaced numbers structured as a NumPy array.\n",
    "\n",
    " Essentally, you specify a starting point and an ending point of an interval, and then specify the total number of breakpoints (i.e. the number of items to generate) you want within that interval (including the start and end points). The np.linspace() function will return a sequence of evenly spaced values on that interval.\n",
    "\n",
    "    Parameters :\n",
    "\n",
    "- start  : [optional] start of interval range. By default start = 0\n",
    "- stop   : end of interval range\n",
    "- restep : If True, return (samples, step). By default restep = False\n",
    "- num    : [int, optional] No. of samples to generate\n",
    "- dtype  : type of output array\n",
    "\n",
    "  The relevant values for our case seem to be between 0.3 and 1.75:\n",
    "\n",
    "  `np.linspace(0.3, 1.75, 500)`. These will serve as the horizontal (x) values for the plot."
   ]
  },
  {
   "cell_type": "code",
   "execution_count": 6,
   "metadata": {
    "collapsed": false,
    "pycharm": {
     "name": "#%%\n"
    }
   },
   "outputs": [
    {
     "data": {
      "image/png": "[encoded data removed]",
      "text/plain": [
       "<Figure size 432x288 with 1 Axes>"
      ]
     },
     "metadata": {
      "needs_background": "light"
     },
     "output_type": "display_data"
    }
   ],
   "source": [
    "distribution = np.linspace(0.3, 1.75, 500)\n",
    "# print(\"Distribution : \\n\", distribution)\n",
    "probability = stats.norm.pdf(distribution, 1.075, 0.2)\n",
    "plt.plot(distribution, probability)\n",
    "plt.show()"
   ]
  },
  {
   "cell_type": "markdown",
   "metadata": {
    "collapsed": false
   },
   "source": [
    "- `scipy.stats.norm()` is a normal continuous random variable.\n",
    "\n",
    "- `scipy.stats.norm.pdf()` - It calculates probability distribution function for normal distribution given mean and standard-deviation.\n",
    "Specifically it computes: the value of the pdf at point x for a given mu (2-nd parameter) and sigma (third parameter).\n",
    "\n",
    "Note pdf in this case means, likelihood that a random sample X will be near the given value x for a given mean (mu) and standard deviation (sigma).\n",
    "\n",
    "[![enter image description here][1]][1]\n",
    "\n",
    "  [1]: http://i.stack.imgur.com/XwgLg.gif\n",
    "\n",
    "- plt.plot() function - It Plots y (second parameter) versus x (first parameter) as lines and/or markers.\n",
    "\n",
    "https://matplotlib.org/3.3.1/api/_as_gen/matplotlib.pyplot.plot.html\n",
    "\n",
    "Further on plt.plot() function - https://www.datacamp.com/community/tutorials/matplotlib-tutorial-python\n",
    "\n",
    "### From the above plot of the curve, how is it even possible to have 200% probability to get the mean, 1.075? So fundamentally, what does a probability density at point 𝒙 mean?\n",
    "\n",
    "**Ans -**\n",
    "\n",
    "Isn’t the PDF f(x) a probability?\n",
    "\n",
    "No. Because f(x) can be greater than 1.\n",
    "\n",
    "Probability density function's value at some specific point does not give you probability; it is a measure of how dense the distribution is around that value. It means how much probability is concentrated per unit length (d𝒙) near 𝒙, or how dense the probability is near 𝒙.\n",
    "\n",
    "Probability density function's value at some specific point does not give you probability; it is a measure of how dense the distribution is around that value.\n",
    "\n",
    "And also the `scipy.stats.norm.pdf()` function does not give a probability (= area under the pdf) but rather the value of the pdf at the point x you pass to pdf(x) (and that value can very well be greater than 1.0"
   ]
  }
 ],
 "metadata": {
  "kernelspec": {
   "display_name": "PyCharm (pro-machine-learning-algorithms-master)",
   "language": "python",
   "name": "pycharm-8ad3ec83"
  },
  "language_info": {
   "codemirror_mode": {
    "name": "ipython",
    "version": 2
   },
   "file_extension": ".py",
   "mimetype": "text/x-python",
   "name": "python",
   "nbconvert_exporter": "python",
   "pygments_lexer": "ipython2",
   "version": "2.7.6"
  }
 },
 "nbformat": 4,
 "nbformat_minor": 2
}
