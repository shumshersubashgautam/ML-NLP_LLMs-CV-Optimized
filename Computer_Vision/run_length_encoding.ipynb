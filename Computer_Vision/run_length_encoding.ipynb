{
 "cells": [
  {
   "cell_type": "code",
   "execution_count": 1,
   "metadata": {},
   "outputs": [],
   "source": [
    "import numpy as np"
   ]
  },
  {
   "cell_type": "code",
   "execution_count": 2,
   "metadata": {},
   "outputs": [],
   "source": [
    "import numpy as np\n",
    "\n",
    "# https://www.kaggle.com/code/paulorzp/rle-functions-run-lenght-encode-decode/script\n",
    "def rle_encode(masked_image):\n",
    "    '''\n",
    "    \"\"\"\n",
    "    Run-length encoding of a masked image.\n",
    "    \n",
    "    Args:\n",
    "        masked_image (numpy.ndarray): Masked image where 1 represents the object and 0 represents the background.\n",
    "    \n",
    "    Returns:\n",
    "        str: Run length as string formated\n",
    "    \"\"\"\n",
    "    \n",
    "    img: numpy array, 1 - mask, 0 - background\n",
    "    \n",
    "    '''\n",
    "    pixels = masked_image.flatten()\n",
    "    # Now take an example image represented by the following array\n",
    "    # np.asarray([[0, 0, 0, 0], [0, 0, 1, 1], [0, 0, 1, 1], [0, 0, 0, 0]]\n",
    "    # on this above array I will check the output of various lines for this code implementation    \n",
    "    # print('Flatten pixels ', pixels) # [0 0 0 0 0 0 1 1 0 0 1 1 0 0 0 0]\n",
    "    \n",
    "    # We avoid issues with '1' at the start or end (at the corners of \n",
    "    # the original image) by setting those pixels to '0' explicitly.\n",
    "    # We do not expect these to be non-zero for an accurate mask, \n",
    "    # so this should not harm the score.\n",
    "    pixels = np.concatenate([[0], pixels, [0]])\n",
    "    \n",
    "    # print(len(pixels)) # 18\n",
    "    # print(len(pixels[1:])) # 17\n",
    "    # print(len(pixels[:-1]))\n",
    "    \n",
    "    # print(pixels[1:]) # [0 0 0 0 0 0 1 1 0 0 1 1 0 0 0 0 0]\n",
    "    \n",
    "    # print(np.where(pixels[1:] != pixels[:-1])[0]) # [ 6  8 10 12]\n",
    "    # pixels[1:] => Here I am taking the array except the first element and also \n",
    "    # pixels[:-1] => Here, the array except the last element. Reason below, \n",
    "    # I am skipping the very first value, as I have earlier added that extra 0 at the \n",
    "    # beginning and at the end\n",
    "    \n",
    "    # runs include indices to wherever 0s change to 1s or 1s change to 0s\n",
    "    # print('where condition:', pixels[1:] != pixels[:-1])\n",
    "    # [False False False False False False True False True False True False True False False False False]\n",
    "    \n",
    "    \n",
    "    runs = np.where(pixels[1:] != pixels[:-1])[0] + 1\n",
    "    print('final runs ', runs) # [ 7  9 11 13]\n",
    "    \n",
    "    ''' the purpose of adding 1 here is to make sure that the indices point to\n",
    "    the very first 1s or 0s of the 1s or 0s, this is needed because\n",
    "    np.where gets the indices of elements before changing '''\n",
    "    \n",
    "    # print('runs[1::2] ', runs[1::2]) # [ 9 13]\n",
    "    # runs[1::2] --> runs[start:stop:step], thus 2 here is the step\n",
    "    # thus runs[1::2] includes the indices of the changing from 1 to 0\n",
    "    \n",
    "    print(\"runs[::2] \", runs[::2]) # [ 7 11]\n",
    "    # runs[::2] includes the indices for the changing from 0 to 1\n",
    "    \n",
    "    \n",
    "    # the length of 1s\n",
    "    print('runs[1::2]-runs[::2]:', runs[1::2] - runs[::2])\n",
    "    \n",
    "    # So now starting from index 1, replace every alternate postion with { runs[1::2] - runs[::2] }\n",
    "    runs[1::2] -= runs[::2]\n",
    "    \n",
    "    \n",
    "    \n",
    "    # print(\"runs \", runs) # [ 7  2 11  2]\n",
    "    \n",
    "    return ' '.join(str(x) for x in runs)"
   ]
  },
  {
   "attachments": {},
   "cell_type": "markdown",
   "metadata": {},
   "source": [
    "The function first flattens the masked image into a 1D array called pixels.\n",
    "\n",
    "Then, an extra 0 is added at the beginning and the end of the pixels array to avoid issues with '1' at the corners of the original image.\n",
    "\n",
    "The function finds the indices where the values of pixels change from 0 to 1 or from 1 to 0 using the np.where function. The resulting indices are stored in the runs array.\n",
    "\n",
    "To ensure that the indices point to the very first 1s or 0s, the function adjusts the indices by subtracting the values from the previous indices. This is done by subtracting runs[::2] from runs[1::2].\n",
    "\n",
    "Finally, the function converts the values in the runs array to strings and joins them with spaces using ' '.join() to obtain the run-length encoded representation of the masked image."
   ]
  },
  {
   "cell_type": "code",
   "execution_count": 3,
   "metadata": {},
   "outputs": [
    {
     "name": "stdout",
     "output_type": "stream",
     "text": [
      "final runs  [ 7  9 11 13]\n",
      "runs[::2]  [ 7 11]\n",
      "runs[1::2]-runs[::2]: [2 2]\n"
     ]
    },
    {
     "data": {
      "text/plain": [
       "'7 2 11 2'"
      ]
     },
     "execution_count": 3,
     "metadata": {},
     "output_type": "execute_result"
    }
   ],
   "source": [
    "test_mask = np.asarray([[0, 0, 0, 0], [0, 0, 1, 1], [0, 0, 1, 1], [0, 0, 0, 0]]) # Final RLE => '7 2 11 2'\n",
    "\n",
    "rle_encode(test_mask)"
   ]
  }
 ],
 "metadata": {
  "interpreter": {
   "hash": "36cf16204b8548560b1c020c4e8fb5b57f0e4c58016f52f2d4be01e192833930"
  },
  "kernelspec": {
   "display_name": "Python 3.9.12 64-bit",
   "language": "python",
   "name": "python3"
  },
  "language_info": {
   "codemirror_mode": {
    "name": "ipython",
    "version": 3
   },
   "file_extension": ".py",
   "mimetype": "text/x-python",
   "name": "python",
   "nbconvert_exporter": "python",
   "pygments_lexer": "ipython3",
   "version": "3.9.12"
  },
  "orig_nbformat": 4
 },
 "nbformat": 4,
 "nbformat_minor": 2
}
