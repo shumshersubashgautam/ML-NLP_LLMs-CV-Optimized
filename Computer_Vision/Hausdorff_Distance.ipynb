{
 "cells": [
  {
   "attachments": {},
   "cell_type": "markdown",
   "metadata": {},
   "source": [
    "## Hausdorff Distance Calculation\n",
    "---\n",
    "\n",
    "![Imgur](https://imgur.com/dbMgra3.png)\n",
    "\n",
    "## The Hausdorff distance is defined as the maximum of all minimum distances between two curves. \n",
    "\n",
    "### The Hausdorff distance is the longest distance you can be forced to travel by an adversary who chooses a point in one of the two sets, from where you then must travel to the other set. In other words, it is the greatest of all the distances from a point in one set to the closest point in the other set. - [Source Wikipedia](https://en.wikipedia.org/wiki/Hausdorff_distance)\n",
    "\n",
    "The Hausdorff distance measures the difference between two subsets of a metric space. Intuitively, a metric space is just some set with a built-in distance function;\n",
    "\n",
    "### Hausdorff distance is the greatest of all the distances from a point in one set to the closest point in the other set."
   ]
  },
  {
   "cell_type": "code",
   "execution_count": 1,
   "metadata": {},
   "outputs": [],
   "source": [
    "import numpy as np\n",
    "from hausdorff import hausdorff_distance"
   ]
  },
  {
   "cell_type": "code",
   "execution_count": 2,
   "metadata": {},
   "outputs": [
    {
     "name": "stdout",
     "output_type": "stream",
     "text": [
      "(1000, 100)\n",
      "(5000, 100)\n"
     ]
    }
   ],
   "source": [
    "# two random 2D arrays (second dimension must match)\n",
    "np.random.seed(0)\n",
    "\n",
    "X = np.random.random((1000,100))\n",
    "Y = np.random.random((5000,100))\n",
    "\n",
    "print(X.shape)\n",
    "print(Y.shape)"
   ]
  },
  {
   "cell_type": "code",
   "execution_count": 3,
   "metadata": {},
   "outputs": [
    {
     "name": "stdout",
     "output_type": "stream",
     "text": [
      "Hausdorff distance test: 29.195107161831146\n",
      "Hausdorff distance test: 3.668161325513714\n",
      "Hausdorff distance test: 0.8289005532480906\n",
      "Hausdorff distance test: 0.21390438319461313\n"
     ]
    }
   ],
   "source": [
    "# Test computation of Hausdorff distance with different base distances\n",
    "print(f\"Hausdorff distance test: {hausdorff_distance(X, Y, distance='manhattan')}\")\n",
    "print(f\"Hausdorff distance test: {hausdorff_distance(X, Y, distance='euclidean')}\")\n",
    "print(f\"Hausdorff distance test: {hausdorff_distance(X, Y, distance='chebyshev')}\")\n",
    "print(f\"Hausdorff distance test: {hausdorff_distance(X, Y, distance='cosine')}\")"
   ]
  },
  {
   "cell_type": "code",
   "execution_count": 4,
   "metadata": {},
   "outputs": [
    {
     "name": "stdout",
     "output_type": "stream",
     "text": [
      "Hausdorff custom crazy test: 3.668161325513714\n"
     ]
    }
   ],
   "source": [
    "import numba\n",
    "import numpy as np\n",
    "from math import sqrt\n",
    "from hausdorff import hausdorff_distance\n",
    "\n",
    "@numba.jit(nopython=True, fastmath=True)\n",
    "\n",
    "def custom_dist(array_x, array_y):\n",
    "    \"\"\"\n",
    "    Custom distance function used in the BiCycleGAN project.\n",
    "    \n",
    "    Args:\n",
    "        array_x (numpy.ndarray): Input array X.\n",
    "        array_y (numpy.ndarray): Input array Y.\n",
    "    \n",
    "    Returns:\n",
    "        float: Custom distance between array_x and array_y.\n",
    "    \"\"\"\n",
    "    n = array_x.shape[0]\n",
    "    ret = 0.\n",
    "    for i in range(n):\n",
    "        ret += (array_x[i]-array_y[i])**2\n",
    "    return sqrt(ret)\n",
    "\n",
    "print(f\"Hausdorff custom crazy test: {hausdorff_distance(X, Y, distance=custom_dist)}\")"
   ]
  },
  {
   "cell_type": "code",
   "execution_count": 5,
   "metadata": {},
   "outputs": [
    {
     "name": "stdout",
     "output_type": "stream",
     "text": [
      "Hausdorff custom crazy test: 0.08700612847006414\n"
     ]
    }
   ],
   "source": [
    "# a real crazy custom function\n",
    "@numba.jit(nopython=True, fastmath=True)\n",
    "\n",
    "def custom_dist(array_x, array_y):\n",
    "    \"\"\"\n",
    "    Custom distance function used in the BiCycleGAN project.\n",
    "    \n",
    "    Args:\n",
    "        array_x (numpy.ndarray): Input array X.\n",
    "        array_y (numpy.ndarray): Input array Y.\n",
    "    \n",
    "    Returns:\n",
    "        float: Custom distance between array_x and array_y.\n",
    "    \"\"\"\n",
    "    n = array_x.shape[0]\n",
    "    ret = 0.\n",
    "    for i in range(n):\n",
    "        ret += (array_x[i]-array_y[i])**3 / (array_x[i]**2 + array_y[i]**2 + 0.1)\n",
    "    return ret\n",
    "\n",
    "print(f\"Hausdorff custom crazy test: {hausdorff_distance(X, Y, distance=custom_dist)}\")"
   ]
  },
  {
   "attachments": {},
   "cell_type": "markdown",
   "metadata": {},
   "source": [
    "This custom formula incorporates cubic differences between corresponding elements and normalization terms based on the squares of the elements.\n",
    "\n",
    "The @numba.jit decorator is used to compile the function using the Numba library, which provides just-in-time (JIT) compilation for improved performance. The nopython=True option ensures that the function is compiled to optimized machine code, and fastmath=True allows the compiler to use faster, less accurate math operations."
   ]
  },
  {
   "attachments": {},
   "cell_type": "markdown",
   "metadata": {},
   "source": [
    "## Calculating Hausdorff with Scipy and monai"
   ]
  },
  {
   "cell_type": "code",
   "execution_count": 8,
   "metadata": {},
   "outputs": [],
   "source": [
    "from scipy.spatial.distance import directed_hausdorff\n",
    "from monai.metrics.utils import get_mask_edges, get_surface_distance"
   ]
  },
  {
   "cell_type": "code",
   "execution_count": 9,
   "metadata": {},
   "outputs": [],
   "source": [
    "def calculate_hausdorff_scipy(pred, gt, max_dist):\n",
    "     \"\"\"\n",
    "    Calculates the Hausdorff distance using the SciPy library.\n",
    "    \n",
    "    Args:\n",
    "        pred (numpy.ndarray): Predicted binary mask.\n",
    "        gt (numpy.ndarray): Ground truth binary mask.\n",
    "        max_dist (float): Maximum distance threshold.\n",
    "    \n",
    "    Returns:\n",
    "        float: Hausdorff distance normalized by the maximum distance.\n",
    "    \"\"\"\n",
    "    if np.all(pred == gt):\n",
    "        return 0.0\n",
    "    dist = directed_hausdorff(np.argwhere(pred), np.argwhere(gt))[0]\n",
    "    \n",
    "    if dist > max_dist:\n",
    "        return 1.0\n",
    "    return dist / max_dist\n",
    "        "
   ]
  },
  {
   "cell_type": "code",
   "execution_count": 30,
   "metadata": {},
   "outputs": [],
   "source": [
    "def calculate_hausdorff_monai(pred, gt, max_dist):\n",
    "    \"\"\"\n",
    "    Calculates the Hausdorff distance using the MONAI library.\n",
    "    \n",
    "    Args:\n",
    "        pred (numpy.ndarray): Predicted binary mask.\n",
    "        gt (numpy.ndarray): Ground truth binary mask.\n",
    "        max_dist (float): Maximum distance threshold.\n",
    "    \n",
    "    Returns:\n",
    "        float: Hausdorff distance normalized by the maximum distance.\n",
    "    \"\"\"\n",
    "    if np.all(pred == gt):\n",
    "        return 0.0\n",
    "    (edges_pred, edges_gt) = get_mask_edges(pred, gt)\n",
    "    \n",
    "    surface_distance = get_surface_distance(edges_pred, edges_gt, distance_metric=\"euclidean\")\n",
    "    \n",
    "    if surface_distance.shape == (0,):\n",
    "        return 0.0\n",
    "    dist = surface_distance.max()\n",
    "    if dist > max_dist:\n",
    "        return 1.0\n",
    "    return dist / max_dist"
   ]
  },
  {
   "cell_type": "code",
   "execution_count": 31,
   "metadata": {},
   "outputs": [
    {
     "name": "stdout",
     "output_type": "stream",
     "text": [
      "0.0009765625\n",
      "0.0009765625\n"
     ]
    }
   ],
   "source": [
    "random_tensor_shape = (128, 128)\n",
    "\n",
    "max_distance = np.sqrt(random_tensor_shape[0] ** 3 + random_tensor_shape[1] ** 3 ) \n",
    "\n",
    "pred = np.random.randint(0, high=2, size=random_tensor_shape)\n",
    "gt_vector = np.random.randint(0, high=2, size=random_tensor_shape)\n",
    "\n",
    "print(calculate_hausdorff_scipy(pred, gt_vector, max_distance))\n",
    "print(calculate_hausdorff_monai(pred, gt_vector, max_distance))\n",
    "\n",
    "\n"
   ]
  },
  {
   "attachments": {},
   "cell_type": "markdown",
   "metadata": {},
   "source": [
    "### Check Execution time of scipy vs monai for calculating the Hausdorff Distance"
   ]
  },
  {
   "cell_type": "code",
   "execution_count": 32,
   "metadata": {},
   "outputs": [
    {
     "name": "stdout",
     "output_type": "stream",
     "text": [
      "2.832296133041382\n"
     ]
    }
   ],
   "source": [
    "import time\n",
    "start = time.time()\n",
    "\n",
    "for i in range(100):\n",
    "    calculate_hausdorff_scipy(pred, gt_vector, max_distance)\n",
    "    \n",
    "scipy_time = time.time() - start\n",
    "\n",
    "print(scipy_time)"
   ]
  },
  {
   "cell_type": "code",
   "execution_count": 33,
   "metadata": {},
   "outputs": [
    {
     "name": "stdout",
     "output_type": "stream",
     "text": [
      "0.2039167881011963\n"
     ]
    }
   ],
   "source": [
    "start = time.time()\n",
    "\n",
    "for i in range(100):\n",
    "    calculate_hausdorff_monai(pred, gt_vector, max_distance)\n",
    "    \n",
    "monai_time = time.time() - start\n",
    "\n",
    "print(monai_time)"
   ]
  },
  {
   "cell_type": "code",
   "execution_count": 34,
   "metadata": {},
   "outputs": [
    {
     "data": {
      "text/plain": [
       "13.889470108933939"
      ]
     },
     "execution_count": 34,
     "metadata": {},
     "output_type": "execute_result"
    }
   ],
   "source": [
    "scipy_time / monai_time"
   ]
  },
  {
   "attachments": {},
   "cell_type": "markdown",
   "metadata": {},
   "source": [
    "## PyTorch Implementation"
   ]
  },
  {
   "cell_type": "code",
   "execution_count": 49,
   "metadata": {},
   "outputs": [],
   "source": [
    "import torch\n",
    "\n",
    "def hausdorff_2d_torch(x, y):\n",
    "    \"\"\"\n",
    "    Calculates the Hausdorff distance between two 2D point sets using PyTorch.\n",
    "    \n",
    "    Args:\n",
    "        x (torch.Tensor): Input tensor of shape (batch_size, num_points_x, 2).\n",
    "        y (torch.Tensor): Input tensor of shape (batch_size, num_points_y, 2).\n",
    "    \n",
    "    Returns:\n",
    "        torch.Tensor: The Hausdorff distance between the point sets of shape (batch_size,).\n",
    "     \"\"\"\n",
    "    x = x.float()\n",
    "    y = y.float()\n",
    "    \n",
    "    distance_tensor = torch.cdist(x, y, p=2)\n",
    "    \n",
    "    \n",
    "    value1 = distance_tensor.min(2)[0].max(1, keepdim=True)[0]\n",
    "    value2 = distance_tensor.min(1)[1].max(1, keepdim=True)[0]\n",
    "\n",
    "    value = torch.cat((value1, value2), dim=1)\n",
    "    \n",
    "    return value.max(1)[0]"
   ]
  },
  {
   "attachments": {},
   "cell_type": "markdown",
   "metadata": {},
   "source": [
    "In this code, the hausdorff_2d_torch function calculates the Hausdorff distance between two sets of 2D points using PyTorch.\n",
    "\n",
    "Next, it computes the pairwise distances between all points in x and y using the torch.cdist function with p=2, which corresponds to the Euclidean distance."
   ]
  },
  {
   "cell_type": "code",
   "execution_count": 50,
   "metadata": {},
   "outputs": [],
   "source": [
    "a = torch.randn(2, 3, 4)\n",
    "b = torch.randn(2, 3, 4)\n",
    "# print(a)\n",
    "# print(b)\n"
   ]
  },
  {
   "cell_type": "code",
   "execution_count": 51,
   "metadata": {},
   "outputs": [
    {
     "name": "stdout",
     "output_type": "stream",
     "text": [
      "Hausdorff Distance is  tensor([3.0079, 3.5724])\n"
     ]
    }
   ],
   "source": [
    "print('Hausdorff Distance is ', hausdorff_2d_torch(a, b) )"
   ]
  }
 ],
 "metadata": {
  "interpreter": {
   "hash": "36cf16204b8548560b1c020c4e8fb5b57f0e4c58016f52f2d4be01e192833930"
  },
  "kernelspec": {
   "display_name": "Python 3.9.12 64-bit",
   "language": "python",
   "name": "python3"
  },
  "language_info": {
   "codemirror_mode": {
    "name": "ipython",
    "version": 3
   },
   "file_extension": ".py",
   "mimetype": "text/x-python",
   "name": "python",
   "nbconvert_exporter": "python",
   "pygments_lexer": "ipython3",
   "version": "3.9.12"
  },
  "orig_nbformat": 4
 },
 "nbformat": 4,
 "nbformat_minor": 2
}
