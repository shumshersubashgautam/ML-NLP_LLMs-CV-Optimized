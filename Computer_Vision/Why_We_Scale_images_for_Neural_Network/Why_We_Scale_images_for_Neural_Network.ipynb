{
 "cells": [
  {
   "attachments": {},
   "cell_type": "markdown",
   "metadata": {},
   "source": [
    "## Why We Scale images for Neural Network\n",
    "\n",
    "Fashion-MNIST dataset consists of a training set of 60,000 examples and a test set of 10,000 examples. Each example is a 28x28 grayscale image, associated with a label from 10 classes\n",
    "\n",
    "\n",
    "\n"
   ]
  },
  {
   "cell_type": "code",
   "execution_count": 13,
   "metadata": {},
   "outputs": [],
   "source": [
    "import warnings\n",
    "warnings.filterwarnings('ignore')\n",
    "import torch\n",
    "import torch.nn as nn\n",
    "from torch.utils.data import Dataset, DataLoader\n",
    "import torchvision\n",
    "from torchvision import datasets\n",
    "import matplotlib.pyplot as plt\n",
    "from torchvision import transforms\n",
    "import numpy as np\n",
    "\n",
    "# Configuration of CUDA (GPU support for PyTorch) that can be used while loading the data.\n",
    "# And later to my __getitem__ function I will pass this device variable\n",
    "# device = \"cuda\" if torch.cuda.is_available() else \"cpu\"\n",
    "\n",
    "# In my case, although I have PyTorch recognizable NVIDIA GPU and so torch.cuda.is_available()\n",
    "# will return TRUE, but my GPU's computer capability is < 3.5 and so will NOT work with PyTorch\n",
    "device = \"cpu\""
   ]
  },
  {
   "cell_type": "code",
   "execution_count": 14,
   "metadata": {},
   "outputs": [],
   "source": [
    "\n",
    "root_input_dataset_dir = './input_dataset'\n",
    "\n",
    "fmnist = torchvision.datasets.FashionMNIST(root_input_dataset_dir, download=True, train=True)\n",
    "# fmnist = torchvision.root_input_dataset_dir.FashionMNIST(root_input_dataset_dir, download=True, train=True, transform=transforms.ToTensor())"
   ]
  },
  {
   "cell_type": "code",
   "execution_count": 15,
   "metadata": {},
   "outputs": [
    {
     "name": "stdout",
     "output_type": "stream",
     "text": [
      "img.size  (28, 28)\n",
      "label  9\n"
     ]
    },
    {
     "data": {
      "text/plain": [
       "<matplotlib.image.AxesImage at 0x7fd5f1d96250>"
      ]
     },
     "execution_count": 15,
     "metadata": {},
     "output_type": "execute_result"
    },
    {
     "data": {
      "image/png": "[encoded data removed]",
      "text/plain": [
       "<Figure size 432x288 with 1 Axes>"
      ]
     },
     "metadata": {
      "needs_background": "light"
     },
     "output_type": "display_data"
    }
   ],
   "source": [
    "\n",
    "img, label = fmnist[0] # You’ll get a tuple with a Pillow image and an integer label back:\n",
    "print(\"img.size \", img.size)\n",
    "print(\"label \", label)\n",
    "plt.imshow(img)"
   ]
  },
  {
   "cell_type": "code",
   "execution_count": 16,
   "metadata": {},
   "outputs": [],
   "source": [
    "# store the images and the labels\n",
    "train_images = fmnist.data\n",
    "train_img_targets = fmnist.targets"
   ]
  },
  {
   "attachments": {},
   "cell_type": "markdown",
   "metadata": {},
   "source": [
    "Check any random single image from the train_images dataset."
   ]
  },
  {
   "cell_type": "code",
   "execution_count": 17,
   "metadata": {},
   "outputs": [],
   "source": [
    "class DatasetTransformer(Dataset):\n",
    "  \"\"\" \n",
    "  Dataset transformer class for converting input data and labels into a PyTorch dataset.\n",
    "\n",
    "    Parameters:\n",
    "    - x (torch.Tensor): Input data tensor.\n",
    "    - y (torch.Tensor): Target label tensor.    \n",
    "  \"\"\"\n",
    "  def __init__(self, x, y):\n",
    "    \"\"\" Initialize the DatasetTransformer.\n",
    "\n",
    "        Parameters:\n",
    "        - x (torch.Tensor): Input data tensor.\n",
    "        - y (torch.Tensor): Target label tensor. \"\"\"  \n",
    "    # converting the input into a floating-point number \n",
    "    # x = x.float()\n",
    "    \n",
    "    # And also scale them to the range of [0,1]\n",
    "    # This can be achieved by dividing all pixels values by the largest pixel value; that is 255. \n",
    "    # This is performed across all channels, regardless of the actual range of pixel values that are present in the image.\n",
    "    x = x.float()/255\n",
    "    \n",
    "    # flattened each image into 28*28 = 784 numeric values\n",
    "    # where each numeric value corresponds to a pixel value\n",
    "    x = x.view(-1, 28 * 28)\n",
    "    self.x, self.y = x, y    \n",
    "    \n",
    "    \n",
    "  # __getitem__ function returns a sample from the dataset given an index.\n",
    "  def __getitem__(self, index):\n",
    "    \"\"\" Get a sample from the dataset given an index.\n",
    "\n",
    "        Parameters:\n",
    "        - index (int): Index of the sample to retrieve.\n",
    "\n",
    "        Returns:\n",
    "        - x (torch.Tensor): Input data tensor.\n",
    "        - y (torch.Tensor): Target label tensor. \"\"\"  \n",
    "    x, y = self.x[index], self.y[index]    \n",
    "    # It is necessary to have both the model, and the data on the same device, \n",
    "    # either CPU or GPU, for the model to process data. \n",
    "    # Data on CPU and model on GPU, or vice-versa, will result in a Runtime error.\n",
    "    # to(device) => this method will move the tensor or model to the specified device.\n",
    "    return x.to(device), y.to(device)\n",
    "    \n",
    "  # __len__ function which returns the size of the dataset, \n",
    "  def __len__(self):\n",
    "    \"\"\"  Get the size of the dataset.\n",
    "\n",
    "        Returns:\n",
    "        - length (int): Size of the dataset. \"\"\"\n",
    "    return len(self.x)\n",
    "  "
   ]
  },
  {
   "attachments": {},
   "cell_type": "markdown",
   "metadata": {},
   "source": [
    "Create a function that generates a training DataLoader – train_dataloader from the dataset. This will sample 32 data points at random for the batch size:"
   ]
  },
  {
   "cell_type": "code",
   "execution_count": 18,
   "metadata": {},
   "outputs": [],
   "source": [
    "def load_data():\n",
    "  train_data = DatasetTransformer(train_images, train_img_targets)\n",
    "  train_loaded_data = DataLoader(train_data, batch_size=32, shuffle=True)\n",
    "  return train_loaded_data"
   ]
  },
  {
   "attachments": {},
   "cell_type": "markdown",
   "metadata": {},
   "source": [
    "The 32 in above is coming because I have stated `batch_size=32` in DataLoader\n",
    "\n",
    "And the 784 is coming because, I have taken the 1 * 28 * 28 size image and flattened it to 784 inside the `__init__` function"
   ]
  },
  {
   "cell_type": "code",
   "execution_count": 19,
   "metadata": {},
   "outputs": [],
   "source": [
    "from torch.optim import SGD\n",
    "\n",
    "def run_model():\n",
    "  model = nn.Sequential(\n",
    "    nn.Linear(28 * 28,  1000),\n",
    "    nn.ReLU(),\n",
    "    nn.Linear(1000, 10)\n",
    "  ).to(device)\n",
    "  \n",
    "  loss_fn = nn.CrossEntropyLoss()\n",
    "  optimizer = SGD(model.parameters(), lr=0.01)\n",
    "  return model, loss_fn, optimizer"
   ]
  },
  {
   "cell_type": "code",
   "execution_count": 20,
   "metadata": {},
   "outputs": [],
   "source": [
    "def trainer_each_batch(x, y, model, optimizer, loss_fn):\n",
    "    model.train()\n",
    "    # call model on the batch of inputs\n",
    "    # `model.train()` tells your model that you are training the model. \n",
    "    # So BatchNorm layers use per-batch statistics and Dropout layers are activated etc\n",
    "    # Forward pass: Compute predicted y by passing x to the model\n",
    "    prediction = model(x) \n",
    "    # \"prediction = model(x)\" executes forward propagation over x \n",
    "    \n",
    "    # compute loss\n",
    "    loss_for_this_batch = loss_fn(prediction, y)\n",
    "    \n",
    "    # based on the forward pass in `model(x)` compute all the gradients of model.parameters()\n",
    "    # loss.backward() computes dloss/dx for every parameter x \n",
    "    # which has requires_grad=True. These are accumulated into x.grad for every parameter x.\n",
    "    # In pseudo-code:\n",
    "    # x.grad += dloss/dx\n",
    "    loss_for_this_batch.backward()\n",
    "    \n",
    "    \"\"\" apply new-weights = f(old-weights, old-weight-gradients) where \"f\" is the optimizer \n",
    "    When you call `loss.backward()`, all it does is compute gradient of loss w.r.t all the parameters in loss that have `requires_grad = True` and store them in `parameter.grad` attribute for every parameter.\n",
    "\n",
    "    `optimizer.step()` updates all the parameters based on `parameter.grad`\n",
    "    \"\"\"\n",
    "    \n",
    "    optimizer.step()\n",
    "    \n",
    "    # Flush gradients memory for next batch of calculations\n",
    "    # `optimizer.zero_grad()` clears `x.grad` for every parameter x in the optimizer.\n",
    "    # Not zeroing grads would lead to gradient accumulation across batches.\n",
    "    optimizer.zero_grad()\n",
    "    \n",
    "    return loss_for_this_batch.item()"
   ]
  },
  {
   "attachments": {},
   "cell_type": "markdown",
   "metadata": {},
   "source": [
    "The trainer_each_batch function does the following this\n",
    "\n",
    "1. Passes the batch of images through the model in the forward pass. \n",
    "3. Computes the loss on batch\n",
    "4. Then passes the weights through backward propagation and updates them. \n",
    "5. Finally, it flushes the memory of the gradient so that it doesn't influence how the gradient is calculated in the next pass."
   ]
  },
  {
   "cell_type": "code",
   "execution_count": 21,
   "metadata": {},
   "outputs": [],
   "source": [
    "\"\"\" torch.no_grad() impacts the autograd engine and deactivate it. It will reduce memory usage and speed up computations but you won’t be able to backprop (which you don’t want in an eval script). \n",
    "So torch.no_grad() basically skips the gradient calculation over the weights. That means you are not changing any weight in the specified layers. \n",
    "\n",
    "If you are training pre-trained model, it's ok to use torch.no_grad() on all the layers except fully connected layer or classifier layer.\n",
    "\n",
    "\"\"\"\n",
    "@torch.no_grad()\n",
    "\n",
    "def accuracy(x, y, model):\n",
    "  \n",
    "    # model.eval() will notify all your layers that you are in eval mode,\n",
    "    # that way, batchnorm or dropout layers will work in eval mode instead of training mode.  \n",
    "    model.eval()\n",
    "    \n",
    "    # get the prediction matrix for a tensor of `x` images\n",
    "    prediction = model(x)\n",
    "    \n",
    "    # Now compute if the location of maximum in each row coincides with ground truth\n",
    "    # For that first, I am identifying the argmax index corresponding to each row with prediction.max(-1)\n",
    "    max_values, argmaxes = prediction.max(-1)\n",
    "\n",
    "    \"\"\" comparing argmaxes with the ground truth through with argmaxes == y\n",
    "    to check that each row is predicted correctly.  \"\"\"\n",
    "    \n",
    "    is_correct = argmaxes == y\n",
    "    \n",
    "    return is_correct.cpu().numpy().tolist()"
   ]
  },
  {
   "cell_type": "code",
   "execution_count": 22,
   "metadata": {},
   "outputs": [],
   "source": [
    "training_data_loader = load_data()\n",
    "model, loss_fn, optimizer = run_model()"
   ]
  },
  {
   "cell_type": "code",
   "execution_count": 23,
   "metadata": {},
   "outputs": [
    {
     "name": "stdout",
     "output_type": "stream",
     "text": [
      "0\n",
      "1\n",
      "2\n",
      "3\n",
      "4\n"
     ]
    }
   ],
   "source": [
    "losses, accuracies = [], []\n",
    "for epoch in range(5):\n",
    "    print(epoch)\n",
    "    \n",
    "    # Creating lists that will contain the accuracy and loss values corresponding to each batch within an epoch:\n",
    "    losses_in_this_epoch, accuracies_in_this_epoch = [], []\n",
    "    \n",
    "    # Create batches of training data by iterating through the DataLoader:\n",
    "    for ix, batch in enumerate(iter(training_data_loader)):\n",
    "        x, y = batch\n",
    "        \"\"\" Train the batch using the trainer_each_batch() function and store the loss value at\n",
    "        the end of training on top of the batch as loss_for_this_batch. \n",
    "        Furthermore, store the loss values across batches in the losses_in_this_epoch list:\n",
    "        \"\"\"\n",
    "        loss_for_this_batch = trainer_each_batch(x, y, model, optimizer, loss_fn)\n",
    "        losses_in_this_epoch.append(loss_for_this_batch)\n",
    "    \n",
    "    # After the above loop is done \n",
    "    # store the mean loss value across all batches within an epoch:    \n",
    "    epoch_loss = np.array(losses_in_this_epoch).mean()\n",
    "    \n",
    "    \n",
    "    # Next, we calculate the accuracy of the prediction at the end of training on all batches:\n",
    "    for ix, batch in enumerate(iter(training_data_loader)):\n",
    "        x, y = batch\n",
    "        is_correct = accuracy(x, y, model)\n",
    "        accuracies_in_this_epoch.extend(is_correct)\n",
    "    epoch_accuracy = np.mean(accuracies_in_this_epoch)\n",
    "    \n",
    "    losses.append(epoch_loss)\n",
    "    \n",
    "    accuracies.append(epoch_accuracy)"
   ]
  },
  {
   "cell_type": "code",
   "execution_count": 24,
   "metadata": {},
   "outputs": [
    {
     "data": {
      "text/plain": [
       "<matplotlib.legend.Legend at 0x7fd5f1d15850>"
      ]
     },
     "execution_count": 24,
     "metadata": {},
     "output_type": "execute_result"
    },
    {
     "data": {
      "image/png": "[encoded data removed]",
      "text/plain": [
       "<Figure size 1440x360 with 2 Axes>"
      ]
     },
     "metadata": {
      "needs_background": "light"
     },
     "output_type": "display_data"
    }
   ],
   "source": [
    "epochs = np.arange(5)+1\n",
    "plt.figure(figsize=(20,5))\n",
    "plt.subplot(121)\n",
    "plt.title('Loss value over increasing epochs')\n",
    "plt.plot(epochs, losses, label='Training Loss')\n",
    "plt.legend()\n",
    "plt.subplot(122)\n",
    "plt.title('Accuracy value over increasing epochs')\n",
    "plt.plot(epochs, accuracies, label='Training Accuracy')\n",
    "plt.gca().set_yticklabels(['{:.0f}%'.format(x*100) for x in plt.gca().get_yticks()]) \n",
    "plt.legend()"
   ]
  }
 ],
 "metadata": {
  "interpreter": {
   "hash": "36cf16204b8548560b1c020c4e8fb5b57f0e4c58016f52f2d4be01e192833930"
  },
  "kernelspec": {
   "display_name": "Python 3.9.9 64-bit",
   "language": "python",
   "name": "python3"
  },
  "language_info": {
   "codemirror_mode": {
    "name": "ipython",
    "version": 3
   },
   "file_extension": ".py",
   "mimetype": "text/x-python",
   "name": "python",
   "nbconvert_exporter": "python",
   "pygments_lexer": "ipython3",
   "version": "3.9.10"
  },
  "orig_nbformat": 4
 },
 "nbformat": 4,
 "nbformat_minor": 2
}
