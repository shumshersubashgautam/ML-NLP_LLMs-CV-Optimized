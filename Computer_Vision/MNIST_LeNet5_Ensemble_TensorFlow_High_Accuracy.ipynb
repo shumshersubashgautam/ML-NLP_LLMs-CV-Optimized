{
 "cells": [
  {
   "cell_type": "markdown",
   "id": "685eb9f6",
   "metadata": {
    "_cell_guid": "b1076dfc-b9ad-4769-8c92-a6c4dae69d19",
    "_uuid": "8f2839f25d086af736a60e9eeb907d3b93b6e0e5",
    "papermill": {
     "duration": 0.028458,
     "end_time": "2022-04-19T13:16:55.987401",
     "exception": false,
     "start_time": "2022-04-19T13:16:55.958943",
     "status": "completed"
    },
    "tags": []
   },
   "source": [
    "# Implementing LeNet5 on MNIST Kaggle Dataset - Ensemble with TensorFlow - Accuracy=99.75%\n",
    "\n",
    "### [Dataset Link](https://www.kaggle.com/competitions/digit-recognizer)\n",
    "\n",
    "\n"
   ]
  },
  {
   "cell_type": "code",
   "execution_count": 1,
   "id": "42a8df38",
   "metadata": {
    "_cell_guid": "79c7e3d0-c299-4dcb-8224-4455121ee9b0",
    "_kg_hide-input": true,
    "_kg_hide-output": true,
    "_uuid": "d629ff2d2480ee46fbb7e2d37f6b5fab8052498a",
    "execution": {
     "iopub.execute_input": "2022-04-19T13:16:56.053601Z",
     "iopub.status.busy": "2022-04-19T13:16:56.052657Z",
     "iopub.status.idle": "2022-04-19T13:17:01.494012Z",
     "shell.execute_reply": "2022-04-19T13:17:01.493411Z",
     "shell.execute_reply.started": "2022-04-19T13:08:42.290240Z"
    },
    "papermill": {
     "duration": 5.479132,
     "end_time": "2022-04-19T13:17:01.494181",
     "exception": false,
     "start_time": "2022-04-19T13:16:56.015049",
     "status": "completed"
    },
    "tags": []
   },
   "outputs": [],
   "source": [
    "import pandas as pd\n",
    "import numpy as np\n",
    "from sklearn.model_selection import train_test_split\n",
    "from keras.utils.np_utils import to_categorical\n",
    "from keras.models import Sequential\n",
    "from keras.layers import Dense, Dropout, Flatten, Conv2D, MaxPool2D, BatchNormalization\n",
    "from keras.preprocessing.image import ImageDataGenerator\n",
    "from keras.callbacks import LearningRateScheduler\n",
    "import warnings\n",
    "warnings.filterwarnings(\"ignore\")"
   ]
  },
  {
   "cell_type": "markdown",
   "id": "ccaa8179",
   "metadata": {
    "_uuid": "cd31c62c12088bfa6f2b26dcecc714182627c767",
    "papermill": {
     "duration": 0.027239,
     "end_time": "2022-04-19T13:17:01.549413",
     "exception": false,
     "start_time": "2022-04-19T13:17:01.522174",
     "status": "completed"
    },
    "tags": []
   },
   "source": [
    "## Load 42,000 training images and 28,000 test images"
   ]
  },
  {
   "cell_type": "code",
   "execution_count": 2,
   "id": "662bcb2c",
   "metadata": {
    "_uuid": "d71b3fa2b10620dc8870352fc18d4548f824a88a",
    "execution": {
     "iopub.execute_input": "2022-04-19T13:17:01.610381Z",
     "iopub.status.busy": "2022-04-19T13:17:01.609866Z",
     "iopub.status.idle": "2022-04-19T13:17:06.455804Z",
     "shell.execute_reply": "2022-04-19T13:17:06.456256Z",
     "shell.execute_reply.started": "2022-04-19T13:08:47.582725Z"
    },
    "papermill": {
     "duration": 4.878227,
     "end_time": "2022-04-19T13:17:06.456420",
     "exception": false,
     "start_time": "2022-04-19T13:17:01.578193",
     "status": "completed"
    },
    "tags": []
   },
   "outputs": [],
   "source": [
    "train = pd.read_csv(\"../input/digit-recognizer/train.csv\")\n",
    "test = pd.read_csv(\"../input/digit-recognizer/test.csv\")\n"
   ]
  },
  {
   "cell_type": "code",
   "execution_count": 3,
   "id": "92fe0277",
   "metadata": {
    "execution": {
     "iopub.execute_input": "2022-04-19T13:17:06.524859Z",
     "iopub.status.busy": "2022-04-19T13:17:06.523279Z",
     "iopub.status.idle": "2022-04-19T13:17:06.539880Z",
     "shell.execute_reply": "2022-04-19T13:17:06.540286Z",
     "shell.execute_reply.started": "2022-04-19T13:08:52.943105Z"
    },
    "papermill": {
     "duration": 0.054791,
     "end_time": "2022-04-19T13:17:06.540420",
     "exception": false,
     "start_time": "2022-04-19T13:17:06.485629",
     "status": "completed"
    },
    "tags": []
   },
   "outputs": [
    {
     "data": {
      "text/html": [
       "<div>\n",
       "<style scoped>\n",
       "    .dataframe tbody tr th:only-of-type {\n",
       "        vertical-align: middle;\n",
       "    }\n",
       "\n",
       "    .dataframe tbody tr th {\n",
       "        vertical-align: top;\n",
       "    }\n",
       "\n",
       "    .dataframe thead th {\n",
       "        text-align: right;\n",
       "    }\n",
       "</style>\n",
       "<table border=\"1\" class=\"dataframe\">\n",
       "  <thead>\n",
       "    <tr style=\"text-align: right;\">\n",
       "      <th></th>\n",
       "      <th>label</th>\n",
       "      <th>pixel0</th>\n",
       "      <th>pixel1</th>\n",
       "      <th>pixel2</th>\n",
       "      <th>pixel3</th>\n",
       "      <th>pixel4</th>\n",
       "      <th>pixel5</th>\n",
       "      <th>pixel6</th>\n",
       "      <th>pixel7</th>\n",
       "      <th>pixel8</th>\n",
       "      <th>...</th>\n",
       "      <th>pixel774</th>\n",
       "      <th>pixel775</th>\n",
       "      <th>pixel776</th>\n",
       "      <th>pixel777</th>\n",
       "      <th>pixel778</th>\n",
       "      <th>pixel779</th>\n",
       "      <th>pixel780</th>\n",
       "      <th>pixel781</th>\n",
       "      <th>pixel782</th>\n",
       "      <th>pixel783</th>\n",
       "    </tr>\n",
       "  </thead>\n",
       "  <tbody>\n",
       "    <tr>\n",
       "      <th>0</th>\n",
       "      <td>1</td>\n",
       "      <td>0</td>\n",
       "      <td>0</td>\n",
       "      <td>0</td>\n",
       "      <td>0</td>\n",
       "      <td>0</td>\n",
       "      <td>0</td>\n",
       "      <td>0</td>\n",
       "      <td>0</td>\n",
       "      <td>0</td>\n",
       "      <td>...</td>\n",
       "      <td>0</td>\n",
       "      <td>0</td>\n",
       "      <td>0</td>\n",
       "      <td>0</td>\n",
       "      <td>0</td>\n",
       "      <td>0</td>\n",
       "      <td>0</td>\n",
       "      <td>0</td>\n",
       "      <td>0</td>\n",
       "      <td>0</td>\n",
       "    </tr>\n",
       "    <tr>\n",
       "      <th>1</th>\n",
       "      <td>0</td>\n",
       "      <td>0</td>\n",
       "      <td>0</td>\n",
       "      <td>0</td>\n",
       "      <td>0</td>\n",
       "      <td>0</td>\n",
       "      <td>0</td>\n",
       "      <td>0</td>\n",
       "      <td>0</td>\n",
       "      <td>0</td>\n",
       "      <td>...</td>\n",
       "      <td>0</td>\n",
       "      <td>0</td>\n",
       "      <td>0</td>\n",
       "      <td>0</td>\n",
       "      <td>0</td>\n",
       "      <td>0</td>\n",
       "      <td>0</td>\n",
       "      <td>0</td>\n",
       "      <td>0</td>\n",
       "      <td>0</td>\n",
       "    </tr>\n",
       "    <tr>\n",
       "      <th>2</th>\n",
       "      <td>1</td>\n",
       "      <td>0</td>\n",
       "      <td>0</td>\n",
       "      <td>0</td>\n",
       "      <td>0</td>\n",
       "      <td>0</td>\n",
       "      <td>0</td>\n",
       "      <td>0</td>\n",
       "      <td>0</td>\n",
       "      <td>0</td>\n",
       "      <td>...</td>\n",
       "      <td>0</td>\n",
       "      <td>0</td>\n",
       "      <td>0</td>\n",
       "      <td>0</td>\n",
       "      <td>0</td>\n",
       "      <td>0</td>\n",
       "      <td>0</td>\n",
       "      <td>0</td>\n",
       "      <td>0</td>\n",
       "      <td>0</td>\n",
       "    </tr>\n",
       "    <tr>\n",
       "      <th>3</th>\n",
       "      <td>4</td>\n",
       "      <td>0</td>\n",
       "      <td>0</td>\n",
       "      <td>0</td>\n",
       "      <td>0</td>\n",
       "      <td>0</td>\n",
       "      <td>0</td>\n",
       "      <td>0</td>\n",
       "      <td>0</td>\n",
       "      <td>0</td>\n",
       "      <td>...</td>\n",
       "      <td>0</td>\n",
       "      <td>0</td>\n",
       "      <td>0</td>\n",
       "      <td>0</td>\n",
       "      <td>0</td>\n",
       "      <td>0</td>\n",
       "      <td>0</td>\n",
       "      <td>0</td>\n",
       "      <td>0</td>\n",
       "      <td>0</td>\n",
       "    </tr>\n",
       "    <tr>\n",
       "      <th>4</th>\n",
       "      <td>0</td>\n",
       "      <td>0</td>\n",
       "      <td>0</td>\n",
       "      <td>0</td>\n",
       "      <td>0</td>\n",
       "      <td>0</td>\n",
       "      <td>0</td>\n",
       "      <td>0</td>\n",
       "      <td>0</td>\n",
       "      <td>0</td>\n",
       "      <td>...</td>\n",
       "      <td>0</td>\n",
       "      <td>0</td>\n",
       "      <td>0</td>\n",
       "      <td>0</td>\n",
       "      <td>0</td>\n",
       "      <td>0</td>\n",
       "      <td>0</td>\n",
       "      <td>0</td>\n",
       "      <td>0</td>\n",
       "      <td>0</td>\n",
       "    </tr>\n",
       "  </tbody>\n",
       "</table>\n",
       "<p>5 rows × 785 columns</p>\n",
       "</div>"
      ],
      "text/plain": [
       "   label  pixel0  pixel1  pixel2  pixel3  pixel4  pixel5  pixel6  pixel7  \\\n",
       "0      1       0       0       0       0       0       0       0       0   \n",
       "1      0       0       0       0       0       0       0       0       0   \n",
       "2      1       0       0       0       0       0       0       0       0   \n",
       "3      4       0       0       0       0       0       0       0       0   \n",
       "4      0       0       0       0       0       0       0       0       0   \n",
       "\n",
       "   pixel8  ...  pixel774  pixel775  pixel776  pixel777  pixel778  pixel779  \\\n",
       "0       0  ...         0         0         0         0         0         0   \n",
       "1       0  ...         0         0         0         0         0         0   \n",
       "2       0  ...         0         0         0         0         0         0   \n",
       "3       0  ...         0         0         0         0         0         0   \n",
       "4       0  ...         0         0         0         0         0         0   \n",
       "\n",
       "   pixel780  pixel781  pixel782  pixel783  \n",
       "0         0         0         0         0  \n",
       "1         0         0         0         0  \n",
       "2         0         0         0         0  \n",
       "3         0         0         0         0  \n",
       "4         0         0         0         0  \n",
       "\n",
       "[5 rows x 785 columns]"
      ]
     },
     "execution_count": 3,
     "metadata": {},
     "output_type": "execute_result"
    }
   ],
   "source": [
    "train.head()"
   ]
  },
  {
   "cell_type": "code",
   "execution_count": 4,
   "id": "0b071176",
   "metadata": {
    "execution": {
     "iopub.execute_input": "2022-04-19T13:17:06.613842Z",
     "iopub.status.busy": "2022-04-19T13:17:06.613121Z",
     "iopub.status.idle": "2022-04-19T13:17:06.616094Z",
     "shell.execute_reply": "2022-04-19T13:17:06.616545Z",
     "shell.execute_reply.started": "2022-04-19T13:08:52.972041Z"
    },
    "papermill": {
     "duration": 0.046508,
     "end_time": "2022-04-19T13:17:06.616678",
     "exception": false,
     "start_time": "2022-04-19T13:17:06.570170",
     "status": "completed"
    },
    "tags": []
   },
   "outputs": [
    {
     "data": {
      "text/html": [
       "<div>\n",
       "<style scoped>\n",
       "    .dataframe tbody tr th:only-of-type {\n",
       "        vertical-align: middle;\n",
       "    }\n",
       "\n",
       "    .dataframe tbody tr th {\n",
       "        vertical-align: top;\n",
       "    }\n",
       "\n",
       "    .dataframe thead th {\n",
       "        text-align: right;\n",
       "    }\n",
       "</style>\n",
       "<table border=\"1\" class=\"dataframe\">\n",
       "  <thead>\n",
       "    <tr style=\"text-align: right;\">\n",
       "      <th></th>\n",
       "      <th>pixel0</th>\n",
       "      <th>pixel1</th>\n",
       "      <th>pixel2</th>\n",
       "      <th>pixel3</th>\n",
       "      <th>pixel4</th>\n",
       "      <th>pixel5</th>\n",
       "      <th>pixel6</th>\n",
       "      <th>pixel7</th>\n",
       "      <th>pixel8</th>\n",
       "      <th>pixel9</th>\n",
       "      <th>...</th>\n",
       "      <th>pixel774</th>\n",
       "      <th>pixel775</th>\n",
       "      <th>pixel776</th>\n",
       "      <th>pixel777</th>\n",
       "      <th>pixel778</th>\n",
       "      <th>pixel779</th>\n",
       "      <th>pixel780</th>\n",
       "      <th>pixel781</th>\n",
       "      <th>pixel782</th>\n",
       "      <th>pixel783</th>\n",
       "    </tr>\n",
       "  </thead>\n",
       "  <tbody>\n",
       "    <tr>\n",
       "      <th>0</th>\n",
       "      <td>0</td>\n",
       "      <td>0</td>\n",
       "      <td>0</td>\n",
       "      <td>0</td>\n",
       "      <td>0</td>\n",
       "      <td>0</td>\n",
       "      <td>0</td>\n",
       "      <td>0</td>\n",
       "      <td>0</td>\n",
       "      <td>0</td>\n",
       "      <td>...</td>\n",
       "      <td>0</td>\n",
       "      <td>0</td>\n",
       "      <td>0</td>\n",
       "      <td>0</td>\n",
       "      <td>0</td>\n",
       "      <td>0</td>\n",
       "      <td>0</td>\n",
       "      <td>0</td>\n",
       "      <td>0</td>\n",
       "      <td>0</td>\n",
       "    </tr>\n",
       "    <tr>\n",
       "      <th>1</th>\n",
       "      <td>0</td>\n",
       "      <td>0</td>\n",
       "      <td>0</td>\n",
       "      <td>0</td>\n",
       "      <td>0</td>\n",
       "      <td>0</td>\n",
       "      <td>0</td>\n",
       "      <td>0</td>\n",
       "      <td>0</td>\n",
       "      <td>0</td>\n",
       "      <td>...</td>\n",
       "      <td>0</td>\n",
       "      <td>0</td>\n",
       "      <td>0</td>\n",
       "      <td>0</td>\n",
       "      <td>0</td>\n",
       "      <td>0</td>\n",
       "      <td>0</td>\n",
       "      <td>0</td>\n",
       "      <td>0</td>\n",
       "      <td>0</td>\n",
       "    </tr>\n",
       "    <tr>\n",
       "      <th>2</th>\n",
       "      <td>0</td>\n",
       "      <td>0</td>\n",
       "      <td>0</td>\n",
       "      <td>0</td>\n",
       "      <td>0</td>\n",
       "      <td>0</td>\n",
       "      <td>0</td>\n",
       "      <td>0</td>\n",
       "      <td>0</td>\n",
       "      <td>0</td>\n",
       "      <td>...</td>\n",
       "      <td>0</td>\n",
       "      <td>0</td>\n",
       "      <td>0</td>\n",
       "      <td>0</td>\n",
       "      <td>0</td>\n",
       "      <td>0</td>\n",
       "      <td>0</td>\n",
       "      <td>0</td>\n",
       "      <td>0</td>\n",
       "      <td>0</td>\n",
       "    </tr>\n",
       "    <tr>\n",
       "      <th>3</th>\n",
       "      <td>0</td>\n",
       "      <td>0</td>\n",
       "      <td>0</td>\n",
       "      <td>0</td>\n",
       "      <td>0</td>\n",
       "      <td>0</td>\n",
       "      <td>0</td>\n",
       "      <td>0</td>\n",
       "      <td>0</td>\n",
       "      <td>0</td>\n",
       "      <td>...</td>\n",
       "      <td>0</td>\n",
       "      <td>0</td>\n",
       "      <td>0</td>\n",
       "      <td>0</td>\n",
       "      <td>0</td>\n",
       "      <td>0</td>\n",
       "      <td>0</td>\n",
       "      <td>0</td>\n",
       "      <td>0</td>\n",
       "      <td>0</td>\n",
       "    </tr>\n",
       "    <tr>\n",
       "      <th>4</th>\n",
       "      <td>0</td>\n",
       "      <td>0</td>\n",
       "      <td>0</td>\n",
       "      <td>0</td>\n",
       "      <td>0</td>\n",
       "      <td>0</td>\n",
       "      <td>0</td>\n",
       "      <td>0</td>\n",
       "      <td>0</td>\n",
       "      <td>0</td>\n",
       "      <td>...</td>\n",
       "      <td>0</td>\n",
       "      <td>0</td>\n",
       "      <td>0</td>\n",
       "      <td>0</td>\n",
       "      <td>0</td>\n",
       "      <td>0</td>\n",
       "      <td>0</td>\n",
       "      <td>0</td>\n",
       "      <td>0</td>\n",
       "      <td>0</td>\n",
       "    </tr>\n",
       "  </tbody>\n",
       "</table>\n",
       "<p>5 rows × 784 columns</p>\n",
       "</div>"
      ],
      "text/plain": [
       "   pixel0  pixel1  pixel2  pixel3  pixel4  pixel5  pixel6  pixel7  pixel8  \\\n",
       "0       0       0       0       0       0       0       0       0       0   \n",
       "1       0       0       0       0       0       0       0       0       0   \n",
       "2       0       0       0       0       0       0       0       0       0   \n",
       "3       0       0       0       0       0       0       0       0       0   \n",
       "4       0       0       0       0       0       0       0       0       0   \n",
       "\n",
       "   pixel9  ...  pixel774  pixel775  pixel776  pixel777  pixel778  pixel779  \\\n",
       "0       0  ...         0         0         0         0         0         0   \n",
       "1       0  ...         0         0         0         0         0         0   \n",
       "2       0  ...         0         0         0         0         0         0   \n",
       "3       0  ...         0         0         0         0         0         0   \n",
       "4       0  ...         0         0         0         0         0         0   \n",
       "\n",
       "   pixel780  pixel781  pixel782  pixel783  \n",
       "0         0         0         0         0  \n",
       "1         0         0         0         0  \n",
       "2         0         0         0         0  \n",
       "3         0         0         0         0  \n",
       "4         0         0         0         0  \n",
       "\n",
       "[5 rows x 784 columns]"
      ]
     },
     "execution_count": 4,
     "metadata": {},
     "output_type": "execute_result"
    }
   ],
   "source": [
    "test.head()"
   ]
  },
  {
   "cell_type": "code",
   "execution_count": 5,
   "id": "a183fedc",
   "metadata": {
    "_kg_hide-input": true,
    "_uuid": "b3c56055d1ba56d28d982f9647c33439c46753ff",
    "execution": {
     "iopub.execute_input": "2022-04-19T13:17:06.762026Z",
     "iopub.status.busy": "2022-04-19T13:17:06.760962Z",
     "iopub.status.idle": "2022-04-19T13:17:06.922979Z",
     "shell.execute_reply": "2022-04-19T13:17:06.921929Z",
     "shell.execute_reply.started": "2022-04-19T13:08:52.989245Z"
    },
    "papermill": {
     "duration": 0.277016,
     "end_time": "2022-04-19T13:17:06.923128",
     "exception": false,
     "start_time": "2022-04-19T13:17:06.646112",
     "status": "completed"
    },
    "tags": []
   },
   "outputs": [],
   "source": [
    "Y_train = train[\"label\"]\n",
    "X_train = train.drop(labels = [\"label\"],axis = 1)\n",
    "\n",
    "# Given images are not already normalized (i.e. the pixel values are in the range [0,255]).\n",
    "# So normalize them by dividing by 255\n",
    "X_train = X_train / 255.0\n",
    "test = test / 255.0\n"
   ]
  },
  {
   "cell_type": "code",
   "execution_count": 6,
   "id": "3b76ac80",
   "metadata": {
    "execution": {
     "iopub.execute_input": "2022-04-19T13:17:06.987276Z",
     "iopub.status.busy": "2022-04-19T13:17:06.986170Z",
     "iopub.status.idle": "2022-04-19T13:17:06.989229Z",
     "shell.execute_reply": "2022-04-19T13:17:06.989593Z",
     "shell.execute_reply.started": "2022-04-19T13:08:53.239069Z"
    },
    "papermill": {
     "duration": 0.037292,
     "end_time": "2022-04-19T13:17:06.989722",
     "exception": false,
     "start_time": "2022-04-19T13:17:06.952430",
     "status": "completed"
    },
    "tags": []
   },
   "outputs": [
    {
     "data": {
      "text/plain": [
       "(42000, 784)"
      ]
     },
     "execution_count": 6,
     "metadata": {},
     "output_type": "execute_result"
    }
   ],
   "source": [
    "X_train.values.shape"
   ]
  },
  {
   "cell_type": "markdown",
   "id": "ff959c87",
   "metadata": {
    "papermill": {
     "duration": 0.029227,
     "end_time": "2022-04-19T13:17:07.048647",
     "exception": false,
     "start_time": "2022-04-19T13:17:07.019420",
     "status": "completed"
    },
    "tags": []
   },
   "source": [
    "Now note, the axis order for an image tensor in Tensorflow is as follows:\n",
    "shape=(N, H, W, C)\n",
    "\n",
    "* N — batch size (number of images per batch)\n",
    "* H — height of the image\n",
    "* W — width of the image\n",
    "* C — number of channels (usually uses 3 channels for RGB)\n",
    "\n",
    "\n",
    "On the other hand, the shape for image tensor in Pytorch is slightly different from Tensorflow tensor. It is based on the following torch.Size instead:\n",
    "torch.Size([N, C, H, W])\n",
    "\n",
    "* N — batch size (number of images per batch)\n",
    "* C — number of channels (usually uses 3 channels for RGB)\n",
    "* H — height of the image\n",
    "* W — width of the image"
   ]
  },
  {
   "cell_type": "code",
   "execution_count": 7,
   "id": "65794145",
   "metadata": {
    "execution": {
     "iopub.execute_input": "2022-04-19T13:17:07.112647Z",
     "iopub.status.busy": "2022-04-19T13:17:07.111885Z",
     "iopub.status.idle": "2022-04-19T13:17:07.114542Z",
     "shell.execute_reply": "2022-04-19T13:17:07.114997Z",
     "shell.execute_reply.started": "2022-04-19T13:08:53.246550Z"
    },
    "papermill": {
     "duration": 0.037025,
     "end_time": "2022-04-19T13:17:07.115123",
     "exception": false,
     "start_time": "2022-04-19T13:17:07.078098",
     "status": "completed"
    },
    "tags": []
   },
   "outputs": [],
   "source": [
    "X_train = X_train.values.reshape(-1,28,28,1)\n",
    "X_test = test.values.reshape(-1,28,28,1)\n",
    "Y_train = to_categorical(Y_train, num_classes = 10)"
   ]
  },
  {
   "cell_type": "markdown",
   "id": "d0998452",
   "metadata": {
    "papermill": {
     "duration": 0.02933,
     "end_time": "2022-04-19T13:17:07.173959",
     "exception": false,
     "start_time": "2022-04-19T13:17:07.144629",
     "status": "completed"
    },
    "tags": []
   },
   "source": [
    "## to_categorical\n",
    "\n",
    "Converts a class vector (integers) to binary class matrix. A binary matrix representation of the input.\n",
    "\n",
    "## Why we need to_categorical\n",
    "\n",
    "A classification model with multiple classes doesn't work well if you don't have classes distributed in a binary matrix.\n",
    "\n",
    "The reason you want to_categorical (even on numeric labels) is due to how the relationship between your labels is understood by the algorithm.\n",
    "\n",
    "For example, suppose you made a color classifier. You mark red as 1, blue as 2, and orange as 3.\n",
    "\n",
    "Now you feed them into the machine learning algorithm to help decide what your input matches. The math is going to say that orange is higher than red. This obviously isn't your intent, but the network will know that orange is greater than red.\n",
    "\n",
    "### Another example\n",
    "\n",
    "Suppose you have three clasess, the vector goes like this:\n",
    "\n",
    "- [1, 0, 0] = class 1     \n",
    "- [0, 1, 0] = class 2    \n",
    "- [0, 0, 1] = class 3\n",
    "\n",
    "You use `to_categorical` to transform your training data before you pass it to your model. \n",
    "\n",
    "If your training data uses classes as numbers, `to_categorical` will transform those numbers in proper vectors for using with models. You can't simply train a classification model without that. "
   ]
  },
  {
   "cell_type": "code",
   "execution_count": 8,
   "id": "446b2bb8",
   "metadata": {
    "execution": {
     "iopub.execute_input": "2022-04-19T13:17:07.237149Z",
     "iopub.status.busy": "2022-04-19T13:17:07.236520Z",
     "iopub.status.idle": "2022-04-19T13:17:07.239109Z",
     "shell.execute_reply": "2022-04-19T13:17:07.239496Z",
     "shell.execute_reply.started": "2022-04-19T13:08:53.255878Z"
    },
    "papermill": {
     "duration": 0.036015,
     "end_time": "2022-04-19T13:17:07.239610",
     "exception": false,
     "start_time": "2022-04-19T13:17:07.203595",
     "status": "completed"
    },
    "tags": []
   },
   "outputs": [
    {
     "data": {
      "text/plain": [
       "(42000, 28, 28, 1)"
      ]
     },
     "execution_count": 8,
     "metadata": {},
     "output_type": "execute_result"
    }
   ],
   "source": [
    "X_train.shape"
   ]
  },
  {
   "cell_type": "markdown",
   "id": "3886411e",
   "metadata": {
    "papermill": {
     "duration": 0.028563,
     "end_time": "2022-04-19T13:17:07.297531",
     "exception": false,
     "start_time": "2022-04-19T13:17:07.268968",
     "status": "completed"
    },
    "tags": []
   },
   "source": [
    "## Augmentation \n",
    "\n",
    "Following Augmentation have been applied on this set of 42,000 images training images.\n",
    "\n",
    "### 1. rotation_range:\n",
    "\n",
    "To randomly rotate images through any degree between 0 and 360 by providing an integer value in the rotation_range argument.\n",
    "\n",
    "When the image is rotated, some pixels will move outside the image and leave an empty area that needs to be filled in. You can fill this in different ways like a constant value or nearest pixel values, etc. This is specified in the fill_mode argument and the default value is “nearest” which simply replaces the empty area with the nearest pixel values.\n",
    "\n",
    "\n",
    "### 2. zoom_range = 0.10,  \n",
    "\n",
    "\n",
    "### 3. Random Shifts with width_shift_range and height_shift_range\n",
    "\n",
    "It may happen that the object may not always be in the center of the image. To overcome this problem we can shift the pixels of the image either horizontally or vertically; this is done by adding a certain constant value to all the pixels.\n",
    "\n",
    "ImageDataGenerator class has the argument height_shift_range for a vertical shift of image and width_shift_range for a horizontal shift of image. If the value is a float number, that would indicate the percentage of width or height of the image to shift. Otherwise, if it is an integer value then simply the width or height are shifted by those many pixel values.\n",
    "\n",
    "\n",
    "\n",
    "### 4. vertical_flip and horizontal_flip\n",
    "\n",
    "ImageDataGenerator class has parameters horizontal_flip and vertical_flip  for flipping along the vertical or the horizontal axis. However, this technique should be according to the object in the image. For example, vertical flipping of a car would not be a sensible thing compared to doing it for a symmetrical object like football or something else. \n",
    "\n",
    "\n",
    "### 5. brightness_range\n",
    "\n",
    "Brightness can be controlled in the ImageDataGenrator class through the brightness_range argument. It accepts a list of two float values and picks a brightness shift value from that range. Values less than 1.0 darkens the image, whereas values above 1.0 brighten the image."
   ]
  },
  {
   "cell_type": "markdown",
   "id": "e0abf887",
   "metadata": {
    "papermill": {
     "duration": 0.029574,
     "end_time": "2022-04-19T13:17:07.359146",
     "exception": false,
     "start_time": "2022-04-19T13:17:07.329572",
     "status": "completed"
    },
    "tags": []
   },
   "source": [
    "## Plot Images before Augmentation"
   ]
  },
  {
   "cell_type": "code",
   "execution_count": 9,
   "id": "0095e793",
   "metadata": {
    "_kg_hide-input": true,
    "_uuid": "b95ca2c1e71cb5457684eff3c35bb8d68b4a0f97",
    "execution": {
     "iopub.execute_input": "2022-04-19T13:17:07.428973Z",
     "iopub.status.busy": "2022-04-19T13:17:07.428186Z",
     "iopub.status.idle": "2022-04-19T13:17:08.702925Z",
     "shell.execute_reply": "2022-04-19T13:17:08.702277Z",
     "shell.execute_reply.started": "2022-04-19T13:08:53.265839Z"
    },
    "papermill": {
     "duration": 1.314213,
     "end_time": "2022-04-19T13:17:08.703093",
     "exception": false,
     "start_time": "2022-04-19T13:17:07.388880",
     "status": "completed"
    },
    "tags": []
   },
   "outputs": [
    {
     "data": {
      "image/png": "[encoded data removed]",
      "text/plain": [
       "<Figure size 1080x324 with 30 Axes>"
      ]
     },
     "metadata": {
      "needs_background": "light"
     },
     "output_type": "display_data"
    }
   ],
   "source": [
    "import matplotlib.pyplot as plt\n",
    "plt.figure(figsize=(15,4.5))\n",
    "for i in range(30):  \n",
    "    plt.subplot(3, 10, i+1)\n",
    "    plt.imshow(X_train[i].reshape((28,28)),cmap=plt.cm.binary)\n",
    "    plt.axis('off')\n",
    "plt.subplots_adjust(wspace=-0.1, hspace=-0.1)\n",
    "plt.show()"
   ]
  },
  {
   "cell_type": "code",
   "execution_count": 10,
   "id": "85bc450c",
   "metadata": {
    "_uuid": "1e61e07d14b9b012748fdaac9eaf02e5263a475e",
    "execution": {
     "iopub.execute_input": "2022-04-19T13:17:08.808396Z",
     "iopub.status.busy": "2022-04-19T13:17:08.807626Z",
     "iopub.status.idle": "2022-04-19T13:17:08.815360Z",
     "shell.execute_reply": "2022-04-19T13:17:08.814644Z",
     "shell.execute_reply.started": "2022-04-19T13:08:54.317544Z"
    },
    "papermill": {
     "duration": 0.062666,
     "end_time": "2022-04-19T13:17:08.815592",
     "exception": false,
     "start_time": "2022-04-19T13:17:08.752926",
     "status": "completed"
    },
    "tags": []
   },
   "outputs": [],
   "source": [
    "datagen = ImageDataGenerator(\n",
    "        rotation_range=10,  # randomly rotate images through any degree between 0 and 360\n",
    "        zoom_range = 0.10,  \n",
    "        width_shift_range=0.1, # a float number, that would indicate the percentage of width or height of the image to shift. \n",
    "        height_shift_range=0.1)\n",
    "\n",
    "# datagen = ImageDataGenerator(\n",
    "#         rotation_range=10,  \n",
    "#         zoom_range = 0.10,  \n",
    "#         width_shift_range=0.1, \n",
    "#         height_shift_range=0.1,\n",
    "#         horizontal_flip=True,\n",
    "#         vertical_flip=True,\n",
    "#         brightness_range=[0.2,1.1],\n",
    "#         )"
   ]
  },
  {
   "cell_type": "code",
   "execution_count": 11,
   "id": "8b03ea8b",
   "metadata": {
    "execution": {
     "iopub.execute_input": "2022-04-19T13:17:08.924647Z",
     "iopub.status.busy": "2022-04-19T13:17:08.923876Z",
     "iopub.status.idle": "2022-04-19T13:17:08.926749Z",
     "shell.execute_reply": "2022-04-19T13:17:08.927231Z",
     "shell.execute_reply.started": "2022-04-19T13:08:54.325340Z"
    },
    "papermill": {
     "duration": 0.059653,
     "end_time": "2022-04-19T13:17:08.927363",
     "exception": false,
     "start_time": "2022-04-19T13:17:08.867710",
     "status": "completed"
    },
    "tags": []
   },
   "outputs": [
    {
     "data": {
      "text/plain": [
       "(1, 28, 28, 1)"
      ]
     },
     "execution_count": 11,
     "metadata": {},
     "output_type": "execute_result"
    }
   ],
   "source": [
    "X_train.shape # (42000, 28, 28, 1)\n",
    "X_train[25,].shape # (28, 28, 1)\n",
    "X_train[25,].reshape((1,28,28,1)).shape # (1, 28, 28, 1)\n"
   ]
  },
  {
   "cell_type": "markdown",
   "id": "dd0bca7b",
   "metadata": {
    "papermill": {
     "duration": 0.033646,
     "end_time": "2022-04-19T13:17:08.994038",
     "exception": false,
     "start_time": "2022-04-19T13:17:08.960392",
     "status": "completed"
    },
    "tags": []
   },
   "source": [
    "### Each row of the total 42,000 rows represent a single image - now take a single one from them. lets say the image at row-index number 25"
   ]
  },
  {
   "cell_type": "code",
   "execution_count": 12,
   "id": "4edd53ae",
   "metadata": {
    "execution": {
     "iopub.execute_input": "2022-04-19T13:17:09.060804Z",
     "iopub.status.busy": "2022-04-19T13:17:09.059994Z",
     "iopub.status.idle": "2022-04-19T13:17:09.065443Z",
     "shell.execute_reply": "2022-04-19T13:17:09.065879Z",
     "shell.execute_reply.started": "2022-04-19T13:08:54.335975Z"
    },
    "papermill": {
     "duration": 0.03882,
     "end_time": "2022-04-19T13:17:09.066010",
     "exception": false,
     "start_time": "2022-04-19T13:17:09.027190",
     "status": "completed"
    },
    "tags": []
   },
   "outputs": [
    {
     "data": {
      "text/plain": [
       "(28, 28, 1)"
      ]
     },
     "execution_count": 12,
     "metadata": {},
     "output_type": "execute_result"
    }
   ],
   "source": [
    "X_train[25,].shape"
   ]
  },
  {
   "cell_type": "code",
   "execution_count": 13,
   "id": "270246ef",
   "metadata": {
    "execution": {
     "iopub.execute_input": "2022-04-19T13:17:09.133104Z",
     "iopub.status.busy": "2022-04-19T13:17:09.132480Z",
     "iopub.status.idle": "2022-04-19T13:17:09.135146Z",
     "shell.execute_reply": "2022-04-19T13:17:09.135534Z",
     "shell.execute_reply.started": "2022-04-19T13:08:54.346104Z"
    },
    "papermill": {
     "duration": 0.03853,
     "end_time": "2022-04-19T13:17:09.135671",
     "exception": false,
     "start_time": "2022-04-19T13:17:09.097141",
     "status": "completed"
    },
    "tags": []
   },
   "outputs": [
    {
     "data": {
      "text/plain": [
       "(28, 28, 1)"
      ]
     },
     "execution_count": 13,
     "metadata": {},
     "output_type": "execute_result"
    }
   ],
   "source": [
    "X_train[41999,].shape"
   ]
  },
  {
   "cell_type": "markdown",
   "id": "834e61f4",
   "metadata": {
    "papermill": {
     "duration": 0.031725,
     "end_time": "2022-04-19T13:17:09.198264",
     "exception": false,
     "start_time": "2022-04-19T13:17:09.166539",
     "status": "completed"
    },
    "tags": []
   },
   "source": [
    "### First see what this 25-row index image is\n",
    "\n",
    "So below plot is before Augmentation"
   ]
  },
  {
   "cell_type": "code",
   "execution_count": 14,
   "id": "b3ebea69",
   "metadata": {
    "execution": {
     "iopub.execute_input": "2022-04-19T13:17:09.285547Z",
     "iopub.status.busy": "2022-04-19T13:17:09.284988Z",
     "iopub.status.idle": "2022-04-19T13:17:09.463438Z",
     "shell.execute_reply": "2022-04-19T13:17:09.462829Z",
     "shell.execute_reply.started": "2022-04-19T13:08:54.355343Z"
    },
    "papermill": {
     "duration": 0.234338,
     "end_time": "2022-04-19T13:17:09.463555",
     "exception": false,
     "start_time": "2022-04-19T13:17:09.229217",
     "status": "completed"
    },
    "tags": []
   },
   "outputs": [
    {
     "data": {
      "text/plain": [
       "<matplotlib.image.AxesImage at 0x7f78a16b1390>"
      ]
     },
     "execution_count": 14,
     "metadata": {},
     "output_type": "execute_result"
    },
    {
     "data": {
      "image/png": "[encoded data removed]",
      "text/plain": [
       "<Figure size 432x288 with 1 Axes>"
      ]
     },
     "metadata": {
      "needs_background": "light"
     },
     "output_type": "display_data"
    }
   ],
   "source": [
    "# plt.imshow(X_train[25,].reshape((28,28)),cmap=plt.cm.binary)\n",
    "# plt.imshow(X_train[11,].reshape((28,28)),cmap=plt.cm.binary)\n",
    "plt.imshow(X_train[18,].reshape((28,28)),cmap=plt.cm.binary)"
   ]
  },
  {
   "cell_type": "markdown",
   "id": "eab871b5",
   "metadata": {
    "papermill": {
     "duration": 0.033301,
     "end_time": "2022-04-19T13:17:09.529981",
     "exception": false,
     "start_time": "2022-04-19T13:17:09.496680",
     "status": "completed"
    },
    "tags": []
   },
   "source": [
    "## Plot a single Augmented Images by taking a single row of of data from the 42,000 number of samples\n",
    "\n",
    "X_train[25,] => Will return all the columns but only row-index number 9\n",
    "\n",
    "But to plot with the use of `datagen.flow` - I have to convert the above randomly selected row to a 4-D Tensor of shape `(1,28,28,1)`"
   ]
  },
  {
   "cell_type": "code",
   "execution_count": 15,
   "id": "07a76ef9",
   "metadata": {
    "_kg_hide-input": true,
    "_uuid": "fcf6daaae4424b95978856d7e75271c97b971c71",
    "execution": {
     "iopub.execute_input": "2022-04-19T13:17:09.622271Z",
     "iopub.status.busy": "2022-04-19T13:17:09.615280Z",
     "iopub.status.idle": "2022-04-19T13:17:10.831680Z",
     "shell.execute_reply": "2022-04-19T13:17:10.831180Z",
     "shell.execute_reply.started": "2022-04-19T13:08:54.550048Z"
    },
    "papermill": {
     "duration": 1.26905,
     "end_time": "2022-04-19T13:17:10.831830",
     "exception": false,
     "start_time": "2022-04-19T13:17:09.562780",
     "status": "completed"
    },
    "tags": []
   },
   "outputs": [
    {
     "data": {
      "image/png": "[encoded data removed]",
      "text/plain": [
       "<Figure size 1080x324 with 30 Axes>"
      ]
     },
     "metadata": {
      "needs_background": "light"
     },
     "output_type": "display_data"
    }
   ],
   "source": [
    "X_train_random = X_train[25,].reshape((1,28,28,1))\n",
    "Y_train_random = Y_train[25,].reshape((1,10))\n",
    "\n",
    "plt.figure(figsize=(15,4.5))\n",
    "\n",
    "for i in range(30):  \n",
    "    plt.subplot(3, 10, i+1)\n",
    "    X_train_augmented, Y_train_augmented = datagen.flow(X_train_random,Y_train_random).next()\n",
    "    plt.imshow(X_train_augmented[0].reshape((28,28)),cmap=plt.cm.binary)\n",
    "    plt.axis('off')\n",
    "    # Now for the second and third row take 2 different digit\n",
    "    # 9 and 7 respectively\n",
    "    # And because I am printing 9 columns for the same image, I have to \n",
    "    # advance the 'i' value by 10\n",
    "    if i==9:\n",
    "        X_train_random = X_train[11,].reshape((1,28,28,1))\n",
    "    if i==19:\n",
    "        X_train_random = X_train[18,].reshape((1,28,28,1))\n",
    "plt.subplots_adjust(wspace=-0.1, hspace=-0.1)\n",
    "plt.show()"
   ]
  },
  {
   "cell_type": "markdown",
   "id": "ff0bd3f3",
   "metadata": {
    "_uuid": "9ea116cd3688cb26ac79b9fecc7309a1aebf3b63",
    "papermill": {
     "duration": 0.033565,
     "end_time": "2022-04-19T13:17:10.899503",
     "exception": false,
     "start_time": "2022-04-19T13:17:10.865938",
     "status": "completed"
    },
    "tags": []
   },
   "source": [
    "---\n",
    "\n",
    "### Build 15 Convolutional Neural Networks with bagging\n",
    "\n",
    "### LeNet Architectural\n",
    "![Imgur](https://imgur.com/by2Dc72.png)"
   ]
  },
  {
   "cell_type": "code",
   "execution_count": 16,
   "id": "56cbe0e2",
   "metadata": {
    "execution": {
     "iopub.execute_input": "2022-04-19T13:17:10.978293Z",
     "iopub.status.busy": "2022-04-19T13:17:10.974049Z",
     "iopub.status.idle": "2022-04-19T13:17:10.980329Z",
     "shell.execute_reply": "2022-04-19T13:17:10.980705Z",
     "shell.execute_reply.started": "2022-04-19T13:08:55.805015Z"
    },
    "papermill": {
     "duration": 0.048153,
     "end_time": "2022-04-19T13:17:10.980859",
     "exception": false,
     "start_time": "2022-04-19T13:17:10.932706",
     "status": "completed"
    },
    "tags": []
   },
   "outputs": [],
   "source": [
    "def build_model(num_cnn):\n",
    "    model = [0] *num_cnn\n",
    "    for j in range(num_cnn):\n",
    "        model[j] = Sequential()\n",
    "\n",
    "        model[j].add(Conv2D(32, kernel_size = 3, activation='relu', input_shape = (28, 28, 1))) # Two stacked 3x3 filters instead of single 5x5 filters. \n",
    "        model[j].add(BatchNormalization()) # Batch normalization is added\n",
    "        model[j].add(Conv2D(32, kernel_size = 3, activation='relu')) # and ReLU activation replaces sigmoid.\n",
    "        model[j].add(BatchNormalization())\n",
    "        model[j].add(Conv2D(32, kernel_size = 5, strides=2, padding='same', activation='relu')) # Stride 2 replaces pooling layers. These become learnable pooling layers.\n",
    "        model[j].add(BatchNormalization())\n",
    "        model[j].add(Dropout(0.4)) #  Dropout is added\n",
    "\n",
    "        model[j].add(Conv2D(64, kernel_size = 3, activation='relu'))\n",
    "        model[j].add(BatchNormalization())\n",
    "        model[j].add(Conv2D(64, kernel_size = 3, activation='relu'))\n",
    "        model[j].add(BatchNormalization())\n",
    "        model[j].add(Conv2D(64, kernel_size = 5, strides=2, padding='same', activation='relu'))\n",
    "        model[j].add(BatchNormalization())\n",
    "        model[j].add(Dropout(0.4))\n",
    "\n",
    "        model[j].add(Conv2D(128, kernel_size = 4, activation='relu'))\n",
    "        model[j].add(BatchNormalization())\n",
    "        model[j].add(Flatten())\n",
    "        model[j].add(Dropout(0.4))\n",
    "        model[j].add(Dense(10, activation='softmax'))\n",
    "\n",
    "        model[j].compile(optimizer=\"adam\", loss=\"categorical_crossentropy\", metrics=[\"accuracy\"])\n",
    "    return model\n",
    "    "
   ]
  },
  {
   "cell_type": "code",
   "execution_count": 17,
   "id": "48a5f8a9",
   "metadata": {
    "execution": {
     "iopub.execute_input": "2022-04-19T13:17:11.050217Z",
     "iopub.status.busy": "2022-04-19T13:17:11.049666Z",
     "iopub.status.idle": "2022-04-19T13:17:13.431510Z",
     "shell.execute_reply": "2022-04-19T13:17:13.432094Z",
     "shell.execute_reply.started": "2022-04-19T13:08:55.820993Z"
    },
    "papermill": {
     "duration": 2.418587,
     "end_time": "2022-04-19T13:17:13.432303",
     "exception": false,
     "start_time": "2022-04-19T13:17:11.013716",
     "status": "completed"
    },
    "tags": []
   },
   "outputs": [
    {
     "name": "stderr",
     "output_type": "stream",
     "text": [
      "2022-04-19 13:17:11.137473: I tensorflow/stream_executor/cuda/cuda_gpu_executor.cc:937] successful NUMA node read from SysFS had negative value (-1), but there must be at least one NUMA node, so returning NUMA node zero\n",
      "2022-04-19 13:17:11.226537: I tensorflow/stream_executor/cuda/cuda_gpu_executor.cc:937] successful NUMA node read from SysFS had negative value (-1), but there must be at least one NUMA node, so returning NUMA node zero\n",
      "2022-04-19 13:17:11.227317: I tensorflow/stream_executor/cuda/cuda_gpu_executor.cc:937] successful NUMA node read from SysFS had negative value (-1), but there must be at least one NUMA node, so returning NUMA node zero\n",
      "2022-04-19 13:17:11.228457: I tensorflow/core/platform/cpu_feature_guard.cc:142] This TensorFlow binary is optimized with oneAPI Deep Neural Network Library (oneDNN) to use the following CPU instructions in performance-critical operations:  AVX2 AVX512F FMA\n",
      "To enable them in other operations, rebuild TensorFlow with the appropriate compiler flags.\n",
      "2022-04-19 13:17:11.229443: I tensorflow/stream_executor/cuda/cuda_gpu_executor.cc:937] successful NUMA node read from SysFS had negative value (-1), but there must be at least one NUMA node, so returning NUMA node zero\n",
      "2022-04-19 13:17:11.230200: I tensorflow/stream_executor/cuda/cuda_gpu_executor.cc:937] successful NUMA node read from SysFS had negative value (-1), but there must be at least one NUMA node, so returning NUMA node zero\n",
      "2022-04-19 13:17:11.230873: I tensorflow/stream_executor/cuda/cuda_gpu_executor.cc:937] successful NUMA node read from SysFS had negative value (-1), but there must be at least one NUMA node, so returning NUMA node zero\n",
      "2022-04-19 13:17:12.956703: I tensorflow/stream_executor/cuda/cuda_gpu_executor.cc:937] successful NUMA node read from SysFS had negative value (-1), but there must be at least one NUMA node, so returning NUMA node zero\n",
      "2022-04-19 13:17:12.957665: I tensorflow/stream_executor/cuda/cuda_gpu_executor.cc:937] successful NUMA node read from SysFS had negative value (-1), but there must be at least one NUMA node, so returning NUMA node zero\n",
      "2022-04-19 13:17:12.958348: I tensorflow/stream_executor/cuda/cuda_gpu_executor.cc:937] successful NUMA node read from SysFS had negative value (-1), but there must be at least one NUMA node, so returning NUMA node zero\n",
      "2022-04-19 13:17:12.958950: I tensorflow/core/common_runtime/gpu/gpu_device.cc:1510] Created device /job:localhost/replica:0/task:0/device:GPU:0 with 15403 MB memory:  -> device: 0, name: Tesla P100-PCIE-16GB, pci bus id: 0000:00:04.0, compute capability: 6.0\n"
     ]
    }
   ],
   "source": [
    "# num_cnn=1 # First running for 1 num_cnn only to check all is working fine\n",
    "num_cnn=10\n",
    "model = build_model(num_cnn)"
   ]
  },
  {
   "cell_type": "markdown",
   "id": "e75b8d76",
   "metadata": {
    "_uuid": "e433661c7762b947c0fbfc4ad3f5e1d2e056312c",
    "papermill": {
     "duration": 0.033901,
     "end_time": "2022-04-19T13:17:13.501482",
     "exception": false,
     "start_time": "2022-04-19T13:17:13.467581",
     "status": "completed"
    },
    "tags": []
   },
   "source": [
    "## Train 10 CNNs"
   ]
  },
  {
   "cell_type": "code",
   "execution_count": 18,
   "id": "e2656098",
   "metadata": {
    "execution": {
     "iopub.execute_input": "2022-04-19T13:17:13.577057Z",
     "iopub.status.busy": "2022-04-19T13:17:13.574553Z",
     "iopub.status.idle": "2022-04-19T13:17:13.579022Z",
     "shell.execute_reply": "2022-04-19T13:17:13.579434Z",
     "shell.execute_reply.started": "2022-04-19T13:08:58.117756Z"
    },
    "papermill": {
     "duration": 0.043829,
     "end_time": "2022-04-19T13:17:13.579554",
     "exception": false,
     "start_time": "2022-04-19T13:17:13.535725",
     "status": "completed"
    },
    "tags": []
   },
   "outputs": [],
   "source": [
    "def train(num_epochs):\n",
    "    # Keep reducing the Learning Rate\n",
    "    lr_scheduler = LearningRateScheduler(lambda x: 1e-3 * 0.95 ** x)\n",
    "    # Training starts\n",
    "    history = [0] * num_cnn\n",
    "    for cnn in range(num_cnn):\n",
    "        X_train_split, X_val_split, Y_train_split, Y_val_split = train_test_split(\n",
    "            X_train, Y_train, test_size=0.1\n",
    "        )\n",
    "        history[cnn] = model[cnn].fit(\n",
    "            datagen.flow(X_train_split, Y_train_split, batch_size=64),\n",
    "            epochs=num_epochs,\n",
    "            steps_per_epoch=X_train_split.shape[0] // 64,\n",
    "            validation_data=(X_val_split, Y_val_split),\n",
    "            callbacks=[lr_scheduler],\n",
    "            verbose=0,\n",
    "        )\n",
    "        print(\n",
    "            \"CNN {0:d}: Epochs={1:d}, Train accuracy={2:.5f}, Validation accuracy={3:.5f}\".format(\n",
    "                cnn + 1,\n",
    "                num_epochs,\n",
    "                max(history[cnn].history[\"accuracy\"]),\n",
    "                max(history[cnn].history[\"val_accuracy\"]),\n",
    "            )\n",
    "        )"
   ]
  },
  {
   "cell_type": "code",
   "execution_count": 19,
   "id": "4087c72b",
   "metadata": {
    "execution": {
     "iopub.execute_input": "2022-04-19T13:17:13.652714Z",
     "iopub.status.busy": "2022-04-19T13:17:13.651013Z",
     "iopub.status.idle": "2022-04-19T13:17:35.505449Z",
     "shell.execute_reply": "2022-04-19T13:17:35.504736Z",
     "shell.execute_reply.started": "2022-04-19T13:08:58.128390Z"
    },
    "papermill": {
     "duration": 21.892206,
     "end_time": "2022-04-19T13:17:35.505633",
     "exception": false,
     "start_time": "2022-04-19T13:17:13.613427",
     "status": "completed"
    },
    "tags": []
   },
   "outputs": [
    {
     "name": "stderr",
     "output_type": "stream",
     "text": [
      "2022-04-19 13:17:14.167958: I tensorflow/compiler/mlir/mlir_graph_optimization_pass.cc:185] None of the MLIR Optimization Passes are enabled (registered 2)\n",
      "2022-04-19 13:17:15.731207: I tensorflow/stream_executor/cuda/cuda_dnn.cc:369] Loaded cuDNN version 8005\n"
     ]
    },
    {
     "name": "stdout",
     "output_type": "stream",
     "text": [
      "CNN 1: Epochs=1, Train accuracy=0.85552, Validation accuracy=0.96452\n"
     ]
    }
   ],
   "source": [
    "# num_epochs = 1  # First running for 1 epoch only to check all is working fine\n",
    "num_epochs = 45\n",
    "train(num_epochs)"
   ]
  },
  {
   "cell_type": "markdown",
   "id": "08880636",
   "metadata": {
    "papermill": {
     "duration": 0.036261,
     "end_time": "2022-04-19T13:17:35.579910",
     "exception": false,
     "start_time": "2022-04-19T13:17:35.543649",
     "status": "completed"
    },
    "tags": []
   },
   "source": [
    "## Total image count\n",
    "\n",
    "42,000 number of samples images * 90% Train Split Dataset * 45 epochs * 10 CNN => 17 Million\n",
    "\n",
    "---"
   ]
  },
  {
   "cell_type": "markdown",
   "id": "076ebed2",
   "metadata": {
    "papermill": {
     "duration": 0.040946,
     "end_time": "2022-04-19T13:17:35.656807",
     "exception": false,
     "start_time": "2022-04-19T13:17:35.615861",
     "status": "completed"
    },
    "tags": []
   },
   "source": [
    "## [LearningRateScheduler](https://keras.io/api/callbacks/learning_rate_scheduler/)\n",
    "\n",
    "\n",
    "`tf.keras.callbacks.LearningRateScheduler(schedule, verbose=0)`\n",
    "\n",
    "At the beginning of every epoch, this callback gets the updated learning rate value from schedule function provided at `__init__`, with the current epoch and current learning rate, and applies the updated learning rate on the optimizer.\n",
    "\n",
    "Arguments\n",
    "\n",
    "schedule: a function that takes an epoch index (integer, indexed from 0) and current learning rate (float) as inputs and returns a new learning rate as output (float).\n",
    "verbose: int. 0: quiet, 1: update messages.\n"
   ]
  },
  {
   "cell_type": "markdown",
   "id": "8ebb97b4",
   "metadata": {
    "_uuid": "28b78b6502d2d1c993555725383f3e30728fa5be",
    "papermill": {
     "duration": 0.044467,
     "end_time": "2022-04-19T13:17:35.740582",
     "exception": false,
     "start_time": "2022-04-19T13:17:35.696115",
     "status": "completed"
    },
    "tags": []
   },
   "source": [
    "# Ensemble 10 CNN predictions and submit"
   ]
  },
  {
   "cell_type": "code",
   "execution_count": 20,
   "id": "120c7c84",
   "metadata": {
    "execution": {
     "iopub.execute_input": "2022-04-19T13:17:35.827043Z",
     "iopub.status.busy": "2022-04-19T13:17:35.825742Z",
     "iopub.status.idle": "2022-04-19T13:17:35.829463Z",
     "shell.execute_reply": "2022-04-19T13:17:35.829000Z",
     "shell.execute_reply.started": "2022-04-19T13:09:20.457789Z"
    },
    "papermill": {
     "duration": 0.045971,
     "end_time": "2022-04-19T13:17:35.829571",
     "exception": false,
     "start_time": "2022-04-19T13:17:35.783600",
     "status": "completed"
    },
    "tags": []
   },
   "outputs": [
    {
     "data": {
      "text/plain": [
       "(28000, 28, 28, 1)"
      ]
     },
     "execution_count": 20,
     "metadata": {},
     "output_type": "execute_result"
    }
   ],
   "source": [
    "X_test.shape"
   ]
  },
  {
   "cell_type": "code",
   "execution_count": 21,
   "id": "40a20ed8",
   "metadata": {
    "execution": {
     "iopub.execute_input": "2022-04-19T13:17:35.907735Z",
     "iopub.status.busy": "2022-04-19T13:17:35.906852Z",
     "iopub.status.idle": "2022-04-19T13:17:35.910803Z",
     "shell.execute_reply": "2022-04-19T13:17:35.910358Z",
     "shell.execute_reply.started": "2022-04-19T13:10:01.295560Z"
    },
    "papermill": {
     "duration": 0.045138,
     "end_time": "2022-04-19T13:17:35.910920",
     "exception": false,
     "start_time": "2022-04-19T13:17:35.865782",
     "status": "completed"
    },
    "tags": []
   },
   "outputs": [
    {
     "data": {
      "text/plain": [
       "(28000, 10)"
      ]
     },
     "execution_count": 21,
     "metadata": {},
     "output_type": "execute_result"
    }
   ],
   "source": [
    "final_ensemble_prediction = np.zeros( (X_test.shape[0],10) )\n",
    "\n",
    "final_ensemble_prediction.shape"
   ]
  },
  {
   "cell_type": "markdown",
   "id": "8e0560c0",
   "metadata": {
    "papermill": {
     "duration": 0.035791,
     "end_time": "2022-04-19T13:17:35.984293",
     "exception": false,
     "start_time": "2022-04-19T13:17:35.948502",
     "status": "completed"
    },
    "tags": []
   },
   "source": [
    "# Final ensemble"
   ]
  },
  {
   "cell_type": "code",
   "execution_count": 22,
   "id": "fa78b511",
   "metadata": {
    "_uuid": "6e4e01ffe692c34c555bdbf5d606611f9a128b9c",
    "execution": {
     "iopub.execute_input": "2022-04-19T13:17:36.064501Z",
     "iopub.status.busy": "2022-04-19T13:17:36.063559Z",
     "iopub.status.idle": "2022-04-19T13:17:37.980719Z",
     "shell.execute_reply": "2022-04-19T13:17:37.981506Z",
     "shell.execute_reply.started": "2022-04-19T13:10:03.916792Z"
    },
    "papermill": {
     "duration": 1.961103,
     "end_time": "2022-04-19T13:17:37.981714",
     "exception": false,
     "start_time": "2022-04-19T13:17:36.020611",
     "status": "completed"
    },
    "tags": []
   },
   "outputs": [
    {
     "name": "stdout",
     "output_type": "stream",
     "text": [
      "success\n"
     ]
    }
   ],
   "source": [
    "for j in range(num_cnn):\n",
    "    final_ensemble_prediction = np.zeros( (X_test.shape[0],10) )\n",
    "    final_ensemble_prediction = final_ensemble_prediction + model[j].predict(X_test)\n",
    "\n",
    "    final_ensemble_prediction = np.argmax(final_ensemble_prediction,axis = 1)\n",
    "    \n",
    "#     print(\"final_ensemble_prediction.shape \", final_ensemble_prediction.shape)\n",
    "\n",
    "    final_ensemble_prediction = pd.Series(final_ensemble_prediction,name=\"Label\")\n",
    "\n",
    "    submission = pd.concat([pd.Series(range(1,28001),name = \"ImageId\"),final_ensemble_prediction],axis = 1)\n",
    "\n",
    "    submission.to_csv(\"MNIST_ensemble_cnn.csv\",index=False)\n",
    "    \n",
    "    print('success')"
   ]
  },
  {
   "cell_type": "markdown",
   "id": "058df107",
   "metadata": {
    "papermill": {
     "duration": 0.036264,
     "end_time": "2022-04-19T13:17:38.057036",
     "exception": false,
     "start_time": "2022-04-19T13:17:38.020772",
     "status": "completed"
    },
    "tags": []
   },
   "source": [
    "#### Some References\n",
    "\n",
    "1. https://www.kaggle.com/code/friskycodeur/image-recognition-using-cnn-explained/notebook\n",
    "2. https://www.kaggle.com/code/mohammedmurtuzalabib/mnist-ensemble-of-5-cnns-0-99742/notebook"
   ]
  },
  {
   "cell_type": "markdown",
   "id": "4dee98ca",
   "metadata": {
    "papermill": {
     "duration": 0.035873,
     "end_time": "2022-04-19T13:17:38.129027",
     "exception": false,
     "start_time": "2022-04-19T13:17:38.093154",
     "status": "completed"
    },
    "tags": []
   },
   "source": [
    "## Bonus Point - A Note on `model[cnn].fit_` method used inside my train() method above\n",
    "\n",
    "As mentioned in the [documentation][1] : \n",
    "\n",
    ">  x: Input data. It could be\n",
    ">  - A Numpy array (or array-like), or a list of arrays (in case the model has multiple inputs). \n",
    ">  - A TensorFlow tensor, or a list of tensors (in case the model has multiple inputs).\n",
    ">  - A dict mapping input names to the corresponding array/tensors, if the\n",
    ">      model has named inputs. \n",
    ">  - A tf.data dataset. Should return a tuple of either (inputs, targets) or (inputs, targets, sample_weights)\n",
    ">  - *A generator or keras.utils.Sequence returning (inputs, targets) or (inputs, targets, sample weights).\n",
    "\n",
    "\n",
    "you can simply pass the generator to `Model.fit` as below\n",
    "\n",
    "```py\n",
    "\n",
    "data_gen_train = ImageDataGenerator(rescale=1/255.)\n",
    "\n",
    "data_gen_valid = ImageDataGenerator(rescale=1/255.)\n",
    "\n",
    "train_generator = data_gen_train.flow_from_directory(train_dir, target_size=(128,128), batch_size=128, class_mode=\"binary\")\n",
    "\n",
    "valid_generator = data_gen_valid.flow_from_directory(validation_dir, target_size=(128,128), batch_size=128, class_mode=\"binary\")\n",
    "\n",
    "model.fit(train_generator, epochs=2, validation_data=valid_generator) \n",
    "\n",
    "```\n",
    "\n",
    "  [1]: https://www.tensorflow.org/versions/r2.1/api_docs/python/tf/keras/Model#fit\n",
    "\n",
    "\n",
    "---"
   ]
  }
 ],
 "metadata": {
  "kernelspec": {
   "display_name": "Python 3",
   "language": "python",
   "name": "python3"
  },
  "language_info": {
   "codemirror_mode": {
    "name": "ipython",
    "version": 3
   },
   "file_extension": ".py",
   "mimetype": "text/x-python",
   "name": "python",
   "nbconvert_exporter": "python",
   "pygments_lexer": "ipython3",
   "version": "3.7.12"
  },
  "papermill": {
   "default_parameters": {},
   "duration": 53.653053,
   "end_time": "2022-04-19T13:17:41.201685",
   "environment_variables": {},
   "exception": null,
   "input_path": "__notebook__.ipynb",
   "output_path": "__notebook__.ipynb",
   "parameters": {},
   "start_time": "2022-04-19T13:16:47.548632",
   "version": "2.3.3"
  }
 },
 "nbformat": 4,
 "nbformat_minor": 5
}
