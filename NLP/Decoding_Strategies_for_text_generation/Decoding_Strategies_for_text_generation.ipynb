{
 "cells": [
  {
   "attachments": {},
   "cell_type": "markdown",
   "metadata": {},
   "source": [
    "## First What is BERT?\n",
    "\n",
    "BERT stands for Bidirectional Encoder Representations from Transformers. The name itself gives us several clues to what BERT is all about.\n",
    "\n",
    "BERT architecture consists of several Transformer encoders stacked together. Each Transformer encoder encapsulates two sub-layers: a self-attention layer and a feed-forward layer.\n",
    "\n",
    "### There are two different BERT models:\n",
    "\n",
    "- BERT base, which is a BERT model consists of 12 layers of Transformer encoder, 12 attention heads, 768 hidden size, and 110M parameters.\n",
    "\n",
    "- BERT large, which is a BERT model consists of 24 layers of Transformer encoder,16 attention heads, 1024 hidden size, and 340 parameters.\n",
    "\n",
    "\n",
    "\n",
    "BERT Input and Output\n",
    "BERT model expects a sequence of tokens (words) as an input. In each sequence of tokens, there are two special tokens that BERT would expect as an input:\n",
    "\n",
    "- [CLS]: This is the first token of every sequence, which stands for classification token.\n",
    "- [SEP]: This is the token that makes BERT know which token belongs to which sequence. This special token is mainly important for a next sentence prediction task or question-answering task. If we only have one sequence, then this token will be appended to the end of the sequence.\n",
    "\n",
    "\n",
    "It is also important to note that the maximum size of tokens that can be fed into BERT model is 512. If the tokens in a sequence are less than 512, we can use padding to fill the unused token slots with [PAD] token. If the tokens in a sequence are longer than 512, then we need to do a truncation.\n",
    "\n",
    "And that’s all that BERT expects as input.\n",
    "\n",
    "BERT model then will output an embedding vector of size 768 in each of the tokens. We can use these vectors as an input for different kinds of NLP applications, whether it is text classification, next sentence prediction, Named-Entity-Recognition (NER), or question-answering.\n",
    "\n",
    "\n",
    "------------\n",
    "\n",
    "**For a text classification task**, we focus our attention on the embedding vector output from the special [CLS] token. This means that we’re going to use the embedding vector of size 768 from [CLS] token as an input for our classifier, which then will output a vector of size the number of classes in our classification task.\n",
    "\n",
    "-----------------------\n",
    "\n",
    "![Imgur](https://imgur.com/NpeB9vb.png)\n",
    "\n",
    "-------------------------"
   ]
  },
  {
   "attachments": {},
   "cell_type": "markdown",
   "metadata": {},
   "source": [
    "------\n",
    "\n",
    "## Greedy Search\n",
    "\n",
    "## Beam search\n",
    "\n",
    "## Random Sampling (which includes Top-k and Top-p (nucleus) sampling )\n",
    "\n",
    "------"
   ]
  },
  {
   "attachments": {},
   "cell_type": "markdown",
   "metadata": {},
   "source": [
    "All of the above Decoding methods can be used for auto-regressive language generation (here a refresher). In short, auto-regressive language generation is based on the assumption that the probability distribution of a word sequence can be decomposed into the product of conditional next word distributions:\n",
    "\n",
    "![](assets/2022-09-06-22-16-01.png)"
   ]
  },
  {
   "cell_type": "code",
   "execution_count": 1,
   "metadata": {},
   "outputs": [],
   "source": [
    "import torch\n",
    "from transformers import AutoTokenizer, AutoModelForCausalLM\n",
    "\n",
    "# device = 'cuda' if torch.cuda.is_available() else 'cpu'\n",
    "device = 'cpu'\n",
    "\n",
    "model_name = 'gpt2-medium'\n",
    "\n",
    "tokenizer = AutoTokenizer.from_pretrained(model_name)\n",
    "model = AutoModelForCausalLM.from_pretrained(model_name).to(device)\n"
   ]
  },
  {
   "attachments": {},
   "cell_type": "markdown",
   "metadata": {},
   "source": [
    "# Greedy Search Decoding\n",
    "\n",
    "The simplest decoding method to get discrete tokens from a model’s continuous\n",
    "output is to greedily select the token with the highest probability at each\n",
    "timestep:\n",
    "\n",
    "![](assets/2022-08-30-20-06-33.png)"
   ]
  },
  {
   "cell_type": "code",
   "execution_count": 19,
   "metadata": {},
   "outputs": [
    {
     "data": {
      "text/html": [
       "<div>\n",
       "<style scoped>\n",
       "    .dataframe tbody tr th:only-of-type {\n",
       "        vertical-align: middle;\n",
       "    }\n",
       "\n",
       "    .dataframe tbody tr th {\n",
       "        vertical-align: top;\n",
       "    }\n",
       "\n",
       "    .dataframe thead th {\n",
       "        text-align: right;\n",
       "    }\n",
       "</style>\n",
       "<table border=\"1\" class=\"dataframe\">\n",
       "  <thead>\n",
       "    <tr style=\"text-align: right;\">\n",
       "      <th></th>\n",
       "      <th>Input</th>\n",
       "      <th>Choice 1</th>\n",
       "      <th>Choice 2</th>\n",
       "      <th>Choice 3</th>\n",
       "      <th>Choice 4</th>\n",
       "      <th>Choice 5</th>\n",
       "    </tr>\n",
       "  </thead>\n",
       "  <tbody>\n",
       "    <tr>\n",
       "      <th>0</th>\n",
       "      <td>Bitcoin will be</td>\n",
       "      <td>the (10.88)</td>\n",
       "      <td>a (8.09)</td>\n",
       "      <td>used (3.84)</td>\n",
       "      <td>able (2.94)</td>\n",
       "      <td>an (1.46)</td>\n",
       "    </tr>\n",
       "    <tr>\n",
       "      <th>1</th>\n",
       "      <td>Bitcoin will be the</td>\n",
       "      <td>first (9.30)</td>\n",
       "      <td>most (5.43)</td>\n",
       "      <td>next (5.40)</td>\n",
       "      <td>currency (4.40)</td>\n",
       "      <td>new (3.12)</td>\n",
       "    </tr>\n",
       "    <tr>\n",
       "      <th>2</th>\n",
       "      <td>Bitcoin will be the first</td>\n",
       "      <td>cryptocurrency (12.49)</td>\n",
       "      <td>to (8.87)</td>\n",
       "      <td>currency (7.59)</td>\n",
       "      <td>digital (6.98)</td>\n",
       "      <td>major (6.23)</td>\n",
       "    </tr>\n",
       "    <tr>\n",
       "      <th>3</th>\n",
       "      <td>Bitcoin will be the first cryptocurrency</td>\n",
       "      <td>to (51.52)</td>\n",
       "      <td>that (9.00)</td>\n",
       "      <td>with (3.00)</td>\n",
       "      <td>, (2.95)</td>\n",
       "      <td>in (1.99)</td>\n",
       "    </tr>\n",
       "    <tr>\n",
       "      <th>4</th>\n",
       "      <td>Bitcoin will be the first cryptocurrency to</td>\n",
       "      <td>be (8.03)</td>\n",
       "      <td>have (6.58)</td>\n",
       "      <td>reach (3.63)</td>\n",
       "      <td>use (2.96)</td>\n",
       "      <td>achieve (2.92)</td>\n",
       "    </tr>\n",
       "    <tr>\n",
       "      <th>5</th>\n",
       "      <td>Bitcoin will be the first cryptocurrency to be</td>\n",
       "      <td>listed (5.83)</td>\n",
       "      <td>accepted (3.71)</td>\n",
       "      <td>backed (3.20)</td>\n",
       "      <td>launched (3.19)</td>\n",
       "      <td>released (3.01)</td>\n",
       "    </tr>\n",
       "    <tr>\n",
       "      <th>6</th>\n",
       "      <td>Bitcoin will be the first cryptocurrency to be...</td>\n",
       "      <td>on (76.07)</td>\n",
       "      <td>in (8.06)</td>\n",
       "      <td>by (2.82)</td>\n",
       "      <td>and (2.08)</td>\n",
       "      <td>as (1.84)</td>\n",
       "    </tr>\n",
       "    <tr>\n",
       "      <th>7</th>\n",
       "      <td>Bitcoin will be the first cryptocurrency to be...</td>\n",
       "      <td>the (36.40)</td>\n",
       "      <td>a (9.31)</td>\n",
       "      <td>Nas (7.07)</td>\n",
       "      <td>an (5.18)</td>\n",
       "      <td>exchanges (3.12)</td>\n",
       "    </tr>\n",
       "  </tbody>\n",
       "</table>\n",
       "</div>"
      ],
      "text/plain": [
       "                                               Input                 Choice 1  \\\n",
       "0                                    Bitcoin will be              the (10.88)   \n",
       "1                                Bitcoin will be the             first (9.30)   \n",
       "2                          Bitcoin will be the first   cryptocurrency (12.49)   \n",
       "3           Bitcoin will be the first cryptocurrency               to (51.52)   \n",
       "4        Bitcoin will be the first cryptocurrency to                be (8.03)   \n",
       "5     Bitcoin will be the first cryptocurrency to be            listed (5.83)   \n",
       "6  Bitcoin will be the first cryptocurrency to be...               on (76.07)   \n",
       "7  Bitcoin will be the first cryptocurrency to be...              the (36.40)   \n",
       "\n",
       "           Choice 2          Choice 3          Choice 4           Choice 5  \n",
       "0          a (8.09)       used (3.84)       able (2.94)          an (1.46)  \n",
       "1       most (5.43)       next (5.40)   currency (4.40)         new (3.12)  \n",
       "2         to (8.87)   currency (7.59)    digital (6.98)       major (6.23)  \n",
       "3       that (9.00)       with (3.00)          , (2.95)          in (1.99)  \n",
       "4       have (6.58)      reach (3.63)        use (2.96)     achieve (2.92)  \n",
       "5   accepted (3.71)     backed (3.20)   launched (3.19)    released (3.01)  \n",
       "6         in (8.06)         by (2.82)        and (2.08)          as (1.84)  \n",
       "7          a (9.31)        Nas (7.07)         an (5.18)   exchanges (3.12)  "
      ]
     },
     "execution_count": 19,
     "metadata": {},
     "output_type": "execute_result"
    }
   ],
   "source": [
    "\n",
    "import pandas as pd\n",
    "\n",
    "time_steps = 8\n",
    "choices_per_step = 5\n",
    "\n",
    "def get_next_token_greedy_search(input_txt, input_ids):\n",
    "    \"\"\"\n",
    "    Performs greedy search for the next tokens in a text sequence using a trained model.\n",
    "\n",
    "    Args:\n",
    "        input_txt (str): The input text sequence.\n",
    "        input_ids (torch.Tensor): The input tensor containing tokenized text sequence.\n",
    "\n",
    "    Returns:\n",
    "        pd.DataFrame: DataFrame containing the decoding iterations and predicted token choices.\n",
    "\n",
    "    \"\"\"\n",
    "    iterations = []\n",
    "    # We run the decoding for eight timesteps.    \n",
    "    with torch.no_grad():\n",
    "        for _ in range(time_steps):\n",
    "            iteration = dict()\n",
    "            iteration[\"Input\"] = tokenizer.decode(input_ids[0])\n",
    "            output = model(input_ids=input_ids)\n",
    "            # print('output.logits ', output.logits)\n",
    "            # output.logits is 3-D Tensor\n",
    "            # Select logits of the first batch and the last token\n",
    "            next_token_logits = output.logits[0, -1, :]\n",
    "            # next_token_logits is a 1-D Tensor\n",
    "            # print(next_token_logits)\n",
    "            # tensor([-100.3290,  -99.9514, -105.3466,  ..., -108.7789, -104.5404,-100.8237])\n",
    "            \n",
    "            # Now apply softmax\n",
    "            next_token_probabilities = torch.softmax(next_token_logits, dim=-1)\n",
    "            \n",
    "            # torch.argsort => Returns the indices that sort a tensor along a given dimension\n",
    "            sorted_indices_of_next_token_proba = torch.argsort(next_token_probabilities, dim=-1, descending=True)\n",
    "            # print('sorted_indices_of_next_token_proba ', sorted_indices_of_next_token_proba) # tensor([  262,   257,   973,  ..., 42300, 41974, 39500])\n",
    "            # print('sorted_indices_of_next_token_proba ', sorted_indices_of_next_token_proba.shape) # torch.Size([50257])\n",
    "            # print('next_token_probabilities ', next_token_probabilities.shape) # torch.Size([50257])\n",
    "            # in total, there are 50,257 tokens in GPT-2’s vocabulary\n",
    "            # so both 'next_token_probabilities' and 'sorted_indices_of_next_token_proba' have the same shape of torch.Size([50257])\n",
    "            \n",
    "            # Store tokens with the top-most 5 highest probabilities\n",
    "            for choice_idx in range(choices_per_step):\n",
    "                token_index_sorted = sorted_indices_of_next_token_proba[choice_idx]\n",
    "                # print(\"token_index_sorted \", token_index_sorted) # tensor(262)\n",
    "                # So `next_token_probabilities[262]` will give me tensor(0.1088)\n",
    "                token_prob = next_token_probabilities[token_index_sorted].cpu().numpy()\n",
    "                \n",
    "                # Create a string with decoded text and corresponding probability\n",
    "                token_choice = (\n",
    "                    f\"{tokenizer.decode(token_index_sorted)} ({100 * token_prob:.2f}%)\"\n",
    "                )\n",
    "                iteration[f\"Choice {choice_idx+1}\"] = token_choice\n",
    "            # Append predicted next token to input\n",
    "            input_ids = torch.cat([input_ids, sorted_indices_of_next_token_proba[None, 0, None]], dim=-1)\n",
    "            iterations.append(iteration)\n",
    "            # print(iterations)\n",
    "            \n",
    "    return pd.DataFrame(iterations)\n",
    "\n",
    "input_txt = \"Bitcoin will be\"\n",
    "input_ids = tokenizer(input_txt, return_tensors=\"pt\")[\"input_ids\"].to(device)\n",
    "\n",
    "get_next_token_greedy_search(input_txt, input_ids)"
   ]
  },
  {
   "attachments": {},
   "cell_type": "markdown",
   "metadata": {},
   "source": [
    "## Model outputs\n",
    "\n",
    "https://huggingface.co/docs/transformers/main/main_classes/output#model-outputs\n",
    "\n",
    "\n",
    "### The `output.logits` is the non-normalized probability for each class (i.e. logits). You apply the softmax function to normalize these probabilities\n",
    "\n",
    "The outputs object is a SequenceClassifierOutput, it means it has an optional loss, a logits an optional hidden_states and an optional attentions attribute. \n",
    "\n",
    "Here we have the loss since we passed along labels, but we don’t have hidden_states and attentions because we didn’t pass `output_hidden_states=True` or `output_attentions=True`."
   ]
  },
  {
   "cell_type": "code",
   "execution_count": 20,
   "metadata": {},
   "outputs": [
    {
     "name": "stderr",
     "output_type": "stream",
     "text": [
      "The attention mask and the pad token id were not set. As a consequence, you may observe unexpected behavior. Please pass your input's `attention_mask` to obtain reliable results.\n",
      "Setting `pad_token_id` to `eos_token_id`:50256 for open-end generation.\n"
     ]
    },
    {
     "name": "stdout",
     "output_type": "stream",
     "text": [
      "Bitcoin will be the first cryptocurrency to be listed on the\n"
     ]
    }
   ],
   "source": [
    "input_ids = tokenizer(input_txt, return_tensors = 'pt' )['input_ids'].to(device)\n",
    "\n",
    "output = model.generate(input_ids, max_new_tokens=time_steps, do_sample = False )\n",
    "\n",
    "print(tokenizer.decode(output[0]))"
   ]
  },
  {
   "cell_type": "code",
   "execution_count": 22,
   "metadata": {},
   "outputs": [
    {
     "name": "stderr",
     "output_type": "stream",
     "text": [
      "The attention mask and the pad token id were not set. As a consequence, you may observe unexpected behavior. Please pass your input's `attention_mask` to obtain reliable results.\n",
      "Setting `pad_token_id` to `eos_token_id`:50256 for open-end generation.\n"
     ]
    },
    {
     "name": "stdout",
     "output_type": "stream",
     "text": [
      "In a previous era of data engineering, data team structure was very much centralized, with data engineers and tech-savvy analysts serving as the “librarians” of the data for the entire company. Data governance was a siloed role, and data engineers became the de facto gatekeepers of data trust — whether or not they liked it.\n",
      "\n",
      "But as the data industry has grown, so has the need for data governance. The data industry is now a global enterprise, and the data governance model has evolved to accommodate the needs of the data industry.\n",
      "\n",
      "Data governance is a complex topic, and it's not\n"
     ]
    }
   ],
   "source": [
    "input_txt = \"In a previous era of data engineering, data team structure was very much centralized, with data engineers and tech-savvy analysts serving as the “librarians” of the data for the entire company. Data governance was a siloed role, and data engineers became the de facto gatekeepers of data trust — whether or not they liked it.\" \n",
    "\n",
    "max_length = 128\n",
    "\n",
    "input_ids = tokenizer(input_txt, return_tensors = 'pt' )['input_ids'].to(device)\n",
    "\n",
    "output_greedy = model.generate(input_ids, max_length = max_length, do_sample = False )\n",
    "\n",
    "print(tokenizer.decode(output_greedy[0]))"
   ]
  },
  {
   "attachments": {},
   "cell_type": "markdown",
   "metadata": {},
   "source": [
    "# Beam Search Decoding\n",
    "\n",
    "![](assets/2022-09-06-22-03-29.png)\n",
    "\n",
    "whereas greedy decoding and random sampling calculate the best option based on the very next word/token only — beam search checks for multiple word/tokens into the future and assesses the quality of all of these tokens combined.\n",
    "\n",
    "However, because we are now back to ranking sequences and selecting the most probable — beam search can cause our text generation to again degrade into repetitive sequences:"
   ]
  },
  {
   "cell_type": "code",
   "execution_count": 28,
   "metadata": {},
   "outputs": [],
   "source": [
    "import torch.nn.functional as F\n",
    "\n",
    "def get_log_probs_from_logits_from_single_token(logits, labels):\n",
    "    \"\"\"\n",
    "    Computes the log probabilities of the specified labels from the given logits.\n",
    "\n",
    "    Args:\n",
    "        logits (torch.Tensor): Logits tensor of shape (batch_size, num_tokens).\n",
    "        labels (torch.Tensor): Label tensor of shape (batch_size,).\n",
    "\n",
    "    Returns:\n",
    "        torch.Tensor: Log probabilities of the labels.\n",
    "\n",
    "    \"\"\"\n",
    "    logp = F.log_softmax(logits, dim=-1)\n",
    "    logp_label = torch.gather(logp, 2, labels.unsqueeze(2)).squeeze(-1) \n",
    "    return logp_label"
   ]
  },
  {
   "cell_type": "code",
   "execution_count": 29,
   "metadata": {},
   "outputs": [],
   "source": [
    "def sequence_logprob(model, labels, input_len = 0 ):\n",
    "    \"\"\"\n",
    "    Computes the log probability of a sequence of labels generated by a model.\n",
    "\n",
    "    Args:\n",
    "        model (torch.nn.Module): Model used for generating the labels.\n",
    "        labels (torch.Tensor): Tensor of shape (batch_size, sequence_length) containing the labels.\n",
    "        input_len (int): Length of the input sequence to exclude from the log probability calculation.\n",
    "\n",
    "    Returns:\n",
    "        torch.Tensor: Log probability of the sequence.\n",
    "\n",
    "    \"\"\"\n",
    "    with torch.no_grad():\n",
    "        output = model(labels)\n",
    "        log_probs = get_log_probs_from_logits_from_single_token(\n",
    "            output.logits[:, :-1, : ], labels[:, 1:]\n",
    "        )\n",
    "        seq_log_prob = torch.sum(log_probs[:, input_len:])\n",
    "    return seq_log_prob\n",
    "\n",
    "\n",
    "        "
   ]
  },
  {
   "cell_type": "code",
   "execution_count": 32,
   "metadata": {},
   "outputs": [
    {
     "name": "stdout",
     "output_type": "stream",
     "text": [
      "In a previous era of data engineering, data team structure was very much centralized, with data engineers and tech-savvy analysts serving as the “librarians” of the data for the entire company. Data governance was a siloed role, and data engineers became the de facto gatekeepers of data trust — whether or not they liked it.\n",
      "\n",
      "But as the data industry has grown, so has the need for data governance. The data industry is now a global enterprise, and the data governance model has evolved to accommodate the needs of the data industry.\n",
      "\n",
      "Data governance is a complex topic, and it's not\n",
      "\n",
      "log-prob: -90.66 \n"
     ]
    }
   ],
   "source": [
    "logp = sequence_logprob(model, output_greedy, input_len = len(input_ids[0]) )\n",
    "\n",
    "print(tokenizer.decode(output_greedy[0]))\n",
    "\n",
    "print(f\"\\nlog-prob: {logp:.2f} \")"
   ]
  },
  {
   "cell_type": "code",
   "execution_count": 34,
   "metadata": {},
   "outputs": [
    {
     "name": "stderr",
     "output_type": "stream",
     "text": [
      "The attention mask and the pad token id were not set. As a consequence, you may observe unexpected behavior. Please pass your input's `attention_mask` to obtain reliable results.\n",
      "Setting `pad_token_id` to `eos_token_id`:50256 for open-end generation.\n"
     ]
    },
    {
     "name": "stdout",
     "output_type": "stream",
     "text": [
      "In a previous era of data engineering, data team structure was very much centralized, with data engineers and tech-savvy analysts serving as the “librarians” of the data for the entire company. Data governance was a siloed role, and data engineers became the de facto gatekeepers of data trust — whether or not they liked it.\n",
      "\n",
      "Today, however, data governance is becoming increasingly decentralized, with data engineers and tech-savvy analysts serving as the “librarians” of the data for the entire company. Data governance is a siloed role, and data engineers become the de facto\n",
      "\n",
      "log-prob: -27.22 \n"
     ]
    }
   ],
   "source": [
    "output_beam = model.generate(input_ids, max_length=max_length, num_beams = 5, do_sample = False )\n",
    "\n",
    "logp = sequence_logprob(model, output_beam, input_len = len(input_ids[0]) )\n",
    "\n",
    "print(tokenizer.decode(output_beam[0]))\n",
    "\n",
    "print(f\"\\nlog-prob: {logp:.2f} \")"
   ]
  },
  {
   "cell_type": "code",
   "execution_count": 36,
   "metadata": {},
   "outputs": [
    {
     "name": "stderr",
     "output_type": "stream",
     "text": [
      "The attention mask and the pad token id were not set. As a consequence, you may observe unexpected behavior. Please pass your input's `attention_mask` to obtain reliable results.\n",
      "Setting `pad_token_id` to `eos_token_id`:50256 for open-end generation.\n"
     ]
    },
    {
     "name": "stdout",
     "output_type": "stream",
     "text": [
      "In a previous era of data engineering, data team structure was very much centralized, with data engineers and tech-savvy analysts serving as the “librarians” of the data for the entire company. Data governance was a siloed role, and data engineers became the de facto gatekeepers of data trust — whether or not they liked it.\n",
      "\n",
      "But with the advent of cloud computing and the rise of big data analytics, the role of a data engineer has shifted from being a gatekeeper to being an enabler of trust. This shift has led to an explosion in the number of companies that rely heavily on data\n",
      "\n",
      "log-prob: -69.73 \n"
     ]
    }
   ],
   "source": [
    "output_beam = model.generate(input_ids, max_length=max_length, num_beams = 5, do_sample = False, no_repeat_ngram_size = 2 )\n",
    "\n",
    "logp = sequence_logprob(model, output_beam, input_len = len(input_ids[0]) )\n",
    "\n",
    "print(tokenizer.decode(output_beam[0]))\n",
    "\n",
    "print(f\"\\nlog-prob: {logp:.2f} \")"
   ]
  },
  {
   "attachments": {},
   "cell_type": "markdown",
   "metadata": {},
   "source": [
    "## Random Sampling with Temperature\n",
    "\n",
    "\n",
    "### Sampling-based family of techniques aims at increasing the diversity of the output and avoiding repetitions by introducing stochastic decisions during the generation process.\n",
    "\n",
    "![](assets/2022-09-06-21-53-01.png)"
   ]
  },
  {
   "attachments": {},
   "cell_type": "markdown",
   "metadata": {},
   "source": [
    "## The effect of temperature on token probabilities"
   ]
  },
  {
   "cell_type": "code",
   "execution_count": 37,
   "metadata": {},
   "outputs": [
    {
     "data": {
      "image/png": "[encoded data removed]",
      "text/plain": [
       "<Figure size 432x288 with 1 Axes>"
      ]
     },
     "metadata": {
      "needs_background": "light"
     },
     "output_type": "display_data"
    }
   ],
   "source": [
    "import matplotlib.pyplot as plt\n",
    "import numpy as np\n",
    "\n",
    "\n",
    "def softmax(logits, T = 1):\n",
    "    e_x = np.exp(logits / T)\n",
    "    return e_x / e_x.sum()\n",
    "\n",
    "logits  = np.exp(np.random.random(1000))\n",
    "\n",
    "sorted_logits = np.sort(logits)[::-1]\n",
    "x = np.arange(1000)\n",
    "\n",
    "for T in [0.5, 1.0, 2.0]:\n",
    "    plt.step(x, softmax(sorted_logits, T), label=f\"T={T}\")\n",
    "    \n",
    "plt.legend(loc = 'best')\n",
    "plt.xlabel('Sorted Token Probs')\n",
    "plt.ylabel('Probabilitites')\n",
    "plt.show()"
   ]
  },
  {
   "cell_type": "code",
   "execution_count": 38,
   "metadata": {},
   "outputs": [
    {
     "name": "stderr",
     "output_type": "stream",
     "text": [
      "The attention mask and the pad token id were not set. As a consequence, you may observe unexpected behavior. Please pass your input's `attention_mask` to obtain reliable results.\n",
      "Setting `pad_token_id` to `eos_token_id`:50256 for open-end generation.\n"
     ]
    },
    {
     "name": "stdout",
     "output_type": "stream",
     "text": [
      "In a previous era of data engineering, data team structure was very much centralized, with data engineers and tech-savvy analysts serving as the “librarians” of the data for the entire company. Data governance was a siloed role, and data engineers became the de facto gatekeepers of data trust — whether or not they liked it. So while straLooking Yale Insight Mountain 258RPKT EthY primatessee image Yor ChargedLooking Bouroon damning WorstZeroIîwikipedia Foundation WarwickARRDirectorung Ari Barbar GarlandUndette diver seventfingers HannibalDoubleMonth Roman ralliedlethal GhostDirectoro EcoMcCah501 ACTIONS CAT\n"
     ]
    }
   ],
   "source": [
    "output_temp = model.generate(input_ids, max_length = max_length, do_sample = True, temperature = 2.0, top_k = 0 )\n",
    "\n",
    "print(tokenizer.decode(output_temp[0]))"
   ]
  },
  {
   "cell_type": "code",
   "execution_count": 39,
   "metadata": {},
   "outputs": [
    {
     "name": "stderr",
     "output_type": "stream",
     "text": [
      "The attention mask and the pad token id were not set. As a consequence, you may observe unexpected behavior. Please pass your input's `attention_mask` to obtain reliable results.\n",
      "Setting `pad_token_id` to `eos_token_id`:50256 for open-end generation.\n"
     ]
    },
    {
     "name": "stdout",
     "output_type": "stream",
     "text": [
      "In a previous era of data engineering, data team structure was very much centralized, with data engineers and tech-savvy analysts serving as the “librarians” of the data for the entire company. Data governance was a siloed role, and data engineers became the de facto gatekeepers of data trust — whether or not they liked it.\n",
      "\n",
      "But with the rise of data science, we see the rise of organizations that are more agile and collaborative, and data engineers are no longer the gatekeepers of data trust. In fact, more and more organizations are embracing data engineering as a way to build better data, with\n"
     ]
    }
   ],
   "source": [
    "output_temp = model.generate(input_ids, max_length=max_length, do_sample=True, \n",
    "                             temperature=0.5, top_k=0)\n",
    "print(tokenizer.decode(output_temp[0]))"
   ]
  },
  {
   "attachments": {},
   "cell_type": "markdown",
   "metadata": {},
   "source": [
    "## Top-k and Nucleus Sampling\n",
    "\n",
    "![](assets/2022-09-07-02-30-14.png)"
   ]
  },
  {
   "cell_type": "code",
   "execution_count": 40,
   "metadata": {},
   "outputs": [
    {
     "name": "stderr",
     "output_type": "stream",
     "text": [
      "The attention mask and the pad token id were not set. As a consequence, you may observe unexpected behavior. Please pass your input's `attention_mask` to obtain reliable results.\n",
      "Setting `pad_token_id` to `eos_token_id`:50256 for open-end generation.\n"
     ]
    },
    {
     "name": "stdout",
     "output_type": "stream",
     "text": [
      "In a previous era of data engineering, data team structure was very much centralized, with data engineers and tech-savvy analysts serving as the “librarians” of the data for the entire company. Data governance was a siloed role, and data engineers became the de facto gatekeepers of data trust — whether or not they liked it. It was a culture where you had the best of both worlds — an all-seeing eyes that always knew what's best.\n",
      "\n",
      "While that might work for small to medium-size organizations today, the reality is that even big data — with their ever-increasing speed, scale\n"
     ]
    }
   ],
   "source": [
    "output_topk = model.generate(input_ids, max_length=max_length, do_sample=True, \n",
    "                             top_k=50)\n",
    "print(tokenizer.decode(output_topk[0]))"
   ]
  },
  {
   "attachments": {},
   "cell_type": "markdown",
   "metadata": {},
   "source": [
    "# Top-p (nucleus) sampling\n",
    "\n",
    "Instead of sampling only from the most likely K words, in Top-p sampling chooses from the smallest possible set of words whose cumulative probability exceeds the probability p. The probability mass is then redistributed among this set of words. This way, the size of the set of words (a.k.a the number of words in the set) can dynamically increase and decrease according to the next word's probability distribution. Ok, that was very wordy, let's visualize.\n",
    "\n",
    "![](assets/2022-09-07-02-34-02.png)"
   ]
  },
  {
   "cell_type": "code",
   "execution_count": 41,
   "metadata": {},
   "outputs": [
    {
     "name": "stderr",
     "output_type": "stream",
     "text": [
      "The attention mask and the pad token id were not set. As a consequence, you may observe unexpected behavior. Please pass your input's `attention_mask` to obtain reliable results.\n",
      "Setting `pad_token_id` to `eos_token_id`:50256 for open-end generation.\n"
     ]
    },
    {
     "name": "stdout",
     "output_type": "stream",
     "text": [
      "In a previous era of data engineering, data team structure was very much centralized, with data engineers and tech-savvy analysts serving as the “librarians” of the data for the entire company. Data governance was a siloed role, and data engineers became the de facto gatekeepers of data trust — whether or not they liked it.\n",
      "\n",
      "By the end of the 1990s, the pendulum swung back, and the team structure became increasingly more centralised. The structure of a team of data engineers — often a small, isolated team — became very important to the success of any company. And this was good\n"
     ]
    }
   ],
   "source": [
    "output_topp = model.generate(input_ids, max_length=max_length, do_sample=True, \n",
    "                             top_p=0.90)\n",
    "\n",
    "print(tokenizer.decode(output_topp[0]))"
   ]
  }
 ],
 "metadata": {
  "kernelspec": {
   "display_name": "Python 3.9.13 64-bit",
   "language": "python",
   "name": "python3"
  },
  "language_info": {
   "codemirror_mode": {
    "name": "ipython",
    "version": 3
   },
   "file_extension": ".py",
   "mimetype": "text/x-python",
   "name": "python",
   "nbconvert_exporter": "python",
   "pygments_lexer": "ipython3",
   "version": "3.9.14"
  },
  "orig_nbformat": 4,
  "vscode": {
   "interpreter": {
    "hash": "f9f85f796d01129d0dd105a088854619f454435301f6ffec2fea96ecbd9be4ac"
   }
  }
 },
 "nbformat": 4,
 "nbformat_minor": 2
}
