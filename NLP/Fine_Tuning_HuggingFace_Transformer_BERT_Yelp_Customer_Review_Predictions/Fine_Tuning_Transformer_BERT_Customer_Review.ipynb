{
  "cells": [
    {
      "cell_type": "markdown",
      "metadata": {},
      "source": [
        " Understanding BERT Embeddings and Tokenization \n",
        "---\n"
      ]
    },
    {
      "cell_type": "markdown",
      "metadata": {},
      "source": [
        "## First What is BERT?\n",
        "\n",
        "BERT stands for Bidirectional Encoder Representations from Transformers. The name itself gives us several clues to what BERT is all about.\n",
        "\n",
        "BERT architecture consists of several Transformer encoders stacked together. Each Transformer encoder encapsulates two sub-layers: a self-attention layer and a feed-forward layer.\n",
        "\n",
        "### There are two different BERT models:\n",
        "\n",
        "- BERT base, which is a BERT model consists of 12 layers of Transformer encoder, 12 attention heads, 768 hidden size, and 110M parameters.\n",
        "\n",
        "- BERT large, which is a BERT model consists of 24 layers of Transformer encoder,16 attention heads, 1024 hidden size, and 340 parameters.\n",
        "\n",
        "\n",
        "\n",
        "BERT Input and Output\n",
        "BERT model expects a sequence of tokens (words) as an input. In each sequence of tokens, there are two special tokens that BERT would expect as an input:\n",
        "\n",
        "- [CLS]: This is the first token of every sequence, which stands for classification token.\n",
        "- [SEP]: This is the token that makes BERT know which token belongs to which sequence. This special token is mainly important for a next sentence prediction task or question-answering task. If we only have one sequence, then this token will be appended to the end of the sequence.\n",
        "\n",
        "\n",
        "It is also important to note that the maximum size of tokens that can be fed into BERT model is 512. If the tokens in a sequence are less than 512, we can use padding to fill the unused token slots with [PAD] token. If the tokens in a sequence are longer than 512, then we need to do a truncation.\n",
        "\n",
        "And that’s all that BERT expects as input.\n",
        "\n",
        "BERT model then will output an embedding vector of size 768 in each of the tokens. We can use these vectors as an input for different kinds of NLP applications, whether it is text classification, next sentence prediction, Named-Entity-Recognition (NER), or question-answering.\n",
        "\n",
        "\n",
        "------------\n",
        "\n",
        "**For a text classification task**, we focus our attention on the embedding vector output from the special [CLS] token. This means that we’re going to use the embedding vector of size 768 from [CLS] token as an input for our classifier, which then will output a vector of size the number of classes in our classification task.\n",
        "\n",
        "-----------------------\n",
        "\n",
        "![Imgur](https://imgur.com/NpeB9vb.png)\n",
        "\n",
        "-------------------------"
      ]
    },
    {
      "cell_type": "code",
      "execution_count": 1,
      "metadata": {
        "colab": {
          "base_uri": "https://localhost:8080/"
        },
        "execution": {
          "iopub.execute_input": "2022-09-30T09:36:44.608566Z",
          "iopub.status.busy": "2022-09-30T09:36:44.607818Z",
          "iopub.status.idle": "2022-09-30T09:36:44.626449Z",
          "shell.execute_reply": "2022-09-30T09:36:44.625407Z",
          "shell.execute_reply.started": "2022-09-30T09:36:44.608526Z"
        },
        "id": "eYjDDEuv74c9",
        "outputId": "655aa151-6fc5-4c05-ec79-38d1d9753867",
        "trusted": true
      },
      "outputs": [
        {
          "name": "stdout",
          "output_type": "stream",
          "text": [
            "Drive already mounted at /content/drive; to attempt to forcibly remount, call drive.mount(\"/content/drive\", force_remount=True).\n"
          ]
        }
      ],
      "source": [
        "from google.colab import drive\n",
        "drive.mount('/content/drive')"
      ]
    },
    {
      "cell_type": "code",
      "execution_count": 2,
      "metadata": {
        "colab": {
          "base_uri": "https://localhost:8080/"
        },
        "id": "M0Fgxv7_7_Ex",
        "outputId": "095e7941-3703-435c-a85e-ad394181f721"
      },
      "outputs": [
        {
          "name": "stdout",
          "output_type": "stream",
          "text": [
            "Fri Sep 30 11:53:41 2022       \n",
            "+-----------------------------------------------------------------------------+\n",
            "| NVIDIA-SMI 460.32.03    Driver Version: 460.32.03    CUDA Version: 11.2     |\n",
            "|-------------------------------+----------------------+----------------------+\n",
            "| GPU  Name        Persistence-M| Bus-Id        Disp.A | Volatile Uncorr. ECC |\n",
            "| Fan  Temp  Perf  Pwr:Usage/Cap|         Memory-Usage | GPU-Util  Compute M. |\n",
            "|                               |                      |               MIG M. |\n",
            "|===============================+======================+======================|\n",
            "|   0  Tesla T4            Off  | 00000000:00:04.0 Off |                    0 |\n",
            "| N/A   63C    P8    10W /  70W |      0MiB / 15109MiB |      0%      Default |\n",
            "|                               |                      |                  N/A |\n",
            "+-------------------------------+----------------------+----------------------+\n",
            "                                                                               \n",
            "+-----------------------------------------------------------------------------+\n",
            "| Processes:                                                                  |\n",
            "|  GPU   GI   CI        PID   Type   Process name                  GPU Memory |\n",
            "|        ID   ID                                                   Usage      |\n",
            "|=============================================================================|\n",
            "|  No running processes found                                                 |\n",
            "+-----------------------------------------------------------------------------+\n"
          ]
        }
      ],
      "source": [
        "!nvidia-smi"
      ]
    },
    {
      "cell_type": "code",
      "execution_count": 3,
      "metadata": {
        "execution": {
          "iopub.execute_input": "2022-09-30T09:36:44.629230Z",
          "iopub.status.busy": "2022-09-30T09:36:44.628320Z",
          "iopub.status.idle": "2022-09-30T09:36:55.188012Z",
          "shell.execute_reply": "2022-09-30T09:36:55.186812Z",
          "shell.execute_reply.started": "2022-09-30T09:36:44.629180Z"
        },
        "id": "Bx1rOj7yBKlN",
        "trusted": true
      },
      "outputs": [],
      "source": [
        "!pip install transformers tokenizers -q"
      ]
    },
    {
      "cell_type": "code",
      "execution_count": 8,
      "metadata": {
        "execution": {
          "iopub.execute_input": "2022-09-30T09:36:55.192837Z",
          "iopub.status.busy": "2022-09-30T09:36:55.191648Z",
          "iopub.status.idle": "2022-09-30T09:37:03.006669Z",
          "shell.execute_reply": "2022-09-30T09:37:03.004897Z",
          "shell.execute_reply.started": "2022-09-30T09:36:55.192795Z"
        },
        "id": "pM5JkntzA8TW",
        "trusted": true
      },
      "outputs": [],
      "source": [
        "from modeling import *\n",
        "from trainer import *\n",
        "from dataloader import *\n",
        "\n",
        "from transformers import BertTokenizer, BertModel, get_linear_schedule_with_warmup\n",
        "\n",
        "import torch\n",
        "from torch.utils.data import Dataset, DataLoader\n",
        "import torch.nn.functional as F\n",
        "from torch import nn, optim\n",
        "\n",
        "import numpy as np\n",
        "import pandas as pd\n",
        "import seaborn as sns\n",
        "from pylab import rcParams\n",
        "\n",
        "import matplotlib.pyplot as plt\n",
        "from matplotlib import rc\n",
        "\n",
        "from sklearn.model_selection import train_test_split\n",
        "from sklearn.metrics import confusion_matrix, classification_report\n",
        "\n",
        "from collections import defaultdict\n",
        "from textwrap import wrap\n",
        "\n",
        "%matplotlib inline\n",
        "%config InlineBackend.figure_format='retina'\n",
        "\n",
        "sns.set(style='whitegrid', palette='muted', font_scale=1.2)\n",
        "sns.set_palette(sns.color_palette(\"Paired\"))\n",
        "\n",
        "rcParams['figure.figsize'] = 12,8\n",
        "RANDOM_SEED = 42\n",
        "np.random.seed(RANDOM_SEED)\n",
        "torch.manual_seed(RANDOM_SEED)\n",
        "device = torch.device(\"cuda:0\" if torch.cuda.is_available() else \"cpu\")"
      ]
    },
    {
      "cell_type": "markdown",
      "metadata": {
        "id": "VdsMuXmuj2Eh"
      },
      "source": [
        "# Read Dataset"
      ]
    },
    {
      "cell_type": "code",
      "execution_count": 2,
      "metadata": {
        "execution": {
          "iopub.execute_input": "2022-09-30T09:37:03.009081Z",
          "iopub.status.busy": "2022-09-30T09:37:03.008402Z",
          "iopub.status.idle": "2022-09-30T09:37:03.016102Z",
          "shell.execute_reply": "2022-09-30T09:37:03.015140Z",
          "shell.execute_reply.started": "2022-09-30T09:37:03.009044Z"
        },
        "id": "-snI7Qbt7l5z",
        "trusted": true
      },
      "outputs": [],
      "source": [
        "csv_file_path = '../input/yelp.csv' #local machine"
      ]
    },
    {
      "cell_type": "code",
      "execution_count": 3,
      "metadata": {
        "colab": {
          "base_uri": "https://localhost:8080/",
          "height": 206
        },
        "execution": {
          "iopub.execute_input": "2022-09-30T09:37:03.018002Z",
          "iopub.status.busy": "2022-09-30T09:37:03.017587Z",
          "iopub.status.idle": "2022-09-30T09:37:03.227174Z",
          "shell.execute_reply": "2022-09-30T09:37:03.226199Z",
          "shell.execute_reply.started": "2022-09-30T09:37:03.017968Z"
        },
        "id": "VmwfY_Id7l5z",
        "outputId": "4a6254db-40e7-4e72-ff47-af84e04479db",
        "trusted": true
      },
      "outputs": [
        {
          "data": {
            "text/html": [
              "<div>\n",
              "<style scoped>\n",
              "    .dataframe tbody tr th:only-of-type {\n",
              "        vertical-align: middle;\n",
              "    }\n",
              "\n",
              "    .dataframe tbody tr th {\n",
              "        vertical-align: top;\n",
              "    }\n",
              "\n",
              "    .dataframe thead th {\n",
              "        text-align: right;\n",
              "    }\n",
              "</style>\n",
              "<table border=\"1\" class=\"dataframe\">\n",
              "  <thead>\n",
              "    <tr style=\"text-align: right;\">\n",
              "      <th></th>\n",
              "      <th>business_id</th>\n",
              "      <th>date</th>\n",
              "      <th>review_id</th>\n",
              "      <th>stars</th>\n",
              "      <th>text</th>\n",
              "      <th>type</th>\n",
              "      <th>user_id</th>\n",
              "      <th>cool</th>\n",
              "      <th>useful</th>\n",
              "      <th>funny</th>\n",
              "    </tr>\n",
              "  </thead>\n",
              "  <tbody>\n",
              "    <tr>\n",
              "      <th>0</th>\n",
              "      <td>9yKzy9PApeiPPOUJEtnvkg</td>\n",
              "      <td>2011-01-26</td>\n",
              "      <td>fWKvX83p0-ka4JS3dc6E5A</td>\n",
              "      <td>5</td>\n",
              "      <td>My wife took me here on my birthday for breakf...</td>\n",
              "      <td>review</td>\n",
              "      <td>rLtl8ZkDX5vH5nAx9C3q5Q</td>\n",
              "      <td>2</td>\n",
              "      <td>5</td>\n",
              "      <td>0</td>\n",
              "    </tr>\n",
              "    <tr>\n",
              "      <th>1</th>\n",
              "      <td>ZRJwVLyzEJq1VAihDhYiow</td>\n",
              "      <td>2011-07-27</td>\n",
              "      <td>IjZ33sJrzXqU-0X6U8NwyA</td>\n",
              "      <td>5</td>\n",
              "      <td>I have no idea why some people give bad review...</td>\n",
              "      <td>review</td>\n",
              "      <td>0a2KyEL0d3Yb1V6aivbIuQ</td>\n",
              "      <td>0</td>\n",
              "      <td>0</td>\n",
              "      <td>0</td>\n",
              "    </tr>\n",
              "    <tr>\n",
              "      <th>2</th>\n",
              "      <td>6oRAC4uyJCsJl1X0WZpVSA</td>\n",
              "      <td>2012-06-14</td>\n",
              "      <td>IESLBzqUCLdSzSqm0eCSxQ</td>\n",
              "      <td>4</td>\n",
              "      <td>love the gyro plate. Rice is so good and I als...</td>\n",
              "      <td>review</td>\n",
              "      <td>0hT2KtfLiobPvh6cDC8JQg</td>\n",
              "      <td>0</td>\n",
              "      <td>1</td>\n",
              "      <td>0</td>\n",
              "    </tr>\n",
              "    <tr>\n",
              "      <th>3</th>\n",
              "      <td>_1QQZuf4zZOyFCvXc0o6Vg</td>\n",
              "      <td>2010-05-27</td>\n",
              "      <td>G-WvGaISbqqaMHlNnByodA</td>\n",
              "      <td>5</td>\n",
              "      <td>Rosie, Dakota, and I LOVE Chaparral Dog Park!!...</td>\n",
              "      <td>review</td>\n",
              "      <td>uZetl9T0NcROGOyFfughhg</td>\n",
              "      <td>1</td>\n",
              "      <td>2</td>\n",
              "      <td>0</td>\n",
              "    </tr>\n",
              "    <tr>\n",
              "      <th>4</th>\n",
              "      <td>6ozycU1RpktNG2-1BroVtw</td>\n",
              "      <td>2012-01-05</td>\n",
              "      <td>1uJFq2r5QfJG_6ExMRCaGw</td>\n",
              "      <td>5</td>\n",
              "      <td>General Manager Scott Petello is a good egg!!!...</td>\n",
              "      <td>review</td>\n",
              "      <td>vYmM4KTsC8ZfQBg-j5MWkw</td>\n",
              "      <td>0</td>\n",
              "      <td>0</td>\n",
              "      <td>0</td>\n",
              "    </tr>\n",
              "  </tbody>\n",
              "</table>\n",
              "</div>"
            ],
            "text/plain": [
              "              business_id        date               review_id  stars  \\\n",
              "0  9yKzy9PApeiPPOUJEtnvkg  2011-01-26  fWKvX83p0-ka4JS3dc6E5A      5   \n",
              "1  ZRJwVLyzEJq1VAihDhYiow  2011-07-27  IjZ33sJrzXqU-0X6U8NwyA      5   \n",
              "2  6oRAC4uyJCsJl1X0WZpVSA  2012-06-14  IESLBzqUCLdSzSqm0eCSxQ      4   \n",
              "3  _1QQZuf4zZOyFCvXc0o6Vg  2010-05-27  G-WvGaISbqqaMHlNnByodA      5   \n",
              "4  6ozycU1RpktNG2-1BroVtw  2012-01-05  1uJFq2r5QfJG_6ExMRCaGw      5   \n",
              "\n",
              "                                                text    type  \\\n",
              "0  My wife took me here on my birthday for breakf...  review   \n",
              "1  I have no idea why some people give bad review...  review   \n",
              "2  love the gyro plate. Rice is so good and I als...  review   \n",
              "3  Rosie, Dakota, and I LOVE Chaparral Dog Park!!...  review   \n",
              "4  General Manager Scott Petello is a good egg!!!...  review   \n",
              "\n",
              "                  user_id  cool  useful  funny  \n",
              "0  rLtl8ZkDX5vH5nAx9C3q5Q     2       5      0  \n",
              "1  0a2KyEL0d3Yb1V6aivbIuQ     0       0      0  \n",
              "2  0hT2KtfLiobPvh6cDC8JQg     0       1      0  \n",
              "3  uZetl9T0NcROGOyFfughhg     1       2      0  \n",
              "4  vYmM4KTsC8ZfQBg-j5MWkw     0       0      0  "
            ]
          },
          "execution_count": 3,
          "metadata": {},
          "output_type": "execute_result"
        }
      ],
      "source": [
        "df = pd.read_csv(csv_file_path)\n",
        "df.head()"
      ]
    },
    {
      "cell_type": "code",
      "execution_count": 7,
      "metadata": {
        "colab": {
          "base_uri": "https://localhost:8080/"
        },
        "execution": {
          "iopub.execute_input": "2022-09-30T09:37:03.229451Z",
          "iopub.status.busy": "2022-09-30T09:37:03.228539Z",
          "iopub.status.idle": "2022-09-30T09:37:03.243842Z",
          "shell.execute_reply": "2022-09-30T09:37:03.242609Z",
          "shell.execute_reply.started": "2022-09-30T09:37:03.229414Z"
        },
        "id": "bhf7zjbV7l50",
        "outputId": "dff96e96-c29a-4fb3-f4ad-5951940796d9",
        "trusted": true
      },
      "outputs": [
        {
          "data": {
            "text/plain": [
              "[1, 2, 3, 4, 5]"
            ]
          },
          "execution_count": 7,
          "metadata": {},
          "output_type": "execute_result"
        }
      ],
      "source": [
        "sorted(df.stars.unique())"
      ]
    },
    {
      "cell_type": "markdown",
      "metadata": {},
      "source": [
        "### Need to make the customer stars starting from 0 instead of 1 - Otherwise  got error - `CUDA runtime error (59) : device-side assert triggered`\n",
        "\n",
        "https://stackoverflow.com/a/55272357/1902852\n",
        "\n",
        "This is usually an indexing issue.\n",
        "\n",
        "For example, if your ground truth label starts at 1:\n",
        "\n",
        "target = [1,2,3,4,5]\n",
        "\n",
        "\n",
        "Then you should subtract 1 for every label instead so that:\n",
        "\n",
        "target = [0,1,2,3,4]\n",
        "--------------------------"
      ]
    },
    {
      "cell_type": "code",
      "execution_count": 8,
      "metadata": {
        "execution": {
          "iopub.execute_input": "2022-09-30T09:37:03.245993Z",
          "iopub.status.busy": "2022-09-30T09:37:03.245505Z",
          "iopub.status.idle": "2022-09-30T09:37:03.260453Z",
          "shell.execute_reply": "2022-09-30T09:37:03.259476Z",
          "shell.execute_reply.started": "2022-09-30T09:37:03.245956Z"
        },
        "id": "Qx4QsfULB0yz",
        "trusted": true
      },
      "outputs": [],
      "source": [
        "\n",
        "# Make the customer stars starting from 0 instead of 1\n",
        "def map_sentiment_scores(star_number):\n",
        "    star_number = int(star_number)\n",
        "    if star_number == 1:\n",
        "        return 0\n",
        "    elif star_number == 2:\n",
        "        return 1\n",
        "    elif star_number == 3:\n",
        "        return 2\n",
        "    elif star_number == 4:\n",
        "        return 3\n",
        "    elif star_number == 5:\n",
        "        return 4\n",
        "\n",
        "    \n",
        "# df['sentiment'] = df.score.apply(map_sentiment_scores)\n",
        "\n",
        "df['stars'] = df.stars.apply(map_sentiment_scores)"
      ]
    },
    {
      "cell_type": "code",
      "execution_count": 9,
      "metadata": {
        "colab": {
          "base_uri": "https://localhost:8080/",
          "height": 206
        },
        "execution": {
          "iopub.execute_input": "2022-09-30T09:37:03.266170Z",
          "iopub.status.busy": "2022-09-30T09:37:03.265441Z",
          "iopub.status.idle": "2022-09-30T09:37:03.279894Z",
          "shell.execute_reply": "2022-09-30T09:37:03.278861Z",
          "shell.execute_reply.started": "2022-09-30T09:37:03.266143Z"
        },
        "id": "b1KXQnOdCIhz",
        "outputId": "0cb170a6-f3ac-4ca6-f765-72baf5b394b0",
        "trusted": true
      },
      "outputs": [
        {
          "data": {
            "text/html": [
              "\n",
              "  <div id=\"df-5f30a6d3-51c2-4e0f-81d8-a3b9944c6e82\">\n",
              "    <div class=\"colab-df-container\">\n",
              "      <div>\n",
              "<style scoped>\n",
              "    .dataframe tbody tr th:only-of-type {\n",
              "        vertical-align: middle;\n",
              "    }\n",
              "\n",
              "    .dataframe tbody tr th {\n",
              "        vertical-align: top;\n",
              "    }\n",
              "\n",
              "    .dataframe thead th {\n",
              "        text-align: right;\n",
              "    }\n",
              "</style>\n",
              "<table border=\"1\" class=\"dataframe\">\n",
              "  <thead>\n",
              "    <tr style=\"text-align: right;\">\n",
              "      <th></th>\n",
              "      <th>business_id</th>\n",
              "      <th>date</th>\n",
              "      <th>review_id</th>\n",
              "      <th>stars</th>\n",
              "      <th>text</th>\n",
              "      <th>type</th>\n",
              "      <th>user_id</th>\n",
              "      <th>cool</th>\n",
              "      <th>useful</th>\n",
              "      <th>funny</th>\n",
              "    </tr>\n",
              "  </thead>\n",
              "  <tbody>\n",
              "    <tr>\n",
              "      <th>0</th>\n",
              "      <td>9yKzy9PApeiPPOUJEtnvkg</td>\n",
              "      <td>2011-01-26</td>\n",
              "      <td>fWKvX83p0-ka4JS3dc6E5A</td>\n",
              "      <td>4</td>\n",
              "      <td>My wife took me here on my birthday for breakf...</td>\n",
              "      <td>review</td>\n",
              "      <td>rLtl8ZkDX5vH5nAx9C3q5Q</td>\n",
              "      <td>2</td>\n",
              "      <td>5</td>\n",
              "      <td>0</td>\n",
              "    </tr>\n",
              "    <tr>\n",
              "      <th>1</th>\n",
              "      <td>ZRJwVLyzEJq1VAihDhYiow</td>\n",
              "      <td>2011-07-27</td>\n",
              "      <td>IjZ33sJrzXqU-0X6U8NwyA</td>\n",
              "      <td>4</td>\n",
              "      <td>I have no idea why some people give bad review...</td>\n",
              "      <td>review</td>\n",
              "      <td>0a2KyEL0d3Yb1V6aivbIuQ</td>\n",
              "      <td>0</td>\n",
              "      <td>0</td>\n",
              "      <td>0</td>\n",
              "    </tr>\n",
              "    <tr>\n",
              "      <th>2</th>\n",
              "      <td>6oRAC4uyJCsJl1X0WZpVSA</td>\n",
              "      <td>2012-06-14</td>\n",
              "      <td>IESLBzqUCLdSzSqm0eCSxQ</td>\n",
              "      <td>3</td>\n",
              "      <td>love the gyro plate. Rice is so good and I als...</td>\n",
              "      <td>review</td>\n",
              "      <td>0hT2KtfLiobPvh6cDC8JQg</td>\n",
              "      <td>0</td>\n",
              "      <td>1</td>\n",
              "      <td>0</td>\n",
              "    </tr>\n",
              "    <tr>\n",
              "      <th>3</th>\n",
              "      <td>_1QQZuf4zZOyFCvXc0o6Vg</td>\n",
              "      <td>2010-05-27</td>\n",
              "      <td>G-WvGaISbqqaMHlNnByodA</td>\n",
              "      <td>4</td>\n",
              "      <td>Rosie, Dakota, and I LOVE Chaparral Dog Park!!...</td>\n",
              "      <td>review</td>\n",
              "      <td>uZetl9T0NcROGOyFfughhg</td>\n",
              "      <td>1</td>\n",
              "      <td>2</td>\n",
              "      <td>0</td>\n",
              "    </tr>\n",
              "    <tr>\n",
              "      <th>4</th>\n",
              "      <td>6ozycU1RpktNG2-1BroVtw</td>\n",
              "      <td>2012-01-05</td>\n",
              "      <td>1uJFq2r5QfJG_6ExMRCaGw</td>\n",
              "      <td>4</td>\n",
              "      <td>General Manager Scott Petello is a good egg!!!...</td>\n",
              "      <td>review</td>\n",
              "      <td>vYmM4KTsC8ZfQBg-j5MWkw</td>\n",
              "      <td>0</td>\n",
              "      <td>0</td>\n",
              "      <td>0</td>\n",
              "    </tr>\n",
              "  </tbody>\n",
              "</table>\n",
              "</div>\n",
              "      <button class=\"colab-df-convert\" onclick=\"convertToInteractive('df-5f30a6d3-51c2-4e0f-81d8-a3b9944c6e82')\"\n",
              "              title=\"Convert this dataframe to an interactive table.\"\n",
              "              style=\"display:none;\">\n",
              "        \n",
              "  <svg xmlns=\"http://www.w3.org/2000/svg\" height=\"24px\"viewBox=\"0 0 24 24\"\n",
              "       width=\"24px\">\n",
              "    <path d=\"M0 0h24v24H0V0z\" fill=\"none\"/>\n",
              "    <path d=\"M18.56 5.44l.94 2.06.94-2.06 2.06-.94-2.06-.94-.94-2.06-.94 2.06-2.06.94zm-11 1L8.5 8.5l.94-2.06 2.06-.94-2.06-.94L8.5 2.5l-.94 2.06-2.06.94zm10 10l.94 2.06.94-2.06 2.06-.94-2.06-.94-.94-2.06-.94 2.06-2.06.94z\"/><path d=\"M17.41 7.96l-1.37-1.37c-.4-.4-.92-.59-1.43-.59-.52 0-1.04.2-1.43.59L10.3 9.45l-7.72 7.72c-.78.78-.78 2.05 0 2.83L4 21.41c.39.39.9.59 1.41.59.51 0 1.02-.2 1.41-.59l7.78-7.78 2.81-2.81c.8-.78.8-2.07 0-2.86zM5.41 20L4 18.59l7.72-7.72 1.47 1.35L5.41 20z\"/>\n",
              "  </svg>\n",
              "      </button>\n",
              "      \n",
              "  <style>\n",
              "    .colab-df-container {\n",
              "      display:flex;\n",
              "      flex-wrap:wrap;\n",
              "      gap: 12px;\n",
              "    }\n",
              "\n",
              "    .colab-df-convert {\n",
              "      background-color: #E8F0FE;\n",
              "      border: none;\n",
              "      border-radius: 50%;\n",
              "      cursor: pointer;\n",
              "      display: none;\n",
              "      fill: #1967D2;\n",
              "      height: 32px;\n",
              "      padding: 0 0 0 0;\n",
              "      width: 32px;\n",
              "    }\n",
              "\n",
              "    .colab-df-convert:hover {\n",
              "      background-color: #E2EBFA;\n",
              "      box-shadow: 0px 1px 2px rgba(60, 64, 67, 0.3), 0px 1px 3px 1px rgba(60, 64, 67, 0.15);\n",
              "      fill: #174EA6;\n",
              "    }\n",
              "\n",
              "    [theme=dark] .colab-df-convert {\n",
              "      background-color: #3B4455;\n",
              "      fill: #D2E3FC;\n",
              "    }\n",
              "\n",
              "    [theme=dark] .colab-df-convert:hover {\n",
              "      background-color: #434B5C;\n",
              "      box-shadow: 0px 1px 3px 1px rgba(0, 0, 0, 0.15);\n",
              "      filter: drop-shadow(0px 1px 2px rgba(0, 0, 0, 0.3));\n",
              "      fill: #FFFFFF;\n",
              "    }\n",
              "  </style>\n",
              "\n",
              "      <script>\n",
              "        const buttonEl =\n",
              "          document.querySelector('#df-5f30a6d3-51c2-4e0f-81d8-a3b9944c6e82 button.colab-df-convert');\n",
              "        buttonEl.style.display =\n",
              "          google.colab.kernel.accessAllowed ? 'block' : 'none';\n",
              "\n",
              "        async function convertToInteractive(key) {\n",
              "          const element = document.querySelector('#df-5f30a6d3-51c2-4e0f-81d8-a3b9944c6e82');\n",
              "          const dataTable =\n",
              "            await google.colab.kernel.invokeFunction('convertToInteractive',\n",
              "                                                     [key], {});\n",
              "          if (!dataTable) return;\n",
              "\n",
              "          const docLinkHtml = 'Like what you see? Visit the ' +\n",
              "            '<a target=\"_blank\" href=https://colab.research.google.com/notebooks/data_table.ipynb>data table notebook</a>'\n",
              "            + ' to learn more about interactive tables.';\n",
              "          element.innerHTML = '';\n",
              "          dataTable['output_type'] = 'display_data';\n",
              "          await google.colab.output.renderOutput(dataTable, element);\n",
              "          const docLink = document.createElement('div');\n",
              "          docLink.innerHTML = docLinkHtml;\n",
              "          element.appendChild(docLink);\n",
              "        }\n",
              "      </script>\n",
              "    </div>\n",
              "  </div>\n",
              "  "
            ],
            "text/plain": [
              "              business_id        date               review_id  stars  \\\n",
              "0  9yKzy9PApeiPPOUJEtnvkg  2011-01-26  fWKvX83p0-ka4JS3dc6E5A      4   \n",
              "1  ZRJwVLyzEJq1VAihDhYiow  2011-07-27  IjZ33sJrzXqU-0X6U8NwyA      4   \n",
              "2  6oRAC4uyJCsJl1X0WZpVSA  2012-06-14  IESLBzqUCLdSzSqm0eCSxQ      3   \n",
              "3  _1QQZuf4zZOyFCvXc0o6Vg  2010-05-27  G-WvGaISbqqaMHlNnByodA      4   \n",
              "4  6ozycU1RpktNG2-1BroVtw  2012-01-05  1uJFq2r5QfJG_6ExMRCaGw      4   \n",
              "\n",
              "                                                text    type  \\\n",
              "0  My wife took me here on my birthday for breakf...  review   \n",
              "1  I have no idea why some people give bad review...  review   \n",
              "2  love the gyro plate. Rice is so good and I als...  review   \n",
              "3  Rosie, Dakota, and I LOVE Chaparral Dog Park!!...  review   \n",
              "4  General Manager Scott Petello is a good egg!!!...  review   \n",
              "\n",
              "                  user_id  cool  useful  funny  \n",
              "0  rLtl8ZkDX5vH5nAx9C3q5Q     2       5      0  \n",
              "1  0a2KyEL0d3Yb1V6aivbIuQ     0       0      0  \n",
              "2  0hT2KtfLiobPvh6cDC8JQg     0       1      0  \n",
              "3  uZetl9T0NcROGOyFfughhg     1       2      0  \n",
              "4  vYmM4KTsC8ZfQBg-j5MWkw     0       0      0  "
            ]
          },
          "execution_count": 9,
          "metadata": {},
          "output_type": "execute_result"
        }
      ],
      "source": [
        "df.head()"
      ]
    },
    {
      "cell_type": "code",
      "execution_count": 10,
      "metadata": {
        "colab": {
          "base_uri": "https://localhost:8080/"
        },
        "execution": {
          "iopub.execute_input": "2022-09-30T09:37:03.281955Z",
          "iopub.status.busy": "2022-09-30T09:37:03.281523Z",
          "iopub.status.idle": "2022-09-30T09:37:03.291804Z",
          "shell.execute_reply": "2022-09-30T09:37:03.290681Z",
          "shell.execute_reply.started": "2022-09-30T09:37:03.281921Z"
        },
        "id": "wB5anQx1CNzR",
        "outputId": "ac4c29d8-44b5-4391-b68d-09d2ef3708f3",
        "trusted": true
      },
      "outputs": [
        {
          "data": {
            "text/plain": [
              "[0, 1, 2, 3, 4]"
            ]
          },
          "execution_count": 10,
          "metadata": {},
          "output_type": "execute_result"
        }
      ],
      "source": [
        "sorted(df.stars.unique())"
      ]
    },
    {
      "cell_type": "code",
      "execution_count": 11,
      "metadata": {
        "colab": {
          "base_uri": "https://localhost:8080/",
          "height": 647
        },
        "execution": {
          "iopub.execute_input": "2022-09-30T09:37:03.295007Z",
          "iopub.status.busy": "2022-09-30T09:37:03.294364Z",
          "iopub.status.idle": "2022-09-30T09:37:03.685242Z",
          "shell.execute_reply": "2022-09-30T09:37:03.684255Z",
          "shell.execute_reply.started": "2022-09-30T09:37:03.294974Z"
        },
        "id": "GkdM3VKzGkUZ",
        "outputId": "9b30d5df-1548-43d4-b796-7673c641bc35",
        "trusted": true
      },
      "outputs": [
        {
          "name": "stderr",
          "output_type": "stream",
          "text": [
            "/usr/local/lib/python3.7/dist-packages/seaborn/_decorators.py:43: FutureWarning: Pass the following variable as a keyword arg: x. From version 0.12, the only valid positional argument will be `data`, and passing other arguments without an explicit keyword will result in an error or misinterpretation.\n",
            "  FutureWarning\n"
          ]
        },
        {
          "data": {
            "text/plain": [
              "[Text(0, 0, '1-Star'),\n",
              " Text(0, 0, '2-Star'),\n",
              " Text(0, 0, '3-Star'),\n",
              " Text(0, 0, '4-Star'),\n",
              " Text(0, 0, '5-Star')]"
            ]
          },
          "execution_count": 11,
          "metadata": {},
          "output_type": "execute_result"
        },
        {
          "data": {
            "image/png": "[encoded data removed]",
            "text/plain": [
              "<Figure size 864x576 with 1 Axes>"
            ]
          },
          "metadata": {
            "image/png": {
              "height": 489,
              "width": 745
            }
          },
          "output_type": "display_data"
        }
      ],
      "source": [
        "class_names = ['1-Star', '2-Star', '3-Star', '4-Star', '5-Star' ]\n",
        "\n",
        "ax = sns.countplot(df.stars)\n",
        "plt.xlabel('review stars')\n",
        "ax.set_xticklabels(class_names)"
      ]
    },
    {
      "cell_type": "markdown",
      "metadata": {
        "id": "bKCf94MD7l51"
      },
      "source": [
        "\n",
        "## `text` and 'stars` columns will be the features and targets respectively down below\n",
        "\n",
        "\n",
        "```py\n",
        "reviews = df.text.to_list(), \n",
        "targets = df.stars.to_list(), \n",
        "\n",
        "```"
      ]
    },
    {
      "cell_type": "markdown",
      "metadata": {
        "id": "qxt7wDO7j40E"
      },
      "source": [
        "# Model"
      ]
    },
    {
      "cell_type": "markdown",
      "metadata": {
        "id": "dX_g6AEzj6pR"
      },
      "source": [
        "## Define Transformer and Tokenizer"
      ]
    },
    {
      "cell_type": "code",
      "execution_count": 9,
      "metadata": {
        "execution": {
          "iopub.execute_input": "2022-09-30T10:03:36.390311Z",
          "iopub.status.busy": "2022-09-30T10:03:36.389910Z",
          "iopub.status.idle": "2022-09-30T10:03:37.112316Z",
          "shell.execute_reply": "2022-09-30T10:03:37.111326Z",
          "shell.execute_reply.started": "2022-09-30T10:03:36.390258Z"
        },
        "id": "K9UzAgFKOEQN",
        "trusted": true
      },
      "outputs": [],
      "source": [
        "tokenizer = BertTokenizer.from_pretrained(pre_trained_model_ckpt)"
      ]
    },
    {
      "cell_type": "markdown",
      "metadata": {
        "id": "-896Jhauj-Ma"
      },
      "source": [
        "# Tokenization and encoding on a Sample Text"
      ]
    },
    {
      "cell_type": "code",
      "execution_count": 10,
      "metadata": {
        "colab": {
          "base_uri": "https://localhost:8080/"
        },
        "execution": {
          "iopub.execute_input": "2022-09-30T10:03:37.114613Z",
          "iopub.status.busy": "2022-09-30T10:03:37.114210Z",
          "iopub.status.idle": "2022-09-30T10:03:37.129167Z",
          "shell.execute_reply": "2022-09-30T10:03:37.127296Z",
          "shell.execute_reply.started": "2022-09-30T10:03:37.114577Z"
        },
        "id": "G5zNdnhpPPFG",
        "outputId": "9b1bf9e9-e5e7-446d-8561-c5ad592fb1b3",
        "trusted": true
      },
      "outputs": [
        {
          "name": "stdout",
          "output_type": "stream",
          "text": [
            " Sentence: Text Processing with Machine Learning is moving at a rapid speed\n",
            "   Tokens: ['text', 'processing', 'with', 'machine', 'learning', 'is', 'moving', 'at', 'a', 'rapid', 'speed']\n",
            "Token IDs: [3793, 6364, 2007, 3698, 4083, 2003, 3048, 2012, 1037, 5915, 3177]\n"
          ]
        }
      ],
      "source": [
        "sample_txt = 'Text Processing with Machine Learning is moving at a rapid speed'\n",
        "\n",
        "tokens = tokenizer.tokenize(sample_txt)\n",
        "\n",
        "token_ids = tokenizer.convert_tokens_to_ids(tokens)\n",
        "\n",
        "print(f' Sentence: {sample_txt}')\n",
        "print(f'   Tokens: {tokens}')\n",
        "print(f'Token IDs: {token_ids}')\n"
      ]
    },
    {
      "cell_type": "code",
      "execution_count": 11,
      "metadata": {},
      "outputs": [
        {
          "name": "stdout",
          "output_type": "stream",
          "text": [
            "Encoding keys: dict_keys(['input_ids', 'attention_mask'])\n",
            "13\n",
            "tensor([ 101, 3793, 6364, 2007, 3698, 4083, 2003, 3048, 2012, 1037, 5915, 3177,\n",
            "         102])\n",
            "13\n",
            "tensor([[1, 1, 1, 1, 1, 1, 1, 1, 1, 1, 1, 1, 1]])\n",
            "['[CLS]', 'text', 'processing', 'with', 'machine', 'learning', 'is', 'moving', 'at', 'a', 'rapid', 'speed', '[SEP]']\n"
          ]
        }
      ],
      "source": [
        "\n",
        "encoding = tokenizer.encode_plus(\n",
        "    sample_txt,\n",
        "    max_length=32,\n",
        "    truncation=True,\n",
        "    add_special_tokens=True, # Add '[CLS]' and '[SEP]'\n",
        "    return_token_type_ids=False,\n",
        "    padding=True,\n",
        "    return_attention_mask=True,\n",
        "    return_tensors='pt')  # Return PyTorch tensors)\n",
        "\n",
        "print(f'Encoding keys: {encoding.keys()}')\n",
        "print(len(encoding['input_ids'][0]))\n",
        "print(encoding['input_ids'][0])\n",
        "print(len(encoding['attention_mask'][0]))\n",
        "print(encoding['attention_mask'])\n",
        "print(tokenizer.convert_ids_to_tokens(encoding['input_ids'][0]))"
      ]
    },
    {
      "cell_type": "markdown",
      "metadata": {
        "id": "kGCthVhzkXov"
      },
      "source": [
        "### EDA of token counts in the reviews dataset"
      ]
    },
    {
      "cell_type": "code",
      "execution_count": 14,
      "metadata": {
        "colab": {
          "base_uri": "https://localhost:8080/",
          "height": 578
        },
        "execution": {
          "iopub.execute_input": "2022-09-30T10:03:37.131802Z",
          "iopub.status.busy": "2022-09-30T10:03:37.131309Z",
          "iopub.status.idle": "2022-09-30T10:04:14.218133Z",
          "shell.execute_reply": "2022-09-30T10:04:14.217069Z",
          "shell.execute_reply.started": "2022-09-30T10:03:37.131763Z"
        },
        "id": "2N872LZ9Rn2l",
        "outputId": "d23c1d20-16b8-4466-afee-a045ce8d0982",
        "trusted": true
      },
      "outputs": [
        {
          "name": "stderr",
          "output_type": "stream",
          "text": [
            "/usr/local/lib/python3.7/dist-packages/seaborn/distributions.py:2619: FutureWarning: `distplot` is a deprecated function and will be removed in a future version. Please adapt your code to use either `displot` (a figure-level function with similar flexibility) or `histplot` (an axes-level function for histograms).\n",
            "  warnings.warn(msg, FutureWarning)\n"
          ]
        },
        {
          "data": {
            "text/plain": [
              "Text(0.5, 0, 'Token count')"
            ]
          },
          "execution_count": 14,
          "metadata": {},
          "output_type": "execute_result"
        },
        {
          "data": {
            "image/png": "[encoded data removed]",
            "text/plain": [
              "<Figure size 864x576 with 1 Axes>"
            ]
          },
          "metadata": {
            "image/png": {
              "height": 489,
              "width": 749
            }
          },
          "output_type": "display_data"
        }
      ],
      "source": [
        "token_lens = []\n",
        "\n",
        "for txt in df.text:\n",
        "    tokens = tokenizer.encode(txt, truncation=True, max_length=512)\n",
        "    token_lens.append(len(tokens))\n",
        "\n",
        "\n",
        "sns.distplot(token_lens)\n",
        "\n",
        "plt.xlim([0,256])\n",
        "\n",
        "plt.xlabel('Token count')"
      ]
    },
    {
      "cell_type": "code",
      "execution_count": 16,
      "metadata": {
        "colab": {
          "base_uri": "https://localhost:8080/"
        },
        "execution": {
          "iopub.execute_input": "2022-09-30T10:04:14.236953Z",
          "iopub.status.busy": "2022-09-30T10:04:14.236534Z",
          "iopub.status.idle": "2022-09-30T10:04:14.253955Z",
          "shell.execute_reply": "2022-09-30T10:04:14.253125Z",
          "shell.execute_reply.started": "2022-09-30T10:04:14.236816Z"
        },
        "id": "RWoU73qh7l56",
        "outputId": "ef0361da-d2ec-43cb-ab7a-ccc8e6915bb3",
        "trusted": true
      },
      "outputs": [
        {
          "name": "stdout",
          "output_type": "stream",
          "text": [
            "(7000, 10) (1500, 10) (1500, 10)\n"
          ]
        }
      ],
      "source": [
        "df_train, df_test = train_test_split(df, test_size = 0.3, random_state = RANDOM_SEED)\n",
        "\n",
        "df_val, df_test = train_test_split(df_test, test_size = 0.5, random_state = RANDOM_SEED)\n",
        "\n",
        "print(df_train.shape, df_val.shape, df_test.shape)"
      ]
    },
    {
      "cell_type": "code",
      "execution_count": 17,
      "metadata": {
        "execution": {
          "iopub.execute_input": "2022-09-30T10:04:14.255902Z",
          "iopub.status.busy": "2022-09-30T10:04:14.255227Z",
          "iopub.status.idle": "2022-09-30T10:04:14.262977Z",
          "shell.execute_reply": "2022-09-30T10:04:14.262249Z",
          "shell.execute_reply.started": "2022-09-30T10:04:14.255865Z"
        },
        "id": "Tl_RrPWM7l56",
        "trusted": true
      },
      "outputs": [],
      "source": [
        "train_data_loader = create_data_loader(df_train, tokenizer)\n",
        "val_data_loader = create_data_loader(df_val, tokenizer, include_raw_text=True)\n",
        "test_data_loader = create_data_loader(df_test, tokenizer, include_raw_text=True)"
      ]
    },
    {
      "cell_type": "code",
      "execution_count": 18,
      "metadata": {
        "colab": {
          "base_uri": "https://localhost:8080/"
        },
        "execution": {
          "iopub.execute_input": "2022-09-30T10:04:14.265126Z",
          "iopub.status.busy": "2022-09-30T10:04:14.264062Z",
          "iopub.status.idle": "2022-09-30T10:04:16.122733Z",
          "shell.execute_reply": "2022-09-30T10:04:16.121542Z",
          "shell.execute_reply.started": "2022-09-30T10:04:14.265093Z"
        },
        "id": "-iwZVkga7hjV",
        "outputId": "2ceb5bbe-6a56-442a-da41-1dea444c7803",
        "trusted": true
      },
      "outputs": [
        {
          "name": "stdout",
          "output_type": "stream",
          "text": [
            "dict_keys(['input_ids', 'attention_mask', 'targets', 'review_text'])\n",
            "dict_keys(['input_ids', 'attention_mask', 'targets', 'review_text'])\n",
            "dict_keys(['input_ids', 'attention_mask', 'targets', 'review_text'])\n"
          ]
        },
        {
          "name": "stderr",
          "output_type": "stream",
          "text": [
            "/usr/local/lib/python3.7/dist-packages/transformers/tokenization_utils_base.py:2308: FutureWarning: The `pad_to_max_length` argument is deprecated and will be removed in a future version, use `padding=True` or `padding='longest'` to pad to the longest sequence in the batch, or use `padding='max_length'` to pad to a max length. In this case, you can give a specific length with `max_length` (e.g. `max_length=45`) or leave max_length to None to pad to the maximal input size of the model (e.g. 512 for Bert).\n",
            "  FutureWarning,\n"
          ]
        },
        {
          "name": "stdout",
          "output_type": "stream",
          "text": [
            "dict_keys(['input_ids', 'attention_mask', 'targets', 'review_text'])\n",
            "dict_keys(['input_ids', 'attention_mask', 'targets', 'review_text'])\n",
            "dict_keys(['input_ids', 'attention_mask', 'targets', 'review_text'])\n",
            "dict_keys(['input_ids', 'attention_mask', 'targets', 'review_text'])\n",
            "dict_keys(['input_ids', 'attention_mask', 'targets', 'review_text'])\n",
            "dict_keys(['input_ids', 'attention_mask', 'targets', 'review_text'])\n",
            "dict_keys(['input_ids', 'attention_mask', 'targets', 'review_text'])\n",
            "dict_keys(['input_ids', 'attention_mask', 'targets', 'review_text'])\n",
            "dict_keys(['input_ids', 'attention_mask', 'targets', 'review_text'])\n",
            "dict_keys(['input_ids', 'attention_mask', 'targets', 'review_text'])\n",
            "dict_keys(['input_ids', 'attention_mask', 'targets', 'review_text'])\n",
            "dict_keys(['input_ids', 'attention_mask', 'targets', 'review_text'])\n",
            "dict_keys(['input_ids', 'attention_mask', 'targets', 'review_text'])\n",
            "dict_keys(['input_ids', 'attention_mask', 'targets', 'review_text'])\n",
            "dict_keys(['input_ids', 'attention_mask', 'targets', 'review_text'])\n",
            "dict_keys(['input_ids', 'attention_mask', 'targets', 'review_text'])\n",
            "dict_keys(['input_ids', 'attention_mask', 'targets', 'review_text'])\n",
            "dict_keys(['input_ids', 'attention_mask', 'targets', 'review_text'])\n",
            "dict_keys(['input_ids', 'attention_mask', 'targets', 'review_text'])\n",
            "dict_keys(['input_ids', 'attention_mask', 'targets', 'review_text'])\n",
            "dict_keys(['input_ids', 'attention_mask', 'targets', 'review_text'])\n",
            "dict_keys(['input_ids', 'attention_mask', 'targets', 'review_text'])\n",
            "dict_keys(['input_ids', 'attention_mask', 'targets', 'review_text'])\n",
            "dict_keys(['input_ids', 'attention_mask', 'targets', 'review_text'])\n",
            "dict_keys(['input_ids', 'attention_mask', 'targets', 'review_text'])\n",
            "dict_keys(['input_ids', 'attention_mask', 'targets', 'review_text'])\n",
            "dict_keys(['input_ids', 'attention_mask', 'targets', 'review_text'])\n",
            "dict_keys(['input_ids', 'attention_mask', 'targets', 'review_text'])\n",
            "dict_keys(['input_ids', 'attention_mask', 'targets', 'review_text'])\n",
            "dict_keys(['input_ids', 'attention_mask', 'targets', 'review_text'])\n",
            "dict_keys(['input_ids', 'attention_mask', 'targets', 'review_text'])\n",
            "dict_keys(['input_ids', 'attention_mask', 'targets', 'review_text'])\n",
            "dict_keys(['input_ids', 'attention_mask', 'targets', 'review_text'])\n",
            "dict_keys(['input_ids', 'attention_mask', 'targets', 'review_text'])\n",
            "dict_keys(['input_ids', 'attention_mask', 'targets', 'review_text'])\n",
            "dict_keys(['input_ids', 'attention_mask', 'targets', 'review_text'])\n",
            "dict_keys(['input_ids', 'attention_mask', 'targets', 'review_text'])\n",
            "dict_keys(['input_ids', 'attention_mask', 'targets', 'review_text'])\n",
            "dict_keys(['input_ids', 'attention_mask', 'targets', 'review_text'])\n",
            "dict_keys(['input_ids', 'attention_mask', 'targets', 'review_text'])\n",
            "dict_keys(['input_ids', 'attention_mask', 'targets', 'review_text'])\n",
            "dict_keys(['input_ids', 'attention_mask', 'targets', 'review_text'])\n",
            "dict_keys(['input_ids', 'attention_mask', 'targets', 'review_text'])\n",
            "dict_keys(['input_ids', 'attention_mask', 'targets', 'review_text'])\n",
            "dict_keys(['input_ids', 'attention_mask', 'targets', 'review_text'])\n",
            "dict_keys(['input_ids', 'attention_mask', 'targets', 'review_text'])\n",
            "dict_keys(['input_ids', 'attention_mask', 'targets', 'review_text'])\n",
            "dict_keys(['input_ids', 'attention_mask', 'targets', 'review_text'])\n",
            "dict_keys(['input_ids', 'attention_mask', 'targets', 'review_text'])\n",
            "dict_keys(['input_ids', 'attention_mask', 'targets', 'review_text'])\n",
            "dict_keys(['input_ids', 'attention_mask', 'targets', 'review_text'])\n",
            "dict_keys(['input_ids', 'attention_mask', 'targets', 'review_text'])\n",
            "dict_keys(['input_ids', 'attention_mask', 'targets', 'review_text'])\n",
            "dict_keys(['input_ids', 'attention_mask', 'targets', 'review_text'])\n",
            "dict_keys(['input_ids', 'attention_mask', 'targets', 'review_text'])\n",
            "dict_keys(['input_ids', 'attention_mask', 'targets', 'review_text'])\n",
            "dict_keys(['input_ids', 'attention_mask', 'targets', 'review_text'])\n",
            "dict_keys(['input_ids', 'attention_mask', 'targets', 'review_text'])\n",
            "dict_keys(['input_ids', 'attention_mask', 'targets', 'review_text'])\n",
            "dict_keys(['input_ids', 'attention_mask', 'targets', 'review_text'])\n",
            "dict_keys(['input_ids', 'attention_mask', 'targets', 'review_text'])\n",
            "dict_keys(['input_ids', 'attention_mask', 'targets', 'review_text'])\n",
            "dict_keys(['input_ids', 'attention_mask', 'targets', 'review_text'])\n",
            "dict_keys(['input_ids', 'attention_mask', 'targets', 'review_text'])\n",
            "dict_keys(['input_ids', 'attention_mask', 'targets', 'review_text'])\n",
            "dict_keys(['input_ids', 'attention_mask', 'targets', 'review_text'])\n",
            "dict_keys(['input_ids', 'attention_mask', 'targets', 'review_text'])\n",
            "dict_keys(['input_ids', 'attention_mask', 'targets', 'review_text'])\n",
            "dict_keys(['input_ids', 'attention_mask', 'targets', 'review_text'])\n",
            "dict_keys(['input_ids', 'attention_mask', 'targets', 'review_text'])\n",
            "dict_keys(['input_ids', 'attention_mask', 'targets', 'review_text'])\n",
            "dict_keys(['input_ids', 'attention_mask', 'targets', 'review_text'])\n",
            "dict_keys(['input_ids', 'attention_mask', 'targets', 'review_text'])\n",
            "dict_keys(['input_ids', 'attention_mask', 'targets', 'review_text'])\n",
            "dict_keys(['input_ids', 'attention_mask', 'targets', 'review_text'])\n",
            "dict_keys(['input_ids', 'attention_mask', 'targets', 'review_text'])\n",
            "dict_keys(['input_ids', 'attention_mask', 'targets', 'review_text'])\n",
            "dict_keys(['input_ids', 'attention_mask', 'targets', 'review_text'])\n",
            "dict_keys(['input_ids', 'attention_mask', 'targets', 'review_text'])\n",
            "dict_keys(['input_ids', 'attention_mask', 'targets', 'review_text'])\n",
            "dict_keys(['input_ids', 'attention_mask', 'targets', 'review_text'])\n",
            "dict_keys(['input_ids', 'attention_mask', 'targets', 'review_text'])\n",
            "dict_keys(['input_ids', 'attention_mask', 'targets', 'review_text'])\n",
            "dict_keys(['input_ids', 'attention_mask', 'targets', 'review_text'])\n",
            "dict_keys(['input_ids', 'attention_mask', 'targets', 'review_text'])\n",
            "dict_keys(['input_ids', 'attention_mask', 'targets', 'review_text'])\n",
            "dict_keys(['input_ids', 'attention_mask', 'targets', 'review_text'])\n",
            "dict_keys(['input_ids', 'attention_mask', 'targets', 'review_text'])\n",
            "dict_keys(['input_ids', 'attention_mask', 'targets', 'review_text'])\n",
            "dict_keys(['input_ids', 'attention_mask', 'targets', 'review_text'])\n",
            "dict_keys(['input_ids', 'attention_mask', 'targets', 'review_text'])\n"
          ]
        }
      ],
      "source": [
        "for d in val_data_loader:\n",
        "    print(d.keys())\n",
        "    \n",
        "# dict_keys(['input_ids', 'attention_mask', 'targets', 'review_text'])"
      ]
    },
    {
      "cell_type": "code",
      "execution_count": 19,
      "metadata": {
        "colab": {
          "base_uri": "https://localhost:8080/"
        },
        "execution": {
          "iopub.execute_input": "2022-09-30T10:04:16.124623Z",
          "iopub.status.busy": "2022-09-30T10:04:16.124143Z",
          "iopub.status.idle": "2022-09-30T10:04:16.185353Z",
          "shell.execute_reply": "2022-09-30T10:04:16.184308Z",
          "shell.execute_reply.started": "2022-09-30T10:04:16.124586Z"
        },
        "id": "jWQZDfro7l56",
        "outputId": "2031cf3e-1eb6-4dad-86b1-eb066ec1cc79",
        "trusted": true
      },
      "outputs": [
        {
          "name": "stdout",
          "output_type": "stream",
          "text": [
            "dict_keys(['input_ids', 'attention_mask', 'targets'])\n",
            "torch.Size([16, 160])\n",
            "torch.Size([16, 160])\n",
            "torch.Size([16])\n"
          ]
        }
      ],
      "source": [
        "#Testing to see if the data loader works appropriately\n",
        "data = next(iter(train_data_loader))\n",
        "print(data.keys())\n",
        "print(data['input_ids'].shape)\n",
        "print(data['attention_mask'].shape)\n",
        "print(data['targets'].shape)"
      ]
    },
    {
      "cell_type": "markdown",
      "metadata": {
        "id": "A4sQSt0UkoCu"
      },
      "source": [
        "# Model Utility Class"
      ]
    },
    {
      "cell_type": "code",
      "execution_count": null,
      "metadata": {
        "colab": {
          "base_uri": "https://localhost:8080/"
        },
        "execution": {
          "iopub.execute_input": "2022-09-30T10:04:16.187337Z",
          "iopub.status.busy": "2022-09-30T10:04:16.186754Z",
          "iopub.status.idle": "2022-09-30T10:04:35.987311Z",
          "shell.execute_reply": "2022-09-30T10:04:35.986260Z",
          "shell.execute_reply.started": "2022-09-30T10:04:16.187291Z"
        },
        "id": "9grQh_PiVx62",
        "outputId": "ba5bf429-0bbd-441f-b8f9-7518e6aff99d",
        "trusted": true
      },
      "outputs": [],
      "source": [
        "model = SentimentClassifier(len(class_names))\n",
        "model = model.to(device)\n",
        "\n",
        "# An evaluation run of the model\n",
        "input_ids = data['input_ids'].to(device)\n",
        "attention_mask = data['attention_mask'].to(device)\n",
        "F.softmax(model(input_ids,attention_mask), dim = 1)\n"
      ]
    },
    {
      "cell_type": "markdown",
      "metadata": {
        "id": "eqO39_ANkrlI"
      },
      "source": [
        "# Training"
      ]
    },
    {
      "cell_type": "markdown",
      "metadata": {
        "id": "70NX9jLlktnx"
      },
      "source": [
        "## Training Loop Utility Functions"
      ]
    },
    {
      "cell_type": "code",
      "execution_count": 21,
      "metadata": {
        "colab": {
          "base_uri": "https://localhost:8080/",
          "height": 206
        },
        "execution": {
          "iopub.execute_input": "2022-09-30T10:04:35.991602Z",
          "iopub.status.busy": "2022-09-30T10:04:35.991289Z",
          "iopub.status.idle": "2022-09-30T10:04:36.005592Z",
          "shell.execute_reply": "2022-09-30T10:04:36.004621Z",
          "shell.execute_reply.started": "2022-09-30T10:04:35.991575Z"
        },
        "id": "VR9kOZJb-LtU",
        "outputId": "ad3c0ee8-e02e-46d7-ee9b-4ecc6e3a6963",
        "trusted": true
      },
      "outputs": [
        {
          "data": {
            "text/html": [
              "\n",
              "  <div id=\"df-322ec614-936e-4edf-ab71-af0498471899\">\n",
              "    <div class=\"colab-df-container\">\n",
              "      <div>\n",
              "<style scoped>\n",
              "    .dataframe tbody tr th:only-of-type {\n",
              "        vertical-align: middle;\n",
              "    }\n",
              "\n",
              "    .dataframe tbody tr th {\n",
              "        vertical-align: top;\n",
              "    }\n",
              "\n",
              "    .dataframe thead th {\n",
              "        text-align: right;\n",
              "    }\n",
              "</style>\n",
              "<table border=\"1\" class=\"dataframe\">\n",
              "  <thead>\n",
              "    <tr style=\"text-align: right;\">\n",
              "      <th></th>\n",
              "      <th>business_id</th>\n",
              "      <th>date</th>\n",
              "      <th>review_id</th>\n",
              "      <th>stars</th>\n",
              "      <th>text</th>\n",
              "      <th>type</th>\n",
              "      <th>user_id</th>\n",
              "      <th>cool</th>\n",
              "      <th>useful</th>\n",
              "      <th>funny</th>\n",
              "    </tr>\n",
              "  </thead>\n",
              "  <tbody>\n",
              "    <tr>\n",
              "      <th>0</th>\n",
              "      <td>9yKzy9PApeiPPOUJEtnvkg</td>\n",
              "      <td>2011-01-26</td>\n",
              "      <td>fWKvX83p0-ka4JS3dc6E5A</td>\n",
              "      <td>4</td>\n",
              "      <td>My wife took me here on my birthday for breakf...</td>\n",
              "      <td>review</td>\n",
              "      <td>rLtl8ZkDX5vH5nAx9C3q5Q</td>\n",
              "      <td>2</td>\n",
              "      <td>5</td>\n",
              "      <td>0</td>\n",
              "    </tr>\n",
              "    <tr>\n",
              "      <th>1</th>\n",
              "      <td>ZRJwVLyzEJq1VAihDhYiow</td>\n",
              "      <td>2011-07-27</td>\n",
              "      <td>IjZ33sJrzXqU-0X6U8NwyA</td>\n",
              "      <td>4</td>\n",
              "      <td>I have no idea why some people give bad review...</td>\n",
              "      <td>review</td>\n",
              "      <td>0a2KyEL0d3Yb1V6aivbIuQ</td>\n",
              "      <td>0</td>\n",
              "      <td>0</td>\n",
              "      <td>0</td>\n",
              "    </tr>\n",
              "    <tr>\n",
              "      <th>2</th>\n",
              "      <td>6oRAC4uyJCsJl1X0WZpVSA</td>\n",
              "      <td>2012-06-14</td>\n",
              "      <td>IESLBzqUCLdSzSqm0eCSxQ</td>\n",
              "      <td>3</td>\n",
              "      <td>love the gyro plate. Rice is so good and I als...</td>\n",
              "      <td>review</td>\n",
              "      <td>0hT2KtfLiobPvh6cDC8JQg</td>\n",
              "      <td>0</td>\n",
              "      <td>1</td>\n",
              "      <td>0</td>\n",
              "    </tr>\n",
              "    <tr>\n",
              "      <th>3</th>\n",
              "      <td>_1QQZuf4zZOyFCvXc0o6Vg</td>\n",
              "      <td>2010-05-27</td>\n",
              "      <td>G-WvGaISbqqaMHlNnByodA</td>\n",
              "      <td>4</td>\n",
              "      <td>Rosie, Dakota, and I LOVE Chaparral Dog Park!!...</td>\n",
              "      <td>review</td>\n",
              "      <td>uZetl9T0NcROGOyFfughhg</td>\n",
              "      <td>1</td>\n",
              "      <td>2</td>\n",
              "      <td>0</td>\n",
              "    </tr>\n",
              "    <tr>\n",
              "      <th>4</th>\n",
              "      <td>6ozycU1RpktNG2-1BroVtw</td>\n",
              "      <td>2012-01-05</td>\n",
              "      <td>1uJFq2r5QfJG_6ExMRCaGw</td>\n",
              "      <td>4</td>\n",
              "      <td>General Manager Scott Petello is a good egg!!!...</td>\n",
              "      <td>review</td>\n",
              "      <td>vYmM4KTsC8ZfQBg-j5MWkw</td>\n",
              "      <td>0</td>\n",
              "      <td>0</td>\n",
              "      <td>0</td>\n",
              "    </tr>\n",
              "  </tbody>\n",
              "</table>\n",
              "</div>\n",
              "      <button class=\"colab-df-convert\" onclick=\"convertToInteractive('df-322ec614-936e-4edf-ab71-af0498471899')\"\n",
              "              title=\"Convert this dataframe to an interactive table.\"\n",
              "              style=\"display:none;\">\n",
              "        \n",
              "  <svg xmlns=\"http://www.w3.org/2000/svg\" height=\"24px\"viewBox=\"0 0 24 24\"\n",
              "       width=\"24px\">\n",
              "    <path d=\"M0 0h24v24H0V0z\" fill=\"none\"/>\n",
              "    <path d=\"M18.56 5.44l.94 2.06.94-2.06 2.06-.94-2.06-.94-.94-2.06-.94 2.06-2.06.94zm-11 1L8.5 8.5l.94-2.06 2.06-.94-2.06-.94L8.5 2.5l-.94 2.06-2.06.94zm10 10l.94 2.06.94-2.06 2.06-.94-2.06-.94-.94-2.06-.94 2.06-2.06.94z\"/><path d=\"M17.41 7.96l-1.37-1.37c-.4-.4-.92-.59-1.43-.59-.52 0-1.04.2-1.43.59L10.3 9.45l-7.72 7.72c-.78.78-.78 2.05 0 2.83L4 21.41c.39.39.9.59 1.41.59.51 0 1.02-.2 1.41-.59l7.78-7.78 2.81-2.81c.8-.78.8-2.07 0-2.86zM5.41 20L4 18.59l7.72-7.72 1.47 1.35L5.41 20z\"/>\n",
              "  </svg>\n",
              "      </button>\n",
              "      \n",
              "  <style>\n",
              "    .colab-df-container {\n",
              "      display:flex;\n",
              "      flex-wrap:wrap;\n",
              "      gap: 12px;\n",
              "    }\n",
              "\n",
              "    .colab-df-convert {\n",
              "      background-color: #E8F0FE;\n",
              "      border: none;\n",
              "      border-radius: 50%;\n",
              "      cursor: pointer;\n",
              "      display: none;\n",
              "      fill: #1967D2;\n",
              "      height: 32px;\n",
              "      padding: 0 0 0 0;\n",
              "      width: 32px;\n",
              "    }\n",
              "\n",
              "    .colab-df-convert:hover {\n",
              "      background-color: #E2EBFA;\n",
              "      box-shadow: 0px 1px 2px rgba(60, 64, 67, 0.3), 0px 1px 3px 1px rgba(60, 64, 67, 0.15);\n",
              "      fill: #174EA6;\n",
              "    }\n",
              "\n",
              "    [theme=dark] .colab-df-convert {\n",
              "      background-color: #3B4455;\n",
              "      fill: #D2E3FC;\n",
              "    }\n",
              "\n",
              "    [theme=dark] .colab-df-convert:hover {\n",
              "      background-color: #434B5C;\n",
              "      box-shadow: 0px 1px 3px 1px rgba(0, 0, 0, 0.15);\n",
              "      filter: drop-shadow(0px 1px 2px rgba(0, 0, 0, 0.3));\n",
              "      fill: #FFFFFF;\n",
              "    }\n",
              "  </style>\n",
              "\n",
              "      <script>\n",
              "        const buttonEl =\n",
              "          document.querySelector('#df-322ec614-936e-4edf-ab71-af0498471899 button.colab-df-convert');\n",
              "        buttonEl.style.display =\n",
              "          google.colab.kernel.accessAllowed ? 'block' : 'none';\n",
              "\n",
              "        async function convertToInteractive(key) {\n",
              "          const element = document.querySelector('#df-322ec614-936e-4edf-ab71-af0498471899');\n",
              "          const dataTable =\n",
              "            await google.colab.kernel.invokeFunction('convertToInteractive',\n",
              "                                                     [key], {});\n",
              "          if (!dataTable) return;\n",
              "\n",
              "          const docLinkHtml = 'Like what you see? Visit the ' +\n",
              "            '<a target=\"_blank\" href=https://colab.research.google.com/notebooks/data_table.ipynb>data table notebook</a>'\n",
              "            + ' to learn more about interactive tables.';\n",
              "          element.innerHTML = '';\n",
              "          dataTable['output_type'] = 'display_data';\n",
              "          await google.colab.output.renderOutput(dataTable, element);\n",
              "          const docLink = document.createElement('div');\n",
              "          docLink.innerHTML = docLinkHtml;\n",
              "          element.appendChild(docLink);\n",
              "        }\n",
              "      </script>\n",
              "    </div>\n",
              "  </div>\n",
              "  "
            ],
            "text/plain": [
              "              business_id        date               review_id  stars  \\\n",
              "0  9yKzy9PApeiPPOUJEtnvkg  2011-01-26  fWKvX83p0-ka4JS3dc6E5A      4   \n",
              "1  ZRJwVLyzEJq1VAihDhYiow  2011-07-27  IjZ33sJrzXqU-0X6U8NwyA      4   \n",
              "2  6oRAC4uyJCsJl1X0WZpVSA  2012-06-14  IESLBzqUCLdSzSqm0eCSxQ      3   \n",
              "3  _1QQZuf4zZOyFCvXc0o6Vg  2010-05-27  G-WvGaISbqqaMHlNnByodA      4   \n",
              "4  6ozycU1RpktNG2-1BroVtw  2012-01-05  1uJFq2r5QfJG_6ExMRCaGw      4   \n",
              "\n",
              "                                                text    type  \\\n",
              "0  My wife took me here on my birthday for breakf...  review   \n",
              "1  I have no idea why some people give bad review...  review   \n",
              "2  love the gyro plate. Rice is so good and I als...  review   \n",
              "3  Rosie, Dakota, and I LOVE Chaparral Dog Park!!...  review   \n",
              "4  General Manager Scott Petello is a good egg!!!...  review   \n",
              "\n",
              "                  user_id  cool  useful  funny  \n",
              "0  rLtl8ZkDX5vH5nAx9C3q5Q     2       5      0  \n",
              "1  0a2KyEL0d3Yb1V6aivbIuQ     0       0      0  \n",
              "2  0hT2KtfLiobPvh6cDC8JQg     0       1      0  \n",
              "3  uZetl9T0NcROGOyFfughhg     1       2      0  \n",
              "4  vYmM4KTsC8ZfQBg-j5MWkw     0       0      0  "
            ]
          },
          "execution_count": 21,
          "metadata": {},
          "output_type": "execute_result"
        }
      ],
      "source": [
        "df.head()"
      ]
    },
    {
      "cell_type": "code",
      "execution_count": 22,
      "metadata": {
        "code_folding": [
          9,
          30
        ],
        "execution": {
          "iopub.execute_input": "2022-09-30T10:04:36.007680Z",
          "iopub.status.busy": "2022-09-30T10:04:36.007068Z",
          "iopub.status.idle": "2022-09-30T10:04:36.018186Z",
          "shell.execute_reply": "2022-09-30T10:04:36.017247Z",
          "shell.execute_reply.started": "2022-09-30T10:04:36.007643Z"
        },
        "id": "VaVkCHUxfRh6",
        "trusted": true
      },
      "outputs": [],
      "source": [
        "EPOCHS = 10\n",
        "\n",
        "optimizer = optim.AdamW(model.parameters(), lr= 1e-5)\n",
        "\n",
        "total_steps = len(train_data_loader) * EPOCHS\n",
        "\n",
        "scheduler = get_linear_schedule_with_warmup(\n",
        "    optimizer, \n",
        "    num_warmup_steps = 0, \n",
        "    num_training_steps=total_steps)\n",
        "\n",
        "# For multi-class classification you would usually just use nn.CrossEntropyLoss \n",
        "loss_fn = nn.CrossEntropyLoss().to(device)\n"
      ]
    },
    {
      "cell_type": "markdown",
      "metadata": {
        "id": "xASNu0l4kzAC"
      },
      "source": [
        "## Training Loop"
      ]
    },
    {
      "cell_type": "code",
      "execution_count": null,
      "metadata": {
        "colab": {
          "base_uri": "https://localhost:8080/"
        },
        "execution": {
          "iopub.execute_input": "2022-09-30T10:04:36.052479Z",
          "iopub.status.busy": "2022-09-30T10:04:36.052189Z",
          "iopub.status.idle": "2022-09-30T10:17:21.965811Z",
          "shell.execute_reply": "2022-09-30T10:17:21.964611Z",
          "shell.execute_reply.started": "2022-09-30T10:04:36.052455Z"
        },
        "id": "0atMu0I8fD0J",
        "outputId": "3cd9e799-e5c3-4814-b343-d4b031c955a0",
        "scrolled": true,
        "trusted": true
      },
      "outputs": [],
      "source": [
        "%%time\n",
        "history = defaultdict(list)\n",
        "best_accuracy = 0\n",
        "\n",
        "for epoch in range(EPOCHS):\n",
        "    print(f'Epoch {epoch + 1}/ {EPOCHS}')\n",
        "    print('-'*15)\n",
        "    train_acc, train_loss = train_epoch(model, train_data_loader, loss_fn, optimizer, device, scheduler, len(df_train))\n",
        "    print(f'Train loss {train_loss} accuracy {train_acc}')\n",
        "\n",
        "    val_acc, val_loss = eval_model(model, val_data_loader, loss_fn, device, len(df_val))\n",
        "    print(f'Val loss {val_loss} accuracy {val_acc}')\n",
        "\n",
        "    history['train_acc'].append(train_acc)\n",
        "    history['train_loss'].append(train_loss)\n",
        "    history['val_acc'].append(val_acc)\n",
        "    history['val_loss'].append(val_loss)\n",
        "  \n",
        "    if val_acc>best_accuracy:\n",
        "        torch.save(model.state_dict(), 'best_model_state.bin')\n",
        "        best_accuracy = val_acc\n",
        "\n",
        "  "
      ]
    },
    {
      "cell_type": "markdown",
      "metadata": {
        "id": "i7NhCQLnk5F3"
      },
      "source": [
        "# Model Evaluation"
      ]
    },
    {
      "cell_type": "code",
      "execution_count": 31,
      "metadata": {
        "code_folding": [
          1,
          25
        ],
        "colab": {
          "base_uri": "https://localhost:8080/",
          "height": 733
        },
        "execution": {
          "iopub.execute_input": "2022-09-30T10:17:27.490861Z",
          "iopub.status.busy": "2022-09-30T10:17:27.490381Z",
          "iopub.status.idle": "2022-09-30T10:17:30.991203Z",
          "shell.execute_reply": "2022-09-30T10:17:30.990200Z",
          "shell.execute_reply.started": "2022-09-30T10:17:27.490809Z"
        },
        "id": "cuj1JI24NkJa",
        "outputId": "7195aa13-57de-4618-f883-3ca96dc579bc",
        "trusted": true
      },
      "outputs": [
        {
          "name": "stdout",
          "output_type": "stream",
          "text": [
            "              precision    recall  f1-score   support\n",
            "\n",
            "      1-Star       0.70      0.55      0.61       100\n",
            "      2-Star       0.40      0.41      0.40       110\n",
            "      3-Star       0.45      0.38      0.41       231\n",
            "      4-Star       0.55      0.56      0.56       567\n",
            "      5-Star       0.63      0.68      0.65       492\n",
            "\n",
            "    accuracy                           0.56      1500\n",
            "   macro avg       0.54      0.52      0.53      1500\n",
            "weighted avg       0.56      0.56      0.56      1500\n",
            "\n"
          ]
        },
        {
          "data": {
            "image/png": "[encoded data removed]",
            "text/plain": [
              "<Figure size 864x576 with 2 Axes>"
            ]
          },
          "metadata": {
            "image/png": {
              "height": 508,
              "width": 707
            }
          },
          "output_type": "display_data"
        }
      ],
      "source": [
        "def show_confusion_matrix(confusion_matrix):\n",
        "    hmap = sns.heatmap(confusion_matrix, annot=True, fmt=\"d\", cmap=\"Blues\")\n",
        "    hmap.yaxis.set_ticklabels(hmap.yaxis.get_ticklabels(), rotation = 0, ha='right')\n",
        "    hmap.xaxis.set_ticklabels(hmap.xaxis.get_ticklabels(), rotation = 30, ha='right')\n",
        "    plt.ylabel('True Sentiment')\n",
        "    plt.xlabel('Predicted Sentiment')\n",
        "\n",
        "y_review_texts, y_pred, y_pred_probs, y_test = get_predictions(model, test_data_loader)\n",
        "print(classification_report(y_test, y_pred, target_names=class_names))\n",
        "\n",
        "cm = confusion_matrix(y_test, y_pred)\n",
        "df_cm = pd.DataFrame(cm, index=class_names, columns = class_names)\n",
        "show_confusion_matrix(df_cm)"
      ]
    },
    {
      "cell_type": "code",
      "execution_count": 33,
      "metadata": {
        "colab": {
          "base_uri": "https://localhost:8080/"
        },
        "execution": {
          "iopub.execute_input": "2022-09-30T10:17:31.377571Z",
          "iopub.status.busy": "2022-09-30T10:17:31.377211Z",
          "iopub.status.idle": "2022-09-30T10:17:31.408543Z",
          "shell.execute_reply": "2022-09-30T10:17:31.407602Z",
          "shell.execute_reply.started": "2022-09-30T10:17:31.377537Z"
        },
        "id": "vrvFFMASWigO",
        "outputId": "3a8d36a5-22b9-4679-d9e6-6af424dfe796",
        "trusted": true
      },
      "outputs": [
        {
          "name": "stdout",
          "output_type": "stream",
          "text": [
            "Review text: I could share photos seamlessly with this app\n",
            "Sentiment  : 5-Star\n"
          ]
        },
        {
          "name": "stderr",
          "output_type": "stream",
          "text": [
            "/usr/local/lib/python3.7/dist-packages/transformers/tokenization_utils_base.py:2308: FutureWarning: The `pad_to_max_length` argument is deprecated and will be removed in a future version, use `padding=True` or `padding='longest'` to pad to the longest sequence in the batch, or use `padding='max_length'` to pad to a max length. In this case, you can give a specific length with `max_length` (e.g. `max_length=45`) or leave max_length to None to pad to the maximal input size of the model (e.g. 512 for Bert).\n",
            "  FutureWarning,\n"
          ]
        }
      ],
      "source": [
        "review_text = \"I could share photos seamlessly with this app\"\n",
        "encoded_review = tokenizer.encode_plus(review_text, max_length=MAX_LEN, add_special_tokens=True, return_token_type_ids=False, pad_to_max_length=True, return_attention_mask=True,\n",
        "                                       truncation=True, return_tensors='pt')\n",
        "input_ids = encoded_review['input_ids'].to(device)\n",
        "attention_mask=encoded_review['attention_mask'].to(device)\n",
        "output = model(input_ids, attention_mask)\n",
        "_,prediction = torch.max(output, dim=1)\n",
        "\n",
        "print(f'Review text: {review_text}')\n",
        "print(f'Sentiment  : {class_names[prediction]}')\n",
        "\n"
      ]
    },
    {
      "cell_type": "code",
      "execution_count": 34,
      "metadata": {
        "colab": {
          "base_uri": "https://localhost:8080/"
        },
        "execution": {
          "iopub.execute_input": "2022-09-30T10:17:31.410676Z",
          "iopub.status.busy": "2022-09-30T10:17:31.410031Z",
          "iopub.status.idle": "2022-09-30T10:17:31.436679Z",
          "shell.execute_reply": "2022-09-30T10:17:31.435741Z",
          "shell.execute_reply.started": "2022-09-30T10:17:31.410642Z"
        },
        "id": "Ma6GjPBnA8Ta",
        "outputId": "6e9b1451-f999-43d3-f13a-e013394976da",
        "trusted": true
      },
      "outputs": [
        {
          "name": "stdout",
          "output_type": "stream",
          "text": [
            "Review text: I could share photos seamlessly with this app, but the UI could be better\n",
            "Sentiment  : 3-Star\n"
          ]
        }
      ],
      "source": [
        "review_text = \"I could share photos seamlessly with this app, but the UI could be better\"\n",
        "encoded_review = tokenizer.encode_plus(review_text, max_length=MAX_LEN, add_special_tokens=True, return_token_type_ids=False, pad_to_max_length=True, return_attention_mask=True,\n",
        "                                       truncation=True, return_tensors='pt')\n",
        "input_ids = encoded_review['input_ids'].to(device)\n",
        "attention_mask=encoded_review['attention_mask'].to(device)\n",
        "output = model(input_ids, attention_mask)\n",
        "_,prediction = torch.max(output, dim=1)\n",
        "\n",
        "print(f'Review text: {review_text}')\n",
        "print(f'Sentiment  : {class_names[prediction]}')"
      ]
    }
  ],
  "metadata": {
    "accelerator": "GPU",
    "colab": {
      "collapsed_sections": [],
      "provenance": []
    },
    "kernelspec": {
      "display_name": "Python 3",
      "language": "python",
      "name": "python3"
    },
    "language_info": {
      "codemirror_mode": {
        "name": "ipython",
        "version": 3
      },
      "file_extension": ".py",
      "mimetype": "text/x-python",
      "name": "python",
      "nbconvert_exporter": "python",
      "pygments_lexer": "ipython3",
      "version": "3.9.14"
    },
    "varInspector": {
      "cols": {
        "lenName": 16,
        "lenType": 16,
        "lenVar": 40
      },
      "kernels_config": {
        "python": {
          "delete_cmd_postfix": "",
          "delete_cmd_prefix": "del ",
          "library": "var_list.py",
          "varRefreshCmd": "print(var_dic_list())"
        },
        "r": {
          "delete_cmd_postfix": ") ",
          "delete_cmd_prefix": "rm(",
          "library": "var_list.r",
          "varRefreshCmd": "cat(var_dic_list()) "
        }
      },
      "types_to_exclude": [
        "module",
        "function",
        "builtin_function_or_method",
        "instance",
        "_Feature"
      ],
      "window_display": false
    },
    "vscode": {
      "interpreter": {
        "hash": "36cf16204b8548560b1c020c4e8fb5b57f0e4c58016f52f2d4be01e192833930"
      }
    }
  },
  "nbformat": 4,
  "nbformat_minor": 0
}
