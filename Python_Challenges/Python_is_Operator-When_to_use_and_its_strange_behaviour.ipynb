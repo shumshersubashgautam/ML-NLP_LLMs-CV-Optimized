{
 "cells": [
  {
   "cell_type": "markdown",
   "metadata": {},
   "source": [
    "## Python \"is\" Operator - When to use and its strange behaviour\n",
    "\n"
   ]
  },
  {
   "cell_type": "code",
   "execution_count": 4,
   "metadata": {},
   "outputs": [
    {
     "data": {
      "text/plain": [
       "True"
      ]
     },
     "execution_count": 4,
     "metadata": {},
     "output_type": "execute_result"
    }
   ],
   "source": [
    "a = 256\n",
    "b = 256\n",
    "\n",
    "a is b\n"
   ]
  },
  {
   "cell_type": "code",
   "execution_count": 5,
   "metadata": {},
   "outputs": [
    {
     "data": {
      "text/plain": [
       "True"
      ]
     },
     "execution_count": 5,
     "metadata": {},
     "output_type": "execute_result"
    }
   ],
   "source": [
    "a == b"
   ]
  },
  {
   "cell_type": "code",
   "execution_count": 8,
   "metadata": {},
   "outputs": [
    {
     "data": {
      "text/plain": [
       "False"
      ]
     },
     "execution_count": 8,
     "metadata": {},
     "output_type": "execute_result"
    }
   ],
   "source": [
    "\n",
    "a = 257\n",
    "b = 257\n",
    "\n",
    "# a == b\n",
    "\n",
    "a is b"
   ]
  },
  {
   "cell_type": "markdown",
   "metadata": {},
   "source": [
    "Python is operator compares two variables and returns True if they reference the same object. If the two variables reference different objects, the is operator returns False.\n",
    "\n",
    "In other words, the is operator compares the identity of two variables and returns True if they reference the same object.\n",
    "\n",
    "So Very roughly, the 'is' operator compares the memory locations of some object.\n",
    "\n",
    "![](2022-06-26-18-53-21.png)\n",
    "\n",
    "------------\n",
    "\n",
    "== operator compares the values of both the operands and checks if they are the same.\n",
    "\n",
    "So the operator \"is\" is for reference equality and == is for value equality.\n",
    "\n",
    "---------------------"
   ]
  },
  {
   "cell_type": "markdown",
   "metadata": {},
   "source": [
    "In Python as a compiler optimization strategy, When you start up python the numbers from -5 to 256 will be allocated. These numbers are used a lot, so it makes sense just to have them ready.\n",
    "\n",
    "So, when you assign a name to an integer between -5 and 256 inclusively, Python assigns predetermined memory locations that contain that integer to the name. \n",
    "\n",
    "\n",
    "For numbers over 256, Python creates a new memory location and fills it with the desired number, before pointing the name to that memory location.\n",
    "\n",
    "\n",
    "So in above when I am doing b = 257 after doing a = 257, the interpreter isn't smart enough while executing b = 257 to recognize that we've already created an integer of the value 257, and so it goes ahead and creates another object in the memory."
   ]
  },
  {
   "cell_type": "markdown",
   "metadata": {},
   "source": [
    "------------\n",
    "\n",
    "== operator compares the values of both the operands and checks if they are the same.\n",
    "\n",
    "So the operator \"is\" is for reference equality and == is for value equality."
   ]
  },
  {
   "cell_type": "markdown",
   "metadata": {},
   "source": [
    "### Use the is operator to check two variables for identity and\n",
    "\n",
    "### == to check for two variables for equality."
   ]
  },
  {
   "cell_type": "code",
   "execution_count": null,
   "metadata": {},
   "outputs": [],
   "source": []
  }
 ],
 "metadata": {
  "kernelspec": {
   "display_name": "Python 3.9.13 64-bit",
   "language": "python",
   "name": "python3"
  },
  "language_info": {
   "codemirror_mode": {
    "name": "ipython",
    "version": 3
   },
   "file_extension": ".py",
   "mimetype": "text/x-python",
   "name": "python",
   "nbconvert_exporter": "python",
   "pygments_lexer": "ipython3",
   "version": "3.9.13"
  },
  "orig_nbformat": 4,
  "vscode": {
   "interpreter": {
    "hash": "36cf16204b8548560b1c020c4e8fb5b57f0e4c58016f52f2d4be01e192833930"
   }
  }
 },
 "nbformat": 4,
 "nbformat_minor": 2
}
