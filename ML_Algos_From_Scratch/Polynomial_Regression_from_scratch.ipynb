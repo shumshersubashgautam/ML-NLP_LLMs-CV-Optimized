{
 "cells": [
  {
   "attachments": {},
   "cell_type": "markdown",
   "metadata": {},
   "source": [
    " Polynomial Regression From Scratch\n",
    "\n",
    "----------------\n",
    "\n",
    "\n",
    "\n",
    "Polynomial regression is a type of regression analysis in machine learning that models the relationship between the independent variable (input) and the dependent variable (output) as a polynomial function. It extends the concept of linear regression by introducing higher-order terms of the independent variable.\n",
    "\n",
    "The general equation for polynomial regression with a single independent variable is:\n",
    "\n",
    "\n",
    "\n",
    "## $$ y = β0 + β1x + β2x^2 + β3x^3 + ... + βn*x^n $$\n",
    "\n",
    "\n",
    "\n",
    "Polynomial regression can be considered an instance of multiple linear regression. Instead of fitting a straight line or a hyperplane, polynomial regression fits a curve or a surface to the data points."
   ]
  },
  {
   "cell_type": "code",
   "execution_count": 1,
   "metadata": {},
   "outputs": [],
   "source": [
    "import numpy as np\n",
    "import matplotlib.pyplot as plt"
   ]
  },
  {
   "cell_type": "code",
   "execution_count": 2,
   "metadata": {},
   "outputs": [],
   "source": [
    "np.random.seed(42)\n",
    "\n",
    "X = np.random.rand(1000,1)\n",
    "\n",
    "y = 5*((X)**(2)) + np.random.rand(1000,1)\n"
   ]
  },
  {
   "attachments": {},
   "cell_type": "markdown",
   "metadata": {},
   "source": [
    "<div style=\"background: linear-gradient(45deg, #FFC300, #FF5733, #C70039, #900C3F); padding: 10px; border-radius: 5px; display: flex; align-items: center;\">\n",
    "    <h3 style=\"font-weight: bold; color: white; margin: 0 auto;\"> Loss function (Mean squared error )</h3>\n",
    "</div>\n",
    "\n"
   ]
  },
  {
   "cell_type": "code",
   "execution_count": 3,
   "metadata": {},
   "outputs": [],
   "source": [
    "def loss_function(y_true, y_hat):\n",
    "    \"\"\"\n",
    "    This function calculates the Mean Squared Error (MSE) loss between the true values and the predictions. \n",
    "    It is commonly used in regression problems.\n",
    "    \n",
    "    Parameters\n",
    "    ----------\n",
    "    y : numpy.ndarray\n",
    "        The true/target values. It should be a 1-D array of real values.\n",
    "        \n",
    "    y_hat : numpy.ndarray\n",
    "        The predicted values, also known as the hypothesis. It should be a 1-D array of real values of \n",
    "        the same length as 'y'.\n",
    "        \n",
    "    Returns\n",
    "    -------\n",
    "    float\n",
    "        The mean squared error loss between the true and predicted values.\n",
    "    \"\"\"   \n",
    "    \n",
    "    loss = np.mean((y_hat - y_true)**2)\n",
    "    \n",
    "    return loss\n",
    "\n",
    "\n"
   ]
  },
  {
   "attachments": {},
   "cell_type": "markdown",
   "metadata": {},
   "source": [
    "<div style=\"background: linear-gradient(45deg, #FFC300, #FF5733, #C70039, #900C3F); padding: 10px; border-radius: 5px; display: flex; align-items: center;\">\n",
    "    <h3 style=\"font-weight: bold; color: white; margin: 0 auto;\"> Function to calculate gradients</h3>\n",
    "</div>"
   ]
  },
  {
   "cell_type": "code",
   "execution_count": 4,
   "metadata": {},
   "outputs": [],
   "source": [
    "def calculate_gradients(X, y_true, y_pred):\n",
    "    \"\"\"\n",
    "    This function calculates the gradients of the loss function with respect to the weights and bias. \n",
    "    This is used in the backpropagation step of gradient descent optimization algorithms.\n",
    "    \n",
    "    Parameters\n",
    "    ----------\n",
    "    X : numpy.ndarray\n",
    "        The input data. It should be a 2-D array where each row is a sample and each column is a feature.\n",
    "        \n",
    "    y_true : numpy.ndarray\n",
    "        The true/target values. It should be a 1-D array of real values.\n",
    "        \n",
    "    y_pred : numpy.ndarray\n",
    "        The predicted values, also known as the hypothesis. It should be a 1-D array of real values of \n",
    "        the same length as 'y_true'.\n",
    "        \n",
    "    Returns\n",
    "    -------\n",
    "    dw : numpy.ndarray\n",
    "        The gradient of the loss with respect to the weights. It is of the same shape as the weights.\n",
    "        \n",
    "    db : float\n",
    "        The gradient of the loss with respect to the bias. It is a single float number.\n",
    "    \"\"\"\n",
    "\n",
    "    # num_rows represents the number of training examples.\n",
    "    num_rows = X.shape[0]\n",
    "    \n",
    "    # Gradient of loss with respect to weights (dw).\n",
    "    # This is calculated by taking the dot product of the transpose of X with the difference of the predicted and true values,\n",
    "    # and scaling by 1/num_rows.\n",
    "    dw = (1/num_rows)*np.dot(X.T, (y_pred - y_true))\n",
    "    \n",
    "    # Gradient of loss with respect to bias (db).\n",
    "    # This is calculated by summing up the difference of the predicted and true values, and scaling by 1/num_rows.\n",
    "    db = (1/num_rows)*np.sum((y_pred - y_true)) \n",
    "    \n",
    "    return dw, db"
   ]
  },
  {
   "attachments": {},
   "cell_type": "markdown",
   "metadata": {},
   "source": [
    "## Vectorized formula to compute the gradient of the loss with respect to the weights using the mean squared error (MSE) loss. \n",
    "\n",
    "Assuming X is the input matrix of shape (num_rows, n) i.e. (num_samples, num_features), y_true is the target values vector of shape (num_rows, 1), and y_hat is the predicted values vector of shape (num_rows, 1), the vectorized formula for the gradient is as follows:\n",
    "\n",
    "`dw = (1/num_rows)*np.dot(X.T, (y_pred - y_true))`\n",
    "\n",
    "The difference (y_hat - y_true) is a vector (with shape [num_rows, 1]), representing the errors of the predictions.\n",
    "The dot product of the transpose of X (with shape [n, num_rows]) and the errors vector results in a vector (with shape [n, 1]) which represents the gradient of the loss with respect to the weights.\n",
    "\n",
    "`dw = (1/num_rows)*np.dot(X.T, (y_pred - y_true))`\n",
    "\n",
    "\n",
    "These gradients are used to update the weights and the bias in the opposite direction of the gradient to minimize the loss during the training of the model."
   ]
  },
  {
   "attachments": {},
   "cell_type": "markdown",
   "metadata": {},
   "source": [
    "## Function to add features to input data"
   ]
  },
  {
   "cell_type": "code",
   "execution_count": 5,
   "metadata": {},
   "outputs": [],
   "source": [
    "def create_polynomial_feature_set(X, degrees):\n",
    "    \"\"\"\n",
    "    This function is used to transform the input data by adding higher degree features. This is useful in the context\n",
    "    of Polynomial regression where the relationship between the independent and dependent variables is modeled as an\n",
    "    nth degree polynomial.\n",
    "    \n",
    "    For example, suppose we have one feature (X) and we want to do a 2nd degree polynomial regression. We transform X into [X, X^2]\n",
    "    \n",
    "    If we had chosen degrees to be [2, 3], the transformed X would have been [X, X^2, X^3].\n",
    "\n",
    "    Parameters\n",
    "    ----------\n",
    "    X : numpy.ndarray\n",
    "        The input data, where each row is a data point and each column represents a feature.\n",
    "        \n",
    "    degrees : list of int\n",
    "        The degrees for which we want to add features. Each value in this list will add a new feature\n",
    "        to the input data where the values of the new feature are the values of the original feature raised\n",
    "        to the power of the degree.\n",
    "\n",
    "    Returns\n",
    "    -------\n",
    "    numpy.ndarray\n",
    "        The transformed data with additional polynomial features.\n",
    "        \n",
    "    \"\"\"\n",
    "    \n",
    "    # Making a copy of the original input data\n",
    "    t = X.copy()\n",
    "    \n",
    "    # For each specified degree, we create a new feature where the values are the values of the original\n",
    "    # feature raised to the power of the degree, and append this new feature to the input data.\n",
    "    for i in degrees:\n",
    "        X = np.append(X, t**i, axis=1)\n",
    "            \n",
    "    return X\n"
   ]
  },
  {
   "attachments": {},
   "cell_type": "markdown",
   "metadata": {},
   "source": [
    "## Training Function"
   ]
  },
  {
   "cell_type": "code",
   "execution_count": 6,
   "metadata": {},
   "outputs": [],
   "source": [
    "def train(X, y, batch_size, degrees, epochs, lr):\n",
    "    \n",
    "    \"\"\"\n",
    "    Function to perform polynomial regression from scratch.\n",
    "    \n",
    "    Parameters:\n",
    "    X (numpy.ndarray): The input features, a 2D array of size (number of examples, number of features).\n",
    "    y (numpy.ndarray): The true/target values, a 1D array of size (number of examples).\n",
    "    batch_size (int): The size of the batch to be used for batch gradient descent.\n",
    "    degrees (list): List of degrees for polynomial features to be created.\n",
    "    epochs (int): Number of iterations to train the model.\n",
    "    lr (float): The learning rate for the model.\n",
    "    \n",
    "    Returns:\n",
    "    w (numpy.ndarray): The learned weights of the model.\n",
    "    b (float): The learned bias of the model.\n",
    "    losses (list): List of losses computed at each epoch.\n",
    "    \"\"\"\n",
    "    \n",
    "    # Creating features to input X.\n",
    "    x = create_polynomial_feature_set(X, degrees)\n",
    "    \n",
    "    # m-> number of training examples\n",
    "    # n-> number of features \n",
    "    m, n = x.shape\n",
    "    \n",
    "    # Initializing weights and bias to zeros.\n",
    "    w = np.zeros((n,1))\n",
    "    b = 0\n",
    "    \n",
    "    # Reshaping y.\n",
    "    y = y.reshape(m,1)\n",
    "    \n",
    "    # Empty list to store losses.\n",
    "    losses = []\n",
    "    \n",
    "    # Training loop.\n",
    "    for epoch in range(epochs):\n",
    "        for i in range((m-1)//batch_size + 1):\n",
    "            \n",
    "            # Defining batches.\n",
    "            start_i = i*batch_size\n",
    "            end_i = start_i + batch_size\n",
    "            x_batch = x[start_i:end_i]\n",
    "            y_batch = y[start_i:end_i]\n",
    "            \n",
    "            # Calculating hypothesis\n",
    "            y_hat = np.dot(x_batch, w) + b\n",
    "            \n",
    "            # Getting the gradients of loss w.r.t parameters.\n",
    "            dw, db = calculate_gradients(x_batch, y_batch, y_hat)\n",
    "            \n",
    "            # Updating the parameters.\n",
    "            w -= lr*dw\n",
    "            b -= lr*db\n",
    "        \n",
    "        # Calculating loss and appending it in the list.\n",
    "        l = loss_function(y, np.dot(x, w) + b)\n",
    "        losses.append(l)\n",
    "        \n",
    "    # returning weights, bias and losses(List).\n",
    "    return w, b, losses"
   ]
  },
  {
   "attachments": {},
   "cell_type": "markdown",
   "metadata": {},
   "source": [
    "\n",
    "<div style=\"background: linear-gradient(45deg, #FFC300, #FF5733, #C70039, #900C3F); padding: 10px; border-radius: 5px; display: flex; align-items: center;\">\n",
    "    <h3 style=\"font-weight: bold; color: white; margin: 0 auto;\"> Predict Function </h3>\n",
    "</div>\n"
   ]
  },
  {
   "cell_type": "code",
   "execution_count": 7,
   "metadata": {},
   "outputs": [],
   "source": [
    "def predict(X, w, b, degrees):\n",
    "    \n",
    "    \"\"\"\n",
    "    Predicts the output using Polynomial Regression.\n",
    "\n",
    "    Parameters:\n",
    "        X (numpy array): Input data.\n",
    "        w (numpy array): Weights (parameters) for each feature.\n",
    "        b (float): Bias (parameter).\n",
    "        degrees (list): List of degrees. Add X^(value) feature to the input\n",
    "                        where value is one of the values in the list.\n",
    "\n",
    "    Returns:\n",
    "        numpy array: Predicted values.\n",
    "\n",
    "    \"\"\"\n",
    "    \n",
    "    # Adding featurs with degrees to input X.\n",
    "    x1 = create_polynomial_feature_set(X, degrees)\n",
    "    \n",
    "    # Returning predictions.\n",
    "    return np.dot(x1, w) + b"
   ]
  },
  {
   "attachments": {},
   "cell_type": "markdown",
   "metadata": {},
   "source": [
    "<div style=\"background: linear-gradient(45deg, #FFC300, #FF5733, #C70039, #900C3F); padding: 10px; border-radius: 5px; display: flex; align-items: center;\">\n",
    "    <h3 style=\"font-weight: bold; color: white; margin: 0 auto;\"> Training and Plotting Predictions </h3>\n",
    "</div>"
   ]
  },
  {
   "cell_type": "code",
   "execution_count": 8,
   "metadata": {},
   "outputs": [
    {
     "data": {
      "image/png": "[encoded data removed]",
      "text/plain": [
       "<Figure size 800x600 with 1 Axes>"
      ]
     },
     "metadata": {},
     "output_type": "display_data"
    }
   ],
   "source": [
    "w_trained, b_trained, losses_trained = train(X, y, batch_size=100, degrees=[2], epochs=1000,\n",
    "                lr=0.01)\n",
    "y_hat = predict(X, w_trained, b_trained, [2])\n",
    "\n",
    "# Plotting\n",
    "fig = plt.figure(figsize=(8,6))\n",
    "\n",
    "plt.plot(X, y, 'y.')\n",
    "\n",
    "plt.plot(X, y_hat, 'r.')\n",
    "\n",
    "plt.legend([\"True Data Points\", \"Predictions from Polynomial Regression\"])\n",
    "\n",
    "plt.xlabel('X - Input')\n",
    "\n",
    "plt.ylabel('y - target / true')\n",
    "\n",
    "plt.title('Polynomial Regression')\n",
    "\n",
    "plt.show()\n"
   ]
  },
  {
   "attachments": {},
   "cell_type": "markdown",
   "metadata": {},
   "source": [
    "## r2 Score\n",
    "\n",
    "R² = 1 - (SSR / SST)\n",
    "Where:\n",
    "\n",
    "- SSR (Sum of Squared Residuals) is the sum of the squared differences between the predicted values and the actual values.\n",
    "\n",
    "- SST (Total Sum of Squares) is the sum of the squared differences between the actual values and the mean of the dependent variable.\n",
    "\n",
    "\n",
    "### Alternatively, the formula can also be expressed using the explained sum of squares (SSE) and total sum of squares (TSS):\n",
    "\n",
    "## $$ R² = 1 - (SSE / TSS) $$ \n",
    "\n",
    "Where:\n",
    "\n",
    "- SSE (Explained Sum of Squares) is the sum of the squared differences between the predicted values and the mean of the dependent variable.\n",
    "\n",
    "- TSS (Total Sum of Squares) is the sum of the squared differences between the actual values and the mean of the dependent variable.\n",
    "\n",
    "\n",
    "In both formulations, R² ranges from 0 to 1. A higher R-squared value indicates a better fit of the regression model to the data, where 1 indicates a perfect fit and 0 indicates that the model does not explain any of the variance in the dependent variable. \n",
    "\n"
   ]
  },
  {
   "cell_type": "code",
   "execution_count": 9,
   "metadata": {},
   "outputs": [],
   "source": [
    "def r2_score(y, y_hat):\n",
    "    \"\"\" \n",
    "    SSE (Explained Sum of Squares) is the sum of the squared differences between the predicted values and the mean of the dependent variable.\n",
    "\n",
    "    TSS (Total Sum of Squares) is the sum of the squared differences between the actual values and the mean of the dependent variable. \n",
    "    \n",
    "    R² = 1 - (SSE / TSS)\n",
    "    \n",
    "    \"\"\"\n",
    "    sse = np.sum((np.array(y_hat)-np.array(y))**2)\n",
    "    tss = np.sum((np.array(y)-np.mean(np.array(y)))**2)\n",
    "    return 1 - (sse / tss )\n"
   ]
  },
  {
   "cell_type": "code",
   "execution_count": 10,
   "metadata": {},
   "outputs": [
    {
     "data": {
      "text/plain": [
       "0.9551785719360419"
      ]
     },
     "execution_count": 10,
     "metadata": {},
     "output_type": "execute_result"
    }
   ],
   "source": [
    "y_pred = predict(X, w_trained, b_trained, [2])\n",
    "\n",
    "r2_score(y, y_pred)"
   ]
  }
 ],
 "metadata": {
  "kernelspec": {
   "display_name": "Python 3.9.6 64-bit",
   "language": "python",
   "name": "python3"
  },
  "language_info": {
   "codemirror_mode": {
    "name": "ipython",
    "version": 3
   },
   "file_extension": ".py",
   "mimetype": "text/x-python",
   "name": "python",
   "nbconvert_exporter": "python",
   "pygments_lexer": "ipython3",
   "version": "3.10.9"
  },
  "orig_nbformat": 4,
  "vscode": {
   "interpreter": {
    "hash": "aee8b7b246df8f9039afb4144a1f6fd8d2ca17a180786b69acc140d282b71a49"
   }
  }
 },
 "nbformat": 4,
 "nbformat_minor": 2
}
