{
 "cells": [
  {
   "attachments": {},
   "cell_type": "markdown",
   "metadata": {},
   "source": [
    "Linear Regression From Scratch with Pure Python\n"
   ]
  },
  {
   "attachments": {},
   "cell_type": "markdown",
   "metadata": {},
   "source": [
    "## A line can be represented by the formula: $y = mx + b$"
   ]
  },
  {
   "attachments": {},
   "cell_type": "markdown",
   "metadata": {},
   "source": [
    "![](2022-10-02-21-44-06.png)\n",
    "\n",
    "![](2022-10-02-21-44-38.png)"
   ]
  },
  {
   "attachments": {},
   "cell_type": "markdown",
   "metadata": {},
   "source": [
    "![](2022-10-02-21-48-57.png)\n",
    "\n",
    "Similarly, let’s find the partial derivative with respect to c. Let partial derivative of the Cost function with respect to c be Dc (With little change in c how much Cost function changes).\n",
    "\n",
    "![](2022-10-02-21-49-36.png)"
   ]
  },
  {
   "attachments": {},
   "cell_type": "markdown",
   "metadata": {},
   "source": [
    "-------------------\n",
    "\n",
    "## Now update the current values of m and c using the following equation:\n",
    "\n",
    "![](2022-10-02-21-50-42.png)\n",
    "-------------------"
   ]
  },
  {
   "attachments": {},
   "cell_type": "markdown",
   "metadata": {},
   "source": [
    "## To summarize, the steps are:\n",
    "\n",
    "* Estimate θ\n",
    "* Compute cost\n",
    "* Tweak θ\n",
    "* Repeat 2 and 3 until you reach convergence."
   ]
  },
  {
   "cell_type": "code",
   "execution_count": 3,
   "metadata": {},
   "outputs": [
    {
     "name": "stdout",
     "output_type": "stream",
     "text": [
      "MSE is  1146.4784002238516\n",
      "Accuracy is  0.9043244251217009\n"
     ]
    },
    {
     "data": {
      "image/png": "[encoded data removed]",
      "text/plain": [
       "<Figure size 1152x864 with 1 Axes>"
      ]
     },
     "metadata": {
      "needs_background": "light"
     },
     "output_type": "display_data"
    }
   ],
   "source": [
    "from tkinter import Y\n",
    "import numpy as np\n",
    "\n",
    "\n",
    "def r2_score(y_true, y_pred):\n",
    "    \"\"\"\n",
    "    Calculates the coefficient of determination (R-squared) for regression, which measures the proportion of the variance in the dependent variable that is predictable from the independent variables.\n",
    "\n",
    "    Args:\n",
    "        y_true (numpy.ndarray): True target values.\n",
    "        y_pred (numpy.ndarray): Predicted target values.\n",
    "\n",
    "    Returns:\n",
    "        float: R-squared score.\n",
    "\n",
    "    \"\"\"\n",
    "    corr_matrix = np.corrcoef(y_true, y_pred)\n",
    "    corr = corr_matrix[0, 1]\n",
    "    return corr ** 2\n",
    "\n",
    "\n",
    "class LinearRegression:\n",
    "    def __init__(self, learning_rate = 0.0001, n_iter = 1000 ):\n",
    "        \"\"\"\n",
    "        Linear regression model.\n",
    "\n",
    "        Args:\n",
    "            learning_rate (float): Learning rate for gradient descent. Default is 0.0001.\n",
    "            n_iter (int): Number of iterations for gradient descent. Default is 1000.\n",
    "\n",
    "        \"\"\"\n",
    "        self.lr = learning_rate\n",
    "        self.n_iter = n_iter\n",
    "        self.weights = None\n",
    "        self.bias = None\n",
    "\n",
    "    def fit(self, X, y):\n",
    "        \"\"\"\n",
    "        Fits the linear regression model to the training data by performing gradient descent to update the weights and bias.\n",
    "\n",
    "        Args:\n",
    "            X (numpy.ndarray): Training input features.\n",
    "            y (numpy.ndarray): Training target values.\n",
    "\n",
    "        \"\"\"\n",
    "        n_samples, n_features = X.shape\n",
    "\n",
    "        # initialize the parameters\n",
    "        self.weights = np.zeros(n_features)\n",
    "        self.bias = 0\n",
    "\n",
    "        #gradient descent mechanism implementation\n",
    "        for _ in range(self.n_iter):\n",
    "            y_predicted = np.dot(X, self.weights) + self.bias\n",
    "\n",
    "            # now update the slope i.e. the b term\n",
    "            dw = (1 / n_samples) * np.dot(X.T,  (y_predicted - y) )\n",
    "\n",
    "            # update the Intercept\n",
    "            db = ( 1 / n_samples) * np.sum(y_predicted - y)\n",
    "\n",
    "            #update the full weights and bias values\n",
    "            self.weights -= self.lr * dw\n",
    "            self.bias -= self.lr * db\n",
    "\n",
    "    def predict(self, X):\n",
    "        \"\"\"\n",
    "        Generates predictions for the input data by calculating the dot product of the input features and the learned weights, and adding the bias term.\n",
    "\n",
    "        Args:\n",
    "            X (numpy.ndarray): Input features.\n",
    "\n",
    "        Returns:\n",
    "            numpy.ndarray: Predicted target values.\n",
    "\n",
    "        \"\"\"\n",
    "        y_approx = np.dot(X, self.weights) + self.bias\n",
    "        return y_approx\n",
    "\n",
    "\n",
    "# Test the implementation\n",
    "\n",
    "import matplotlib.pyplot as plt\n",
    "from sklearn.model_selection import train_test_split\n",
    "from sklearn import datasets\n",
    "\n",
    "def mean_squared_error(y_true, y_pred):\n",
    "    return np.mean((y_true - y_pred) **2)\n",
    "\n",
    "X, y = datasets.make_regression(\n",
    "    n_samples=100, n_features=1, noise = 20, random_state = 42\n",
    ")\n",
    "\n",
    "X_train, X_test, y_train, y_test = train_test_split(X, y, test_size=0.1, random_state=42)\n",
    "\n",
    "regressor = LinearRegression(learning_rate=0.001, n_iter=1000)\n",
    "\n",
    "regressor.fit(X_train, y_train)\n",
    "\n",
    "predictions = regressor.predict(X_test)\n",
    "\n",
    "mse = mean_squared_error(y_test, predictions)\n",
    "\n",
    "print('MSE is ', mse)\n",
    "\n",
    "accu = r2_score(y_test, predictions)\n",
    "\n",
    "print('Accuracy is ', accu)\n",
    "\n",
    "y_pred_line = regressor.predict(X)\n",
    "\n",
    "cmap = plt.get_cmap(\"viridis\")\n",
    "\n",
    "fig = plt.figure(figsize=(16, 12))\n",
    "\n",
    "m1 = plt.scatter(X_train, y_train, color = cmap(0.9), s = 10 )\n",
    "\n",
    "m2 = plt.scatter(X_test, y_test, color = cmap(0.5), s=10)\n",
    "\n",
    "plt.plot(X, y_pred_line, color = 'red', linewidth = 2, label = \"Predictions\")\n",
    "\n",
    "plt.show()"
   ]
  },
  {
   "cell_type": "code",
   "execution_count": null,
   "metadata": {},
   "outputs": [],
   "source": []
  }
 ],
 "metadata": {
  "kernelspec": {
   "display_name": "Python 3.8.10 64-bit",
   "language": "python",
   "name": "python3"
  },
  "language_info": {
   "codemirror_mode": {
    "name": "ipython",
    "version": 3
   },
   "file_extension": ".py",
   "mimetype": "text/x-python",
   "name": "python",
   "nbconvert_exporter": "python",
   "pygments_lexer": "ipython3",
   "version": "3.8.10"
  },
  "orig_nbformat": 4,
  "vscode": {
   "interpreter": {
    "hash": "31f2aee4e71d21fbe5cf8b01ff0e069b9275f58929596ceb00d14d90e3e16cd6"
   }
  }
 },
 "nbformat": 4,
 "nbformat_minor": 2
}
